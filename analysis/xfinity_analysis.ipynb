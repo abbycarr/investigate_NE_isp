{
 "cells": [
  {
   "cell_type": "markdown",
   "metadata": {},
   "source": [
    "## Xfinity Analysis of the NorthEast\n",
    " \n",
    "The following notebook takes in an input file from INSERT FILE PATH. This file was generated from the following rough path:\n",
    "Addresses A --> For Each ISP:                \n",
    "                scraping(A) --> ISP output A\n",
    "\n",
    "For Each Output File (ISP) --> Census Demographics(ISP) --> Total ISP\n",
    "                           --> Redlining Matching(ISP)\n",
    "\n",
    "Given a Total ISP file for Xfinity, it will contain:\n",
    "\n"
   ]
  },
  {
   "cell_type": "code",
   "execution_count": null,
   "metadata": {},
   "outputs": [],
   "source": [
    "# Input File Paths\n",
    "isp_directory = \"/data/isp/aggregated_xfinity.xxxxx\"\n",
    "\n",
    "# Output File Paths\n",
    "xfinity_plots = \"/outputs/Xfinity/xxxxx\""
   ]
  },
  {
   "cell_type": "markdown",
   "metadata": {},
   "source": [
    "{...\n",
    "\n",
    "  CLASS `Address`: (contains `addressfull` methods)\n",
    "  - `self.line1 = firstline`\n",
    "  - `self.line2 = secondline`\n",
    "  - `self.city = city`\n",
    "  - `self.state = state`\n",
    "  - `self.zipcode = zipcode`\n",
    "  - `self.apt_type = apt_type`\n",
    "  - `self.apt_number = apt_number`\n",
    "\n",
    "  ADDITIONALLY:\n",
    "  - `latitude`\n",
    "  - `longitude`\n",
    "\n",
    "  ISP FEATURES:\n",
    "  - `collection date time`\n",
    "  - `speed_unit = (Mbs)`\n",
    "  - `speed_down = download speed`\n",
    "  - `speed_up = upload speed`\n",
    "  - `package = package`\n",
    "  - `price = price`\n",
    "  - `fastest_speed_down = fastest download speed offered`\n",
    "  - `fastest_speed_price = price on the fastest download speed offered`\n",
    "\n",
    "  CENSUS/DEMOGRAPHIC FEATURES:\n",
    "  - `race_perc_non_white`       - ACS Survey -\n",
    "  - `median_household_income`\n",
    "  - `income_lmi`\n",
    "  - `income_dollars_below_median`\n",
    "  - `ppl_per_sq_mile`  - Census Shape Data -\n",
    "  \n",
    "  REDLINING FEATURES:\n",
    "  - `redlining_grade = redlining grade, merged from Mapping Inequality based on the lat and lon of the address`\n",
    "  \n",
    "  FCC Form47 FEATURES:\n",
    "  - `n_providers = number of other wired competitors in the addresses' Census block group`\n",
    "  - `internet_perc_broadband`\n",
    "\n",
    "...}"
   ]
  },
  {
   "cell_type": "code",
   "execution_count": null,
   "metadata": {},
   "outputs": [],
   "source": []
  }
 ],
 "metadata": {
  "language_info": {
   "name": "python"
  }
 },
 "nbformat": 4,
 "nbformat_minor": 2
}
