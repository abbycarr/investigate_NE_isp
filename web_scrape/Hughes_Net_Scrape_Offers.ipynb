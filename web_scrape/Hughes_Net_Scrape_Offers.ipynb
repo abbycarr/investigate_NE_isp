{
 "cells": [
  {
   "cell_type": "markdown",
   "id": "d17f5a8e-b91d-4f8e-ad91-aac01be89a18",
   "metadata": {},
   "source": [
    "# HughesNet: Offer Scraping\n",
    "#### By Julia Geller\n"
   ]
  },
  {
   "cell_type": "code",
   "execution_count": 187,
   "id": "ae4d9f9a",
   "metadata": {},
   "outputs": [],
   "source": [
    "import requests\n",
    "import regex as re\n",
    "import json"
   ]
  },
  {
   "cell_type": "code",
   "execution_count": 188,
   "id": "3c69bbc3-b2c1-4b68-833b-091f94a317f1",
   "metadata": {},
   "outputs": [],
   "source": [
    "def get_offer(house_number: str, street_name: str, street_type:str, city: str, state: str, zip_code: str, lat: float, long: float):\n",
    "    \"\"\"\n",
    "    Gets the response from https://www.hughesnet.com for searching for an offer at the given address\n",
    "    in the United States.\n",
    "    Parameters:\n",
    "        house_number - str house number for the address\n",
    "        street_name - str street name (i.e. Huntington)\n",
    "        street_type - str type of street (i.e. Avenue, Boulevard, etc.)\n",
    "        city - str name of city\n",
    "        state - str state abberviation (i.e. MA)\n",
    "        zip_code - str zip code\n",
    "        lat - float latitude of the address\n",
    "        long - float longitude for the address\n",
    "    Return:\n",
    "    json offer found for the given address\n",
    "    \"\"\"\n",
    "    # https://www.hughesnet.com\n",
    "    headers = {\n",
    "        'User-Agent': 'Mozilla/5.0 (Windows NT 10.0; Win64; x64; rv:109.0) Gecko/20100101 Firefox/119.0',\n",
    "        'Accept': 'application/json, text/javascript, */*; q=0.01',\n",
    "        'Accept-Language': 'en-US,en;q=0.5',\n",
    "        'Content-Type': 'application/x-www-form-urlencoded; charset=UTF-8',\n",
    "        'X-Requested-With': 'XMLHttpRequest',\n",
    "        'Origin': 'https://www.hughesnet.com',\n",
    "        'Connection': 'keep-alive',\n",
    "        'Referer': 'https://www.hughesnet.com/get-started',\n",
    "        'Sec-Fetch-Dest': 'empty',\n",
    "        'Sec-Fetch-Mode': 'cors',\n",
    "        'Sec-Fetch-Site': 'same-origin',\n",
    "    }\n",
    "\n",
    "    params = {\n",
    "        'ajax_form': '1',\n",
    "        '_wrapper_format': 'drupal_ajax',\n",
    "    }\n",
    "\n",
    "    data = 'autocomplete={0}+{1}+{2}^%^2C+{3}^%^2C+{4}^%^2C+USA&street=1274&route={1}+{2}&city={3}&state={4}&zip={5}&country=United+States&lat={6}&lng={7}&administrative_area_level_3=&plan_type=Residential&epq_backup_street_address=&epq_backup_city=&epq_backup_state=&epq_backup_zip_code=&form_build_id=form-ZeKWKj-Yp0BAJ2jKqgybxmXAikOkANpiLHqPRGxS9Ug&form_id=epq_lookup_form&email=&_triggering_element_name=epq_lookup&_triggering_element_value=Find+Plans&_drupal_ajax=1&ajax_page_state^%^5Btheme^%^5D=hughes_na_theme&ajax_page_state^%^5Btheme_token^%^5D=&ajax_page_state^%^5Blibraries^%^5D=blazy^%^2Fload^%^2Cclassy^%^2Fbase^%^2Cclassy^%^2Fmessages^%^2Cclassy^%^2Fnode^%^2Ccore^%^2Finternal.jquery.form^%^2Ccore^%^2Fnormalize^%^2Cgeolocation_google_maps^%^2Fgoogle^%^2Chughes_form_epq^%^2Fepq-form-tfn^%^2Chughes_form_epq^%^2Fepq-lookup-library^%^2Chughes_na_theme^%^2Fglobal-css^%^2Chughes_na_theme^%^2Fglobal-js^%^2Chughes_utility^%^2Fhughes_utility.language^%^2Chughes_utility^%^2Fhughes_utility.tracking^%^2Chughesnet_na_base_theme^%^2Fcard-display-epq^%^2Chughesnet_na_base_theme^%^2Fcountry-selector^%^2Chughesnet_na_base_theme^%^2Fcountry_selector^%^2Chughesnet_na_base_theme^%^2Fcritical-general-css^%^2Chughesnet_na_base_theme^%^2Fepq-set-height^%^2Chughesnet_na_base_theme^%^2Fepq_lookup_block^%^2Chughesnet_na_base_theme^%^2Fexpandable-listing^%^2Chughesnet_na_base_theme^%^2Fform-label-animation^%^2Chughesnet_na_base_theme^%^2Fform-validation-message^%^2Chughesnet_na_base_theme^%^2Fglobal-offer-banner^%^2Chughesnet_na_base_theme^%^2Fhomepage-campaign-landing-common^%^2Chughesnet_na_base_theme^%^2Finit-tool-tip^%^2Chughesnet_na_base_theme^%^2Fload-current-date^%^2Chughesnet_na_base_theme^%^2Fmain-menu-pr-mx^%^2Chughesnet_na_base_theme^%^2Fmatch-height^%^2Chughesnet_na_base_theme^%^2Fmenu-footer-padding^%^2Chughesnet_na_base_theme^%^2Fmove-add-to-any^%^2Chughesnet_na_base_theme^%^2Fnodes^%^2Chughesnet_na_base_theme^%^2Fonecol_layout^%^2Chughesnet_na_base_theme^%^2Fparagraphs^%^2Chughesnet_na_base_theme^%^2Fpartial-css^%^2Chughesnet_na_base_theme^%^2Fplan-and-pricing-mobile-carousel^%^2Chughesnet_na_base_theme^%^2Fredirect-pr^%^2Chughesnet_na_base_theme^%^2Fshow-popup-content-link^%^2Chughesnet_na_base_theme^%^2Fsticky_cta_bar^%^2Chughesnet_na_base_theme^%^2Ftext^%^2Chughesnet_na_base_theme^%^2Ftoggle-whatsapp-hours^%^2Chughesnet_na_base_theme^%^2Ftwo-column-content^%^2Chughesnet_na_base_theme^%^2Futility_navigation^%^2Cparagraphs^%^2Fdrupal.paragraphs.unpublished^%^2Csmart_content_datalayer^%^2Fdatalayer_push^%^2Csystem^%^2Fbase'.format(house_number, street_name, street_type, city, state, zip_code, lat, long)\n",
    "\n",
    "    response = requests.post('https://www.hughesnet.com/get-started', params=params, cookies={}, headers=headers, data=data)\n",
    "    \n",
    "    return response.json()\n"
   ]
  },
  {
   "cell_type": "code",
   "execution_count": 189,
   "id": "a201cff1",
   "metadata": {},
   "outputs": [],
   "source": [
    "def process_offer(offer: json):\n",
    "    \"\"\"\n",
    "    Processes the offer returned from from https://www.hughesnet.com for a specific address.\n",
    "    Parameters:\n",
    "        offer - json response from searching for the offer using get_offer()\n",
    "    Return:\n",
    "    plan_name - str name of the cheapest internet plan\n",
    "    price - str price in dollars of the cheapest internet plan\n",
    "    speed_down - str download speed for the cheapest internet plan\n",
    "    units_down = str units for the download speed for the cheapest internet plan\n",
    "    \"\"\"\n",
    "    cheapest_plan = BeautifulSoup(offer[12]['data']).find(class_='plan-and-pricing-item')\n",
    "    \n",
    "    plan_name = cheapest_plan.find(class_='plan-and-pricing-item__plan-data').text.strip()\n",
    "    \n",
    "    price = cheapest_plan.find( class_='plan-and-pricing-item__monthly_price').text\n",
    "    price = re.search('[0-9.]+', price).group()\n",
    "    \n",
    "    download_details = cheapest_plan.find('strong').text.split()\n",
    "    speed_down = download_details[0]\n",
    "    units_down = download_details[1]\n",
    "    return plan_name, price, speed_down, units_down"
   ]
  },
  {
   "cell_type": "code",
   "execution_count": 190,
   "id": "46d252f5-5bb3-454a-a2e0-f9467160247b",
   "metadata": {},
   "outputs": [
    {
     "name": "stdout",
     "output_type": "stream",
     "text": [
      "('15 GB', '49.99', '15', 'Mbps')\n"
     ]
    }
   ],
   "source": [
    "offer1 = get_offer('1274', 'Beacon', 'Street', 'Waban', 'MA', '02468', 42.330750, -71.215408)\n",
    "print(process_offer(offer1))"
   ]
  },
  {
   "cell_type": "code",
   "execution_count": 184,
   "id": "03973b53",
   "metadata": {},
   "outputs": [
    {
     "name": "stdout",
     "output_type": "stream",
     "text": [
      "('15 GB', '49.99', '15', 'Mbps')\n"
     ]
    }
   ],
   "source": [
    "offer2 = get_offer('130', 'Tiptoe', 'Lane', 'Burlingame', 'CA', '94010', 37.571490, -122.390620)\n",
    "print(process_offer(offer2))"
   ]
  },
  {
   "cell_type": "code",
   "execution_count": null,
   "id": "a3e95d9f",
   "metadata": {},
   "outputs": [],
   "source": []
  }
 ],
 "metadata": {
  "kernelspec": {
   "display_name": "Python 3 (ipykernel)",
   "language": "python",
   "name": "python3"
  },
  "language_info": {
   "codemirror_mode": {
    "name": "ipython",
    "version": 3
   },
   "file_extension": ".py",
   "mimetype": "text/x-python",
   "name": "python",
   "nbconvert_exporter": "python",
   "pygments_lexer": "ipython3",
   "version": "3.11.5"
  }
 },
 "nbformat": 4,
 "nbformat_minor": 5
}
