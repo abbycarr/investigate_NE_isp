{
 "cells": [
  {
   "cell_type": "markdown",
   "id": "d17f5a8e-b91d-4f8e-ad91-aac01be89a18",
   "metadata": {},
   "source": [
    "# Xfinity Offer Scraping\n",
    "#### By Julia Geller\n"
   ]
  },
  {
   "cell_type": "code",
   "execution_count": 42,
   "id": "ae4d9f9a",
   "metadata": {},
   "outputs": [],
   "source": [
    "import requests\n",
    "import regex as re\n",
    "import json\n",
    "import numpy as np"
   ]
  },
  {
   "cell_type": "code",
   "execution_count": 188,
   "id": "3c69bbc3-b2c1-4b68-833b-091f94a317f1",
   "metadata": {},
   "outputs": [],
   "source": [
    "def get_offer(house_number: str, street_name: str, street_type:str, city: str, state: str, zip_code: str, lat: float, long: float):\n",
    "    \"\"\"\n",
    "    Gets the response from https://www.xfinity.com/learn/landing/active-address for searching for \n",
    "    an offer at the given address in the United States.\n",
    "    Parameters:\n",
    "        house_number - str house number for the address\n",
    "        street_name - str street name (i.e. Huntington)\n",
    "        street_type - str type of street (i.e. Avenue, Boulevard, etc.)\n",
    "        city - str name of city\n",
    "        state - str state abberviation (i.e. MA)\n",
    "        zip_code - str zip code\n",
    "        lat - float latitude of the address\n",
    "        long - float longitude for the address\n",
    "    Return:\n",
    "    json offer found for the given address\n",
    "    \"\"\"\n",
    "    # https://www.xfinity.com/learn/landing/active-address\n",
    "    cookies = {\n",
    "    'PSC': 'UCID=1c421100-42fa-4bd7-8ac4-6f4285dc29de&CTY={0}&ST={1}&Z={2}&EX=False&REC=N&RC.MKT=5091&RC.RLOC=232548872'.format(city.upper(), state.upper(), zip_code),\n",
    "    '__privaci_cookie_consents': '{\"consents\":{\"77\":1,\"78\":1,\"79\":1,\"80\":1},\"location\":\"'+ state.upper()+'#US\",\"lang\":\"en\",\"gpcInBrowserOnConsent\":false,\"gpcStatusInPortalOnConsent\":false,\"status\":\"record-consent-success\",\"implicit_consent\":true}',\n",
    "    'SC': 'RC.USID=f4c78f88-d973-4999-9d80-38cf98646d69&VA=71681&RC.IFL=Y&RC.LOC=232548872&L1ID=11599&L2ID=5051&L3ID=6132&L4ID=3846&RC.IPL=N&RC.SP=d8400ca2-eb37-4f2d-8b0d-0d4651452e71&Z=[{0}]&CTY={1}&ST={2}&RC.MKT=5091&RC.BIL=CSG&RC.SYS=8773&RC.PRIN=1000&RC.AGT=800&RC.CORP=0&RC.CRPN=0&RC.FRCH=0&RC.FRCHN=800&RC.HK=38285288EA8EE203FA316A90971A6848'.format(zip_code, city.upper(), state.upper()),\n",
    "    }\n",
    "    \n",
    "    response = requests.post('https://digital.xfinity.com/offers/api/offerpackaging', cookies=cookies, headers={}, json={})\n",
    "    \n",
    "    return response.json()\n"
   ]
  },
  {
   "cell_type": "code",
   "execution_count": null,
   "id": "54ed6b6e",
   "metadata": {},
   "outputs": [],
   "source": [
    "def process_offer(offer: json):\n",
    "    \"\"\"\n",
    "    Processes the offer returned from from https://www.xfinity.com/learn/landing/active-address for a specific address.\n",
    "    Parameters:\n",
    "        offer - json response from searching for the offer using get_offer()\n",
    "    Return:\n",
    "    plan_name - str name of the cheapest internet plan\n",
    "    price - str price in dollars of the cheapest internet plan\n",
    "    speed_down - str download speed for the cheapest internet plan\n",
    "    units_down = str units for the download speed for the cheapest internet plan\n",
    "    speed_up - str upload speed for the cheapest internet plan\n",
    "    units_up - str units for the upload speed for the cheapest internet plan\n",
    "    \"\"\"\n",
    "    content = offer['CONTENT']\n",
    "\n",
    "    # get all plans and price for plan\n",
    "    plan_price = [(content[key]['Name'],content[key]['EdpPrice']) for key in content.keys() if 'InternetPlan' in content[key].keys()]\n",
    "    # filter out plans that are not full internet service, manually verified\n",
    "    plan_price = [pp for pp in plan_price if pp[0] not in ['Internet Essentials', 'Internet Essentials Plus']]\n",
    "    cheapest_plan = plan_price[np.argmin([eval(pp[1]) for pp in plan_price])]\n",
    "\n",
    "    plan_name = cheapest_plan[0]\n",
    "    price = cheapest_plan[1]\n",
    "\n",
    "    # get details for cheapest plan\n",
    "    plan_details = [content[key] for key in content.keys() if content[key]['Name']==plan_name][0]\n",
    "\n",
    "    # get upload speed and units\n",
    "    upload_info = plan_details['UploadSpeed'].split(' ')\n",
    "    speed_up= upload_info[len(upload_info)-2]\n",
    "    units_up= upload_info[len(upload_info)-1]\n",
    "\n",
    "    # get upload speed and units\n",
    "    download_info = plan_details['DownloadSpeed'].split(' ')\n",
    "    speed_down = download_info[len(download_info)-2]\n",
    "    units_down = download_info[len(download_info)-1]\n",
    "\n",
    "    return plan_name, price,speed_down, units_down, speed_up, units_up"
   ]
  }
 ],
 "metadata": {
  "kernelspec": {
   "display_name": "Python 3 (ipykernel)",
   "language": "python",
   "name": "python3"
  },
  "language_info": {
   "codemirror_mode": {
    "name": "ipython",
    "version": 3
   },
   "file_extension": ".py",
   "mimetype": "text/x-python",
   "name": "python",
   "nbconvert_exporter": "python",
   "pygments_lexer": "ipython3",
   "version": "3.11.5"
  }
 },
 "nbformat": 4,
 "nbformat_minor": 5
}
