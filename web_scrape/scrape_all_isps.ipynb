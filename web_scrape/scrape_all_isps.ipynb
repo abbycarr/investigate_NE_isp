{
 "cells": [
  {
   "cell_type": "markdown",
   "metadata": {},
   "source": [
    "### Scrape All ISP's"
   ]
  },
  {
   "cell_type": "code",
   "execution_count": null,
   "metadata": {
    "tags": []
   },
   "outputs": [],
   "source": [
    "import pandas as pd\n",
    "import gzip\n",
    "import json\n",
    "from pandas_geojson import to_geojson\n",
    "from hughes_utils import get_hughes_offer_data\n",
    "from xfinity_utils import get_xfinity_offer_data\n",
    "from viastat_utils import get_viastat_offer_data"
   ]
  },
  {
   "cell_type": "code",
   "execution_count": null,
   "metadata": {},
   "outputs": [],
   "source": [
    "# set notebook variables\n",
    "CITY = 'Boston'\n",
    "INPUT_CSV_PATH = \"../data/open_address/processed/csv/city_of_boston-addresses-city.csv.gz\""
   ]
  },
  {
   "cell_type": "code",
   "execution_count": null,
   "metadata": {},
   "outputs": [],
   "source": [
    "# read in all data address data for specified city\n",
    "city_df = pd.read_csv(INPUT_CSV_PATH, dtype='str')\n",
    "\n",
    "# drop rows whose postcode is not given values\n",
    "city_df.dropna(subset=['postcode'], axis=0, inplace=True)\n",
    "# take one house number if multiple given\n",
    "city_df['number'] = city_df.number.apply(lambda x: x.split('-')[0])\n",
    "# cast lat and lon columns as str\n",
    "city_df['lat'] = city_df['lat'].astype(float)\n",
    "city_df['lon'] = city_df['lon'].astype(float)\n",
    "city_df.head(5)"
   ]
  },
  {
   "cell_type": "markdown",
   "metadata": {},
   "source": [
    "Utils Functions"
   ]
  },
  {
   "cell_type": "code",
   "execution_count": null,
   "metadata": {},
   "outputs": [],
   "source": [
    "# transforms dataframe to geojson file\n",
    "def df_to_geojson(df):    \n",
    "    geojson_data = to_geojson(df=df, lat = 'lat', lon = 'lon', properties=['address_full', 'incorporated_place', 'state','collection_datetime', 'provider', 'speed_down', 'speed_up', 'speed_unit', 'price', 'technology', 'package', 'fastest_speed_down', 'fastest_speed_price'])\n",
    "    return geojson_data"
   ]
  },
  {
   "cell_type": "code",
   "execution_count": null,
   "metadata": {},
   "outputs": [],
   "source": [
    "# saves geojson data to geojson.gz file\n",
    "def compress_geojson(gejson_data, output_file):\n",
    "   with gzip.open(output_file, 'wt', encoding='utf-8') as f:\n",
    "        json.dump(gejson_data, f, ensure_ascii=False)"
   ]
  },
  {
   "cell_type": "code",
   "execution_count": 6,
   "metadata": {},
   "outputs": [
    {
     "name": "stdout",
     "output_type": "stream",
     "text": [
      "Xfinity failed\n",
      "Viastat failed\n",
      "\n",
      "\n",
      "\n",
      "Hughes \n",
      "                             address_full incorporated_place state        lat  \\\n",
      "0  55, Waldeck Street, Boston, MA, 02124             Boston    MA  42.296728   \n",
      "\n",
      "         lon  collection_datetime provider speed_down  speed_up speed_unit  \\\n",
      "0 -71.066813         1.701715e+09   hughes         15         3       Mbps   \n",
      "\n",
      "   price technology package  fastest_speed_down fastest_speed_price  \n",
      "0  49.99  Satellite   15 GB                  25               49.99  \n"
     ]
    }
   ],
   "source": [
    "hughes_output_path = \"../data/intermediary/isp/hughes/\"+CITY+'/'\n",
    "xfinity_output_path = \"../data/intermediary/isp/xfinity/\"+CITY+'/'\n",
    "viastat_output_path = \"../data/intermediary/isp/viastat/\"+CITY+'/'\n",
    "\n",
    "index = 1\n",
    "for _, row in city_df.iterrows():\n",
    "    street = row['street']\n",
    "    number = row['number']\n",
    "    streetType = street.split()[-1]\n",
    "    streetName = \" \".join(word for word in street.split()[:-1] if word not in streetType)\n",
    "    city = row['city']\n",
    "    zipcode = row['postcode']\n",
    "    state = row['state']\n",
    "    lat = row['lat']\n",
    "    lon = row['lon']\n",
    "    \n",
    "    try:\n",
    "        hughes_offer = get_hughes_offer_data(house_number= number, street_name = streetName, street_type=streetType, city=city, state=state, zip_code= str(zipcode), lat = lat, long = lon)\n",
    "        hughes_df = pd.DataFrame(hughes_offer, index=[0])\n",
    "        print('Hughes \\n', hughes_df)\n",
    "        hughes_geojson = df_to_geojson(hughes_df)\n",
    "        compress_geojson(hughes_geojson, hughes_output_path+str(index)+'.geojson.gz')\n",
    "    except:\n",
    "        print('Hughes failed')\n",
    "    \n",
    "    try:\n",
    "        xfinity_offer = get_xfinity_offer_data(house_number= number, street_name = streetName, street_type=streetType, city=city, state=state, zip_code= zipcode, lat = lat, long = lon)\n",
    "        xfinity_df = pd.DataFrame(data=xfinity_offer, index=[0])\n",
    "        print(xfinity_df)\n",
    "        xfinity_geojson = df_to_geojson(xfinity_df)\n",
    "        compress_geojson(xfinity_geojson, xfinity_output_path+str(index)+'.geojson.gz')\n",
    "    except:\n",
    "        print('Xfinity failed')\n",
    "    \n",
    "    try:\n",
    "        viastat_offer = get_viastat_offer_data(\"0\", f'{number} {streetName} {streetType}', city, state, int(zipcode), lat, lon)\n",
    "        viastat_offer = pd.DataFrame(data=viastat_offer, index=[0])\n",
    "        print(viastat_df)\n",
    "        viastat_geojson = df_to_geojson(viastat_df)\n",
    "        compress_geojson(viastat_geojson, viastat_output_path+str(index)+'.geojson.gz')\n",
    "    except:\n",
    "        print('Viastat failed')\n",
    "    \n",
    "    print('\\n\\n')\n",
    "    \n",
    "    index += 1\n",
    "   \n"
   ]
  },
  {
   "cell_type": "code",
   "execution_count": null,
   "metadata": {},
   "outputs": [],
   "source": []
  }
 ],
 "metadata": {
  "kernelspec": {
   "display_name": "Python 3 (ipykernel)",
   "language": "python",
   "name": "python3"
  },
  "language_info": {
   "codemirror_mode": {
    "name": "ipython",
    "version": 3
   },
   "file_extension": ".py",
   "mimetype": "text/x-python",
   "name": "python",
   "nbconvert_exporter": "python",
   "pygments_lexer": "ipython3",
   "version": "3.9.13"
  }
 },
 "nbformat": 4,
 "nbformat_minor": 4
}
