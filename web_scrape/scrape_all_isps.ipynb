{
 "cells": [
  {
   "cell_type": "markdown",
   "metadata": {},
   "source": [
    "### Scrape All ISP's"
   ]
  },
  {
   "cell_type": "code",
   "execution_count": 1,
   "metadata": {
    "tags": []
   },
   "outputs": [],
   "source": [
    "import pandas as pd\n",
    "import gzip\n",
    "import json\n",
    "from pandas_geojson import to_geojson\n",
    "from hughes_utils import get_hughes_offer_data\n",
    "from xfinity_utils import get_xfinity_offer_data\n",
    "from viastat_utils import get_viastat_offer_data"
   ]
  },
  {
   "cell_type": "code",
   "execution_count": 2,
   "metadata": {},
   "outputs": [],
   "source": [
    "# set notebook variables\n",
    "CITY = 'hartford'\n",
    "INPUT_CSV_PATH = \"../data/open_address/processed/csv/city_of_hartford-addresses-city.csv.gz\""
   ]
  },
  {
   "cell_type": "code",
   "execution_count": 3,
   "metadata": {},
   "outputs": [],
   "source": [
    "# read in all data address data for specified city\n",
    "city_df = pd.read_csv(\"../data/open_address/processed/csv/city_of_hartford-addresses-city.csv.gz\")\n",
    "\n",
    "# for testing only\n",
    "city_df = city_df[0:1]\n",
    "city_df['postcode']= '06101'\n",
    "city_df\n",
    "\n",
    "# drop na values\n",
    "city_df.dropna(subset=['postcode'], axis=0, inplace=True)"
   ]
  },
  {
   "cell_type": "markdown",
   "metadata": {},
   "source": [
    "Utils Functions"
   ]
  },
  {
   "cell_type": "code",
   "execution_count": 4,
   "metadata": {},
   "outputs": [],
   "source": [
    "# transforms dataframe to geojson file\n",
    "def df_to_geojson(df):    \n",
    "    geojson_data = to_geojson(df=df, lat = 'lat', lon = 'lon', properties=['address_full', 'incorporated_place', 'state','collection_datetime', 'provider', 'speed_down', 'speed_up', 'speed_unit', 'price', 'technology', 'package', 'fastest_speed_down', 'fastest_speed_price'])\n",
    "    return geojson_data"
   ]
  },
  {
   "cell_type": "code",
   "execution_count": 5,
   "metadata": {},
   "outputs": [],
   "source": [
    "# saves geojson data to geojson.gz file\n",
    "def compress_geojson(gejson_data, output_file):\n",
    "   with gzip.open(output_file, 'wt', encoding='utf-8') as f:\n",
    "        json.dump(gejson_data, f, ensure_ascii=False)"
   ]
  },
  {
   "cell_type": "code",
   "execution_count": 8,
   "metadata": {},
   "outputs": [],
   "source": [
    "hughes_output_path = \"../data/intermediary/isp/hughes/\"+CITY+'/'\n",
    "xfinity_output_path = \"../data/intermediary/isp/xfinity/\"+CITY+'/'\n",
    "viastat_output_path = \"../data/intermediary/isp/viastat/\"+CITY+'/'\n",
    "\n",
    "index = 1\n",
    "for _, row in city_df.iterrows():\n",
    "    street = row['street']\n",
    "    number = row['number']\n",
    "    streetType = street.split()[-1]\n",
    "    streetName = \" \".join(word for word in street.split()[:-1] if word not in streetType)\n",
    "    city = row['city']\n",
    "    zipcode = row['postcode']\n",
    "    state = row['state']\n",
    "    lat = row['lat']\n",
    "    lon = row['lon']\n",
    "    \n",
    "    hughes_offer = get_hughes_offer_data(house_number= number, street_name = streetName, street_type=streetType, city=city, state=state, zip_code= str(zipcode), lat = lat, long = lon)\n",
    "    xfinity_offer = get_xfinity_offer_data(house_number= number, street_name = streetName, street_type=streetType, city=city, state=state, zip_code= zipcode, lat = lat, long = lon)\n",
    "    # viastat_offer = get_viastat_offer_data(\"0\", f'{number} {streetName} {streetType}', city, state, zipcode, lat, lon)\n",
    "\n",
    "    hughes_df = pd.DataFrame(hughes_offer, index=[0])\n",
    "    xfinity_df = pd.DataFrame(data=xfinity_offer, index=[0])\n",
    "    # viastat_offer = pd.DataFrame(data=viastat_offer, index=[0])\n",
    "\n",
    "    hughes_geojson = df_to_geojson(hughes_df)\n",
    "    xfinity_geojson = df_to_geojson(xfinity_df)\n",
    "    # viastat_geojson = df_to_geojson(viastat_df)\n",
    "\n",
    "    compress_geojson(hughes_geojson, hughes_output_path+str(index)+'.geojson.gz')\n",
    "    compress_geojson(xfinity_geojson, xfinity_output_path+str(index)+'.geojson.gz')\n",
    "    # compress_geojson(viastat_geojson, viastat_output_path+str(index)+'.geojson.gz')\n",
    "   \n"
   ]
  }
 ],
 "metadata": {
  "kernelspec": {
   "display_name": "Python 3 (ipykernel)",
   "language": "python",
   "name": "python3"
  },
  "language_info": {
   "codemirror_mode": {
    "name": "ipython",
    "version": 3
   },
   "file_extension": ".py",
   "mimetype": "text/x-python",
   "name": "python",
   "nbconvert_exporter": "python",
   "pygments_lexer": "ipython3",
   "version": "3.11.4"
  }
 },
 "nbformat": 4,
 "nbformat_minor": 4
}
