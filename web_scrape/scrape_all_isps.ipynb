{
 "cells": [
  {
   "cell_type": "markdown",
   "metadata": {},
   "source": [
    "### Scrape All ISP's"
   ]
  },
  {
   "cell_type": "code",
   "execution_count": null,
   "metadata": {
    "tags": []
   },
   "outputs": [],
   "source": [
    "import pandas as pd\n",
    "import gzip\n",
    "import json\n",
    "from pandas_geojson import to_geojson\n",
    "from hughes_utils import get_hughes_offer_data\n",
    "from xfinity_utils import get_xfinity_offer_data\n",
    "from viastat_utils import get_viastat_offer_data\n",
    "import os"
   ]
  },
  {
   "cell_type": "code",
   "execution_count": null,
   "metadata": {},
   "outputs": [],
   "source": [
    "# set notebook variables\n",
    "CITY = 'Boston'\n",
    "INPUT_CSV_PATH = \"../data/open_address/processed/csv/city_of_boston-addresses-city.csv.gz\"\n",
    "# change to true for name of person scraping the data\n",
    "JULIA = False\n",
    "YASH = True\n",
    "ABBY = False\n"
   ]
  },
  {
   "cell_type": "code",
   "execution_count": null,
   "metadata": {},
   "outputs": [],
   "source": [
    "# read in all data address data for specified city\n",
    "city_df = pd.read_csv(INPUT_CSV_PATH, dtype='str')\n",
    "\n",
    "# drop rows whose postcode is not given values\n",
    "city_df.dropna(subset=['postcode'], axis=0, inplace=True)\n",
    "# take one house number if multiple given\n",
    "city_df['number'] = city_df.number.apply(lambda x: x.split('-')[0])\n",
    "# cast lat and lon columns as str\n",
    "city_df['lat'] = city_df['lat'].astype(float)\n",
    "city_df['lon'] = city_df['lon'].astype(float)\n",
    "city_df.head(5)"
   ]
  },
  {
   "cell_type": "code",
   "execution_count": null,
   "metadata": {},
   "outputs": [],
   "source": [
    "if JULIA:\n",
    "    scrape_addr_df = city_df[0:250]\n",
    "    hughes_output_path = \"../data/intermediary/scrape_isp/julia/hughes/\"\n",
    "    xfinity_output_path = \"../data/intermediary/scrape_isp/julia/xfinity/\"\n",
    "    viastat_output_path = \"../data/intermediary/scrape_isp/julia/viastat/\"\n",
    "    INDEX = 0\n",
    "if YASH:\n",
    "    scrape_addr_df = city_df[250:500]\n",
    "    hughes_output_path = \"../data/intermediary/scrape_isp/yash/hughes/\"\n",
    "    xfinity_output_path = \"../data/intermediary/scrape_isp/yash/xfinity/\"\n",
    "    viastat_output_path = \"../data/intermediary/scrape_isp/yash/viastat/\"\n",
    "    IDNEX = 251\n",
    "if ABBY:\n",
    "    scrape_addr_df = city_df[500:]\n",
    "    hughes_output_path = \"../data/intermediary/scrape_isp/abby/hughes/\"\n",
    "    xfinity_output_path = \"../data/intermediary/scrape_isp/abby/xfinity/\"\n",
    "    viastat_output_path = \"../data/intermediary/scrape_isp/abby/viastat/\"\n",
    "    INDEX = 501\n",
    "\n",
    "if not os.path.exists(os.path.exists(hughes_output_path)):\n",
    "    os.mkdir(os.path.exists(hughes_output_path))\n",
    "\n",
    "if not os.path.exists(os.path.exists(xfinity_output_path)):\n",
    "    os.mkdir(os.path.exists(xfinity_output_path))\n",
    "\n",
    "if not os.path.exists(os.path.exists(viastat_output_path)):\n",
    "    os.mkdir(os.path.exists(viastat_output_path))"
   ]
  },
  {
   "cell_type": "markdown",
   "metadata": {},
   "source": [
    "Utils Functions"
   ]
  },
  {
   "cell_type": "code",
   "execution_count": null,
   "metadata": {},
   "outputs": [],
   "source": [
    "# transforms dataframe to geojson file\n",
    "def df_to_geojson(df):    \n",
    "    geojson_data = to_geojson(df=df, lat = 'lat', lon = 'lon', properties=['address_full', 'incorporated_place', 'state','collection_datetime', 'provider', 'speed_down', 'speed_up', 'speed_unit', 'price', 'technology', 'package', 'fastest_speed_down', 'fastest_speed_price', 'block_group', 'geoid'])\n",
    "    return geojson_data"
   ]
  },
  {
   "cell_type": "code",
   "execution_count": null,
   "metadata": {},
   "outputs": [],
   "source": [
    "# saves geojson data to geojson.gz file\n",
    "def compress_geojson(gejson_data, output_file):\n",
    "   with gzip.open(output_file, 'wt', encoding='utf-8') as f:\n",
    "        json.dump(gejson_data, f, ensure_ascii=False)"
   ]
  },
  {
   "cell_type": "code",
   "execution_count": null,
   "metadata": {},
   "outputs": [],
   "source": [
    "scrape_summary = {'hughes':{'success':0, 'fail':0}, 'xfinity':{'success':0, 'fail':0}, 'viastat':{'success':0, 'fail':0}}\n",
    "\n",
    "for _, row in scrape_addr_df.iterrows():\n",
    "    unit = row['unit'] if not pd.isna(row['unit']) else ''\n",
    "    street = row['street']\n",
    "    number = row['number']\n",
    "    streetType = street.split()[-1]\n",
    "    streetName = \" \".join(word for word in street.split()[:-1] if word not in streetType)\n",
    "    city = row['city']\n",
    "    zipcode = row['postcode']\n",
    "    state = row['state']\n",
    "    lat = row['lat']\n",
    "    lon = row['lon']\n",
    "    block_group = row['block_group']\n",
    "    geoid = row['geoid']\n",
    "    print(INDEX)\n",
    "    if INDEX % 5 == 0:\n",
    "        verbose = True\n",
    "    else:\n",
    "        verbose = False\n",
    "\n",
    "    try:\n",
    "        hughes_offer = get_hughes_offer_data(house_number= number, street_name = streetName, street_type=streetType, city=city, state=state, zip_code= str(zipcode), lat = lat, long = lon)\n",
    "        hughes_df = pd.DataFrame(hughes_offer, index=[0])\n",
    "        hughes_df['block_group'] = block_group\n",
    "        hughes_df['geoid'] = geoid\n",
    "        hughes_geojson = df_to_geojson(hughes_df)\n",
    "        compress_geojson(hughes_geojson, hughes_output_path+str(INDEX)+'.geojson.gz')\n",
    "        scrape_summary['hughes']['success'] += 1\n",
    "        print('\\thughes success')\n",
    "        if verbose:\n",
    "            print(hughes_df)\n",
    "    except:\n",
    "        scrape_summary['hughes']['fail'] += 1\n",
    "        print('\\thughes fail')\n",
    "    \n",
    "    try:\n",
    "        xfinity_offer = get_xfinity_offer_data(house_number= number, street_name = streetName, street_type=streetType, city=city, state=state, zip_code= zipcode, lat = lat, long = lon)\n",
    "        xfinity_df = pd.DataFrame(data=xfinity_offer, index=[0])\n",
    "        xfinity_df['block_group'] = block_group\n",
    "        xfinity_df['geoid'] = geoid\n",
    "        xfinity_geojson = df_to_geojson(xfinity_df)\n",
    "        compress_geojson(xfinity_geojson, xfinity_output_path+str(INDEX)+'.geojson.gz')\n",
    "        scrape_summary['xfinity']['success'] += 1\n",
    "        print('\\txfinity success')\n",
    "        if verbose:\n",
    "            print(xfinity_df)\n",
    "    except:\n",
    "        scrape_summary['xfinity']['fail'] += 1\n",
    "        print('\\txfinity fail')\n",
    "    \n",
    "    try:\n",
    "        viastat_offer = get_viastat_offer_data(unit, number+' '+streetName+' '+streetType, city, state, zipcode, lat, lon)\n",
    "        viastat_df = pd.DataFrame(data=viastat_offer, index=[0])\n",
    "        viastat_df['block_group'] = block_group\n",
    "        viastat_df['geoid'] = geoid\n",
    "        viastat_geojson = df_to_geojson(viastat_df)\n",
    "        compress_geojson(viastat_geojson, viastat_output_path+str(INDEX)+'.geojson.gz')\n",
    "        scrape_summary['viastat']['success'] += 1\n",
    "        print('\\tviastat success')\n",
    "        if verbose:\n",
    "            print(viastat_df)\n",
    "    except:\n",
    "        scrape_summary['viastat']['fail'] += 1\n",
    "        print('\\tviastat fail')\n",
    "        \n",
    "    INDEX += 1\n",
    "\n",
    "print(scrape_summary)"
   ]
  },
  {
   "cell_type": "code",
   "execution_count": null,
   "metadata": {},
   "outputs": [],
   "source": [
    "print(scrape_summary)"
   ]
  }
 ],
 "metadata": {
  "kernelspec": {
   "display_name": "Python 3 (ipykernel)",
   "language": "python",
   "name": "python3"
  },
  "language_info": {
   "codemirror_mode": {
    "name": "ipython",
    "version": 3
   },
   "file_extension": ".py",
   "mimetype": "text/x-python",
   "name": "python",
   "nbconvert_exporter": "python",
   "pygments_lexer": "ipython3",
   "version": "3.9.13"
  }
 },
 "nbformat": 4,
 "nbformat_minor": 4
}
