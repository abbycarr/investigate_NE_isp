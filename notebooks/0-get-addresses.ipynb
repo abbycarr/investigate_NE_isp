{
 "cells": [
  {
   "cell_type": "markdown",
   "metadata": {},
   "source": [
    "### Store All Addresses in Cities of Interest\n",
    "Addresses were downloaded from [OpenAddress](https://batch.openaddresses.io/data#map=0/0/0). The addresses collected correspond to the following cities and states.\n",
    "- Hartford, Connecticut\n",
    "- Dover, Delaware\n",
    "- District of Columbia\n",
    "- Portland, Maine\n",
    "- Baltimore, Maryland\n",
    "- Boston, Massachusetts\n",
    "- Nashua, New Hampshire\n",
    "- Newark, New Jersey\n",
    "- New York City, New York\n",
    "- Philadelphia, Pennsylvania\n",
    "- Providence, Rhode Island\n",
    "- Burlington, Vermont\n",
    "- Norfolk, Virginia\n",
    "- Charleston, West Virginia\n"
   ]
  },
  {
   "cell_type": "code",
   "execution_count": null,
   "metadata": {},
   "outputs": [],
   "source": [
    "import geopandas\n",
    "import json\n",
    "import gzip\n",
    "from pandas_geojson import to_geojson\n",
    "from geopy.geocoders import Nominatim \n",
    "import regex as re"
   ]
  },
  {
   "cell_type": "code",
   "execution_count": null,
   "metadata": {},
   "outputs": [],
   "source": [
    "# transforms dataframe to geojson file\n",
    "def df_to_geojson(df):\n",
    "    df['lon'] = df['geometry'].apply(lambda x: str(x)[6:].split(' ')[0].replace('(', ''))\n",
    "    df['lat'] = df['geometry'].apply(lambda x: str(x)[6:].split(' ')[1].replace(')', ''))\n",
    "    \n",
    "    geojson_file = to_geojson(df=df, lat = 'lat', lon = 'lon', properties=['hash', 'number', 'street', 'unit', 'city', 'district', 'region', 'postcode', 'id', 'state', 'incorporated_place'])\n",
    "\n",
    "    return geojson_file"
   ]
  },
  {
   "cell_type": "code",
   "execution_count": null,
   "metadata": {},
   "outputs": [],
   "source": [
    "# saves geojson data to geojson.gz file\n",
    "def compress_geojson(gejson_data, output_file):\n",
    "   with gzip.open(output_file, 'wt', encoding='utf-8') as f:\n",
    "        json.dump(gejson_data, f, ensure_ascii=False)"
   ]
  },
  {
   "cell_type": "code",
   "execution_count": null,
   "metadata": {},
   "outputs": [],
   "source": [
    "# get postcode for an address\n",
    "def get_postcode(address: str):\n",
    "    # initialize Nominatim API  \n",
    "    geolocator = Nominatim(user_agent=\"ne_isp\") \n",
    "    \n",
    "    # set location \n",
    "    location = geolocator.geocode(address) \n",
    "    \n",
    "    # traverse the data \n",
    "    if location is not None:\n",
    "        address_info = location.raw['display_name']\n",
    "        postcode_matches = re.findall('[0-9-]+', address_info)\n",
    "        if len(postcode_matches)>1:\n",
    "            postcode = postcode_matches[1]\n",
    "        else:\n",
    "            postcode = postcode_matches[0]\n",
    "    else:\n",
    "        postcode = None\n",
    "    \n",
    "    return postcode"
   ]
  },
  {
   "cell_type": "markdown",
   "metadata": {},
   "source": [
    "Bridgeport, Connecticut"
   ]
  },
  {
   "cell_type": "code",
   "execution_count": null,
   "metadata": {},
   "outputs": [],
   "source": [
    "# read in CT data as datframe\n",
    "input_path = '../data/open_address/original/city_of_hartford-addresses-city.geojson'\n",
    "output_path = '../data/open_address/processed/city_of_hartford-addresses-city.geojson.gz'\n",
    "\n",
    "ct_df = geopandas.read_file(input_path)\n",
    "# add missing column information\n",
    "ct_df['city'] = 'Hartford'\n",
    "ct_df['incorporated_place'] = 'Hartford'\n",
    "ct_df['state'] = 'CT'\n",
    "\n",
    "print(ct_df.shape)\n",
    "ct_df.head()"
   ]
  },
  {
   "cell_type": "code",
   "execution_count": null,
   "metadata": {},
   "outputs": [],
   "source": [
    "# TODO:\n",
    "# join ct_df on census data"
   ]
  },
  {
   "cell_type": "code",
   "execution_count": null,
   "metadata": {},
   "outputs": [],
   "source": [
    "# # get postcodes for each address\n",
    "# ct_df['postcode'] = ct_df.apply(lambda x: get_postcode(x.number+' '+x.street+', '+x.city+', '+x.state+', USA'), axis=1)"
   ]
  },
  {
   "cell_type": "code",
   "execution_count": null,
   "metadata": {},
   "outputs": [],
   "source": [
    "# save data as geojson data\n",
    "ct_geojson = df_to_geojson(ct_df)\n",
    "# save geojson data as geojson.gz file\n",
    "compress_geojson(ct_geojson, output_path)"
   ]
  },
  {
   "cell_type": "markdown",
   "metadata": {},
   "source": [
    "Dover, Delaware"
   ]
  },
  {
   "cell_type": "code",
   "execution_count": null,
   "metadata": {},
   "outputs": [],
   "source": [
    "# read in CT data as datframe\n",
    "input_path = '../data/open_address/original/city_of_dover-addresses-city.geojson'\n",
    "output_path = '../data/open_address/processed/city_of_dover-addresses-city.geojson.gz'\n",
    "\n",
    "de_df = geopandas.read_file(input_path)\n",
    "# add missing column information\n",
    "de_df['city'] = 'Dover'\n",
    "de_df['incorporated_place'] = 'Dover'\n",
    "de_df['state'] = 'DE'\n",
    "\n",
    "print(de_df.shape)\n",
    "de_df.head()"
   ]
  },
  {
   "cell_type": "code",
   "execution_count": null,
   "metadata": {},
   "outputs": [],
   "source": [
    "# TODO:\n",
    "# join de_df on census data"
   ]
  },
  {
   "cell_type": "code",
   "execution_count": null,
   "metadata": {},
   "outputs": [],
   "source": [
    "# # get postcodes for each address\n",
    "# de_df['postcode'] = de_df.apply(lambda x: get_postcode(x.number+' '+x.street+', '+x.city+', '+x.state+', USA'), axis=1)"
   ]
  },
  {
   "cell_type": "code",
   "execution_count": null,
   "metadata": {},
   "outputs": [],
   "source": [
    "# save data as geojson data\n",
    "de_geojson = df_to_geojson(de_df)\n",
    "# save geojson data as geojson.gz file\n",
    "compress_geojson(de_geojson, output_path)"
   ]
  },
  {
   "cell_type": "markdown",
   "metadata": {},
   "source": [
    "District of Columbia"
   ]
  },
  {
   "cell_type": "code",
   "execution_count": null,
   "metadata": {},
   "outputs": [],
   "source": [
    "# read in DC data as datframe\n",
    "input_path = '../data/open_address/original/dc_statewide-addresses-city.geojson'\n",
    "output_path = '../data/open_address/processed/dc_statewide-addresses-city.geojson.gz'\n",
    "\n",
    "dc_df = geopandas.read_file(input_path)\n",
    "# add missing column information\n",
    "dc_df['incorporated_place'] = 'Washington'\n",
    "dc_df['state'] = 'DC'\n",
    "\n",
    "print(dc_df.shape)\n",
    "dc_df.head()"
   ]
  },
  {
   "cell_type": "code",
   "execution_count": null,
   "metadata": {},
   "outputs": [],
   "source": [
    "# TODO:\n",
    "# join dc_df on census data"
   ]
  },
  {
   "cell_type": "code",
   "execution_count": null,
   "metadata": {},
   "outputs": [],
   "source": [
    "# # get postcodes for each address\n",
    "# dc_df['postcode'] = dc_df.apply(lambda x: get_postcode(x.number+' '+x.street+', '+x.city+', '+x.state+', USA'), axis=1)"
   ]
  },
  {
   "cell_type": "code",
   "execution_count": null,
   "metadata": {},
   "outputs": [],
   "source": [
    "# save data as geojson data\n",
    "dc_geojson = df_to_geojson(dc_df)\n",
    "# save geojson data as geojson.gz file\n",
    "compress_geojson(dc_geojson, output_path)"
   ]
  },
  {
   "cell_type": "markdown",
   "metadata": {},
   "source": [
    "Portland, Maine"
   ]
  },
  {
   "cell_type": "code",
   "execution_count": null,
   "metadata": {},
   "outputs": [],
   "source": [
    "# read in data as datframe\n",
    "input_path = '../data/open_address/original/me_statewide-addresses-state.geojson'\n",
    "output_path = '../data/open_address/processed/me_statewide-addresses-state.geojson.gz'\n",
    "\n",
    "me_df = geopandas.read_file(input_path)\n",
    "\n",
    "print(me_df.shape)\n",
    "me_df.head()"
   ]
  },
  {
   "cell_type": "code",
   "execution_count": null,
   "metadata": {},
   "outputs": [],
   "source": [
    "# filter by addresses in Portland\n",
    "portland_postcodes = ['04019', '04050', '04101', '04102', '04103', '04104', '04107', '04108', '04109', '04112', '04122', '04123', '04124']\n",
    "# filter addresses to keep only those with Portland postcodes\n",
    "me_df = me_df[me_df['postcode'].isin(portland_postcodes)]\n",
    "me_df = me_df[me_df['district']=='Cumberland']\n",
    "\n",
    "# add missing column information\n",
    "me_df['city'] = 'Dover'\n",
    "me_df['incorporated_place'] = 'Dover'\n",
    "me_df['state'] = 'ME'"
   ]
  },
  {
   "cell_type": "code",
   "execution_count": null,
   "metadata": {},
   "outputs": [],
   "source": [
    "# TODO:\n",
    "# join me_df on census data"
   ]
  },
  {
   "cell_type": "code",
   "execution_count": null,
   "metadata": {},
   "outputs": [],
   "source": [
    "# # get postcodes for each address\n",
    "# me_df['postcode'] = me_df.apply(lambda x: get_postcode(x.number+' '+x.street+', '+x.city+', '+x.state+', USA'), axis=1)"
   ]
  },
  {
   "cell_type": "code",
   "execution_count": null,
   "metadata": {},
   "outputs": [],
   "source": [
    "# save data as geojson data\n",
    "me_geojson = df_to_geojson(me_df)\n",
    "# save geojson data as geojson.gz file\n",
    "compress_geojson(me_geojson, output_path)"
   ]
  },
  {
   "cell_type": "markdown",
   "metadata": {},
   "source": [
    "Baltimore, Maryland"
   ]
  },
  {
   "cell_type": "code",
   "execution_count": null,
   "metadata": {},
   "outputs": [],
   "source": [
    "# read in data as datframe\n",
    "input_path = '../data/open_address/original/city_of_baltimore-addresses-city.geojson'\n",
    "output_path = '../data/open_address/processed/city_of_baltimore-addresses-city.geojson.gz'\n",
    "\n",
    "md_df = geopandas.read_file(input_path)\n",
    "# add missing column information\n",
    "md_df['city'] = 'Baltimore'\n",
    "md_df['incorporated_place'] = 'Baltimore'\n",
    "md_df['state'] = 'MD'\n",
    "\n",
    "print(md_df.shape)\n",
    "md_df.head()"
   ]
  },
  {
   "cell_type": "code",
   "execution_count": null,
   "metadata": {},
   "outputs": [],
   "source": [
    "# TODO:\n",
    "# join md_df on census data"
   ]
  },
  {
   "cell_type": "code",
   "execution_count": null,
   "metadata": {},
   "outputs": [],
   "source": [
    "# # get postcodes for each address\n",
    "# md_df['postcode'] = md_df.apply(lambda x: get_postcode(x.number+' '+x.street+', '+x.city+', '+x.state+', USA'), axis=1)"
   ]
  },
  {
   "cell_type": "code",
   "execution_count": null,
   "metadata": {},
   "outputs": [],
   "source": [
    "# save data as geojson data\n",
    "md_geojson = df_to_geojson(md_df)\n",
    "# save geojson data as geojson.gz file\n",
    "compress_geojson(md_geojson, output_path)"
   ]
  },
  {
   "cell_type": "markdown",
   "metadata": {},
   "source": [
    "Boston, Massachusetts"
   ]
  },
  {
   "cell_type": "code",
   "execution_count": null,
   "metadata": {},
   "outputs": [],
   "source": [
    "# read in DC data as datframe\n",
    "input_path = '../data/open_address/original/city_of_boston-addresses-city.geojson'\n",
    "output_path = '../data/open_address/processed/city_of_boston-addresses-city.geojson.gz'\n",
    "\n",
    "ma_df = geopandas.read_file(input_path)\n",
    "# add missing column information\n",
    "ma_df['city'] = 'Boston'\n",
    "ma_df['incorporated_place'] = 'Boston'\n",
    "ma_df['state'] = 'MA'\n",
    "\n",
    "print(ma_df.shape)\n",
    "ma_df.head()"
   ]
  },
  {
   "cell_type": "code",
   "execution_count": null,
   "metadata": {},
   "outputs": [],
   "source": [
    "# TODO:\n",
    "# join ma_df on census data"
   ]
  },
  {
   "cell_type": "code",
   "execution_count": null,
   "metadata": {},
   "outputs": [],
   "source": [
    "# # get postcodes for each address\n",
    "# ma_df['postcode'] = ma_df.apply(lambda x: get_postcode(x.number+' '+x.street+', '+x.city+', '+x.state+', USA'), axis=1)"
   ]
  },
  {
   "cell_type": "code",
   "execution_count": null,
   "metadata": {},
   "outputs": [],
   "source": [
    "# save data as geojson data\n",
    "ma_geojson = df_to_geojson(ma_df)\n",
    "# save geojson data as geojson.gz file\n",
    "compress_geojson(ma_geojson, output_path)"
   ]
  },
  {
   "cell_type": "markdown",
   "metadata": {},
   "source": [
    "Nashua, New Hampshire"
   ]
  },
  {
   "cell_type": "code",
   "execution_count": null,
   "metadata": {},
   "outputs": [],
   "source": [
    "# read in data as datframe\n",
    "input_path = '../data/open_address/original/city_of_nashua-addresses-city.geojson'\n",
    "output_path = '../data/open_address/processed/city_of_nashua-addresses-city.geojson.gz'\n",
    "\n",
    "nh_df = geopandas.read_file(input_path)\n",
    "# add missing column information\n",
    "nh_df['incorporated_place'] = 'Nashua'\n",
    "nh_df['state'] = 'NH'\n",
    "\n",
    "print(nh_df.shape)\n",
    "nh_df.head()"
   ]
  },
  {
   "cell_type": "code",
   "execution_count": null,
   "metadata": {},
   "outputs": [],
   "source": [
    "# TODO:\n",
    "# join nh_df on census data"
   ]
  },
  {
   "cell_type": "code",
   "execution_count": null,
   "metadata": {},
   "outputs": [],
   "source": [
    "# # get postcodes for each address\n",
    "# nh_df['postcode'] = nh_df.apply(lambda x: get_postcode(x.number+' '+x.street+', '+x.city+', '+x.state+', USA'), axis=1)"
   ]
  },
  {
   "cell_type": "code",
   "execution_count": null,
   "metadata": {},
   "outputs": [],
   "source": [
    "# save data as geojson data\n",
    "nh_geojson = df_to_geojson(nh_df)\n",
    "# save geojson data as geojson.gz file\n",
    "compress_geojson(nh_geojson, output_path)"
   ]
  },
  {
   "cell_type": "markdown",
   "metadata": {},
   "source": [
    "Newark, New Jersey"
   ]
  },
  {
   "cell_type": "code",
   "execution_count": null,
   "metadata": {},
   "outputs": [],
   "source": [
    "# read in data as datframe\n",
    "input_path = '../data/open_address/original/nj_statewide-addresses-state.geojson'\n",
    "output_path = '../data/open_address/processed/nj_statewide-addresses-state.geojson.gz'\n",
    "\n",
    "nj_df = geopandas.read_file(input_path)\n",
    "\n",
    "print(nj_df.shape)\n",
    "nj_df.head()"
   ]
  },
  {
   "cell_type": "code",
   "execution_count": null,
   "metadata": {},
   "outputs": [],
   "source": [
    "# filter on Newark postalcodes and district\n",
    "nj_df = nj_df[nj_df['city']=='NEWARK']\n",
    "\n",
    "# add missing column information\n",
    "nj_df['incorporated_place'] = 'Newark'\n",
    "nj_df['state'] = 'NJ'"
   ]
  },
  {
   "cell_type": "code",
   "execution_count": null,
   "metadata": {},
   "outputs": [],
   "source": [
    "# TODO:\n",
    "# join nj_df on census data"
   ]
  },
  {
   "cell_type": "code",
   "execution_count": null,
   "metadata": {},
   "outputs": [],
   "source": [
    "# # get postcodes for each address\n",
    "# nj_df['postcode'] = nj_df.apply(lambda x: get_postcode(x.number+' '+x.street+', '+x.city+', '+x.state+', USA'), axis=1)"
   ]
  },
  {
   "cell_type": "code",
   "execution_count": null,
   "metadata": {},
   "outputs": [],
   "source": [
    "# save data as geojson data\n",
    "nj_geojson = df_to_geojson(nj_df)\n",
    "# save geojson data as geojson.gz file\n",
    "compress_geojson(nj_geojson, output_path)"
   ]
  },
  {
   "cell_type": "markdown",
   "metadata": {},
   "source": [
    "New York City, New York"
   ]
  },
  {
   "cell_type": "code",
   "execution_count": null,
   "metadata": {},
   "outputs": [],
   "source": [
    "# read in data as datframe\n",
    "input_path = '../data/open_address/original/city_of_new_york-addresses-city.geojson'\n",
    "output_path = '../data/open_address/processed/city_of_new_york-addresses-city.geojson.gz'\n",
    "\n",
    "ny_df = geopandas.read_file(input_path)\n",
    "# add missing column information\n",
    "ny_df['city'] = 'New York'\n",
    "ny_df['incorporated_place'] = 'New York'\n",
    "ny_df['state'] = 'NY'\n",
    "\n",
    "print(ny_df.shape)\n",
    "ny_df.head()"
   ]
  },
  {
   "cell_type": "code",
   "execution_count": null,
   "metadata": {},
   "outputs": [],
   "source": [
    "# TODO:\n",
    "# join ny_df on census data"
   ]
  },
  {
   "cell_type": "code",
   "execution_count": null,
   "metadata": {},
   "outputs": [],
   "source": [
    "# # get postcodes for each address\n",
    "# ny_df['postcode'] = ny_df.apply(lambda x: get_postcode(x.number+' '+x.street+', '+x.city+', '+x.state+', USA'), axis=1)"
   ]
  },
  {
   "cell_type": "code",
   "execution_count": null,
   "metadata": {},
   "outputs": [],
   "source": [
    "# save data as geojson data\n",
    "ny_geojson = df_to_geojson(ny_df)\n",
    "# save geojson data as geojson.gz file\n",
    "compress_geojson(ny_geojson, output_path)"
   ]
  },
  {
   "cell_type": "markdown",
   "metadata": {},
   "source": [
    "Philadelphia, Pennsylvania"
   ]
  },
  {
   "cell_type": "code",
   "execution_count": null,
   "metadata": {},
   "outputs": [],
   "source": [
    "# read in data as datframe\n",
    "input_path = '../data/open_address/original/philadelphia-addresses-county.geojson'\n",
    "output_path = '../data/open_address/processed/philadelphia-addresses-county.geojson.gz'\n",
    "\n",
    "pa_df = geopandas.read_file(input_path)\n",
    "# add missing column information\n",
    "pa_df['city'] = 'Philadelphia'\n",
    "pa_df['incorporated_place'] = 'Philadelphia'\n",
    "pa_df['state'] = 'PA'\n",
    "\n",
    "print(pa_df.shape)\n",
    "pa_df.head()"
   ]
  },
  {
   "cell_type": "code",
   "execution_count": null,
   "metadata": {},
   "outputs": [],
   "source": [
    "# TODO:\n",
    "# join pa_df on census data"
   ]
  },
  {
   "cell_type": "code",
   "execution_count": null,
   "metadata": {},
   "outputs": [],
   "source": [
    "# # get postcodes for each address\n",
    "# pa_df['postcode'] = pa_df.apply(lambda x: get_postcode(x.number+' '+x.street+', '+x.city+', '+x.state+', USA'), axis=1)"
   ]
  },
  {
   "cell_type": "code",
   "execution_count": null,
   "metadata": {},
   "outputs": [],
   "source": [
    "# save data as geojson data\n",
    "pa_geojson = df_to_geojson(pa_df)\n",
    "# save geojson data as geojson.gz file\n",
    "compress_geojson(pa_geojson, output_path)"
   ]
  },
  {
   "cell_type": "markdown",
   "metadata": {},
   "source": [
    "Providence, Rhode Island"
   ]
  },
  {
   "cell_type": "code",
   "execution_count": null,
   "metadata": {},
   "outputs": [],
   "source": [
    "# read in data as datframe\n",
    "input_path = '../data/open_address/original/providence-addresses-city.geojson'\n",
    "output_path = '../data/open_address/processed/providence-addresses-city.geojson.gz'\n",
    "\n",
    "ri_df = geopandas.read_file(input_path)\n",
    "# add missing column information\n",
    "ri_df['city'] = 'Providence'\n",
    "ri_df['incorporated_place'] = 'Providence'\n",
    "ri_df['state'] = 'RI'\n",
    "\n",
    "print(ri_df.shape)\n",
    "ri_df.head()"
   ]
  },
  {
   "cell_type": "code",
   "execution_count": null,
   "metadata": {},
   "outputs": [],
   "source": [
    "# TODO:\n",
    "# join ri_df on census data"
   ]
  },
  {
   "cell_type": "code",
   "execution_count": null,
   "metadata": {},
   "outputs": [],
   "source": [
    "# # get postcodes for each address\n",
    "# ri_df['postcode'] = ri_df.apply(lambda x: get_postcode(x.number+' '+x.street+', '+x.city+', '+x.state+', USA'), axis=1)"
   ]
  },
  {
   "cell_type": "code",
   "execution_count": null,
   "metadata": {},
   "outputs": [],
   "source": [
    "# save data as geojson data\n",
    "ri_geojson = df_to_geojson(ri_df)\n",
    "# save geojson data as geojson.gz file\n",
    "compress_geojson(ri_geojson, output_path)"
   ]
  },
  {
   "cell_type": "markdown",
   "metadata": {},
   "source": [
    "Burlington, Vermont"
   ]
  },
  {
   "cell_type": "code",
   "execution_count": null,
   "metadata": {},
   "outputs": [],
   "source": [
    "# read in data as datframe\n",
    "input_path = '../data/open_address/original/city_of_burlington-addresses-city.geojson'\n",
    "output_path = '../data/open_address/processed/city_of_burlington-addresses-city.geojson.gz'\n",
    "\n",
    "vt_df = geopandas.read_file(input_path)\n",
    "# add missing column information\n",
    "vt_df['city'] = 'Burlington'\n",
    "vt_df['incorporated_place'] = 'Burlington'\n",
    "vt_df['state'] = 'VT'\n",
    "\n",
    "print(vt_df.shape)\n",
    "vt_df.head()"
   ]
  },
  {
   "cell_type": "code",
   "execution_count": null,
   "metadata": {},
   "outputs": [],
   "source": [
    "# TODO:\n",
    "# join vt_df on census data"
   ]
  },
  {
   "cell_type": "code",
   "execution_count": null,
   "metadata": {},
   "outputs": [],
   "source": [
    "# # get postcodes for each address\n",
    "# vt_df['postcode'] = vt_df.apply(lambda x: get_postcode(x.number+' '+x.street+', '+x.city+', '+x.state+', USA'), axis=1)"
   ]
  },
  {
   "cell_type": "code",
   "execution_count": null,
   "metadata": {},
   "outputs": [],
   "source": [
    "# save data as geojson data\n",
    "vt_geojson = df_to_geojson(vt_df)\n",
    "# save geojson data as geojson.gz file\n",
    "compress_geojson(vt_geojson, output_path)"
   ]
  },
  {
   "cell_type": "code",
   "execution_count": null,
   "metadata": {},
   "outputs": [],
   "source": [
    "# # note: no postcode values\n",
    "# path = '../data/open_address/vt_df.csv.gz'\n",
    "# vt_df = addresses_df(path, 'Burlington', 'VT', 'Burlington')\n",
    "# vt_df.shape"
   ]
  },
  {
   "cell_type": "markdown",
   "metadata": {},
   "source": [
    "Norfolk, Virginia"
   ]
  },
  {
   "cell_type": "code",
   "execution_count": null,
   "metadata": {},
   "outputs": [],
   "source": [
    "# read in data as datframe\n",
    "input_path = '../data/open_address/original/city_of_norfolk-addresses-city.geojson'\n",
    "output_path = '../data/open_address/processed/city_of_norfolk-addresses-city.geojson.gz'\n",
    "\n",
    "va_df = geopandas.read_file(input_path)\n",
    "# add missing column information\n",
    "va_df['city'] = 'Norfolk'\n",
    "va_df['incorporated_place'] = 'Norfolk'\n",
    "va_df['state'] = 'VA'\n",
    "\n",
    "print(va_df.shape)\n",
    "va_df.head()"
   ]
  },
  {
   "cell_type": "code",
   "execution_count": null,
   "metadata": {},
   "outputs": [],
   "source": [
    "# TODO:\n",
    "# join va_df on census data"
   ]
  },
  {
   "cell_type": "code",
   "execution_count": null,
   "metadata": {},
   "outputs": [],
   "source": [
    "# # get postcodes for each address\n",
    "# va_df['postcode'] = va_df.apply(lambda x: get_postcode(x.number+' '+x.street+', '+x.city+', '+x.state+', USA'), axis=1)"
   ]
  },
  {
   "cell_type": "code",
   "execution_count": null,
   "metadata": {},
   "outputs": [],
   "source": [
    "# save data as geojson data\n",
    "va_geojson = df_to_geojson(va_df)\n",
    "# save geojson data as geojson.gz file\n",
    "compress_geojson(va_geojson, output_path)"
   ]
  },
  {
   "cell_type": "markdown",
   "metadata": {},
   "source": [
    "Charleston, West Virginia"
   ]
  },
  {
   "cell_type": "code",
   "execution_count": null,
   "metadata": {},
   "outputs": [],
   "source": [
    "# read in data as datframe\n",
    "input_path = '../data/open_address/original/wv_statewide-addresses-state.geojson'\n",
    "output_path = '../data/open_address/processed/wv_statewide-addresses-state.geojson.gz'\n",
    "\n",
    "wv_df = geopandas.read_file(input_path)\n",
    "\n",
    "print(wv_df.shape)\n",
    "wv_df.head()"
   ]
  },
  {
   "cell_type": "code",
   "execution_count": null,
   "metadata": {},
   "outputs": [],
   "source": [
    "# filter on addresses in Charleston\n",
    "wv_df = wv_df[wv_df['city'] == 'Charleston']\n",
    "# add missing column information\n",
    "wv_df['incorporated_place'] = 'Charleston'\n",
    "wv_df['state'] = 'WV'"
   ]
  },
  {
   "cell_type": "code",
   "execution_count": null,
   "metadata": {},
   "outputs": [],
   "source": [
    "# TODO:\n",
    "# join wv_df on census data"
   ]
  },
  {
   "cell_type": "code",
   "execution_count": null,
   "metadata": {},
   "outputs": [],
   "source": [
    "# # get postcodes for each address\n",
    "# wv_df['postcode'] = wv_df.apply(lambda x: get_postcode(x.number+' '+x.street+', '+x.city+', '+x.state+', USA'), axis=1)"
   ]
  },
  {
   "cell_type": "code",
   "execution_count": null,
   "metadata": {},
   "outputs": [],
   "source": [
    "# save data as geojson data\n",
    "wv_geojson = df_to_geojson(wv_df)\n",
    "# save geojson data as geojson.gz file\n",
    "compress_geojson(wv_geojson, output_path)"
   ]
  }
 ],
 "metadata": {
  "kernelspec": {
   "display_name": "Python 3",
   "language": "python",
   "name": "python3"
  },
  "language_info": {
   "codemirror_mode": {
    "name": "ipython",
    "version": 3
   },
   "file_extension": ".py",
   "mimetype": "text/x-python",
   "name": "python",
   "nbconvert_exporter": "python",
   "pygments_lexer": "ipython3",
   "version": "3.9.13"
  }
 },
 "nbformat": 4,
 "nbformat_minor": 2
}
