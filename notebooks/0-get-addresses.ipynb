{
 "cells": [
  {
   "cell_type": "markdown",
   "metadata": {},
   "source": [
    "### Store All Addresses in Cities of Interest\n",
    "Addresses were downloaded from [OpenAddress](https://batch.openaddresses.io/data#map=0/0/0). The addresses collected correspond to the following cities and states.\n",
    "- Hartford, Connecticut\n",
    "- Dover, Delaware\n",
    "- District of Columbia\n",
    "- Portland, Maine\n",
    "- Baltimore, Maryland\n",
    "- Boston, Massachusetts\n",
    "- Nashua, New Hampshire\n",
    "- Newark, New Jersey\n",
    "- New York City, New York\n",
    "- Philadelphia, Pennsylvania\n",
    "- Providence, Rhode Island\n",
    "- Burlington, Vermont\n",
    "- Norfolk, Virginia\n",
    "- Charleston, West Virginia\n"
   ]
  },
  {
   "cell_type": "code",
   "execution_count": 1,
   "metadata": {},
   "outputs": [],
   "source": [
    "import geopandas\n",
    "import json\n",
    "import gzip\n",
    "from pandas_geojson import to_geojson\n",
    "from geopy.geocoders import Nominatim \n",
    "import regex as re\n",
    "import numpy as np"
   ]
  },
  {
   "cell_type": "code",
   "execution_count": 2,
   "metadata": {},
   "outputs": [],
   "source": [
    "# transforms dataframe to geojson file\n",
    "def df_to_geojson(df):\n",
    "    df['lon'] = df['geometry'].apply(lambda x: str(x)[6:].split(' ')[0].replace('(', ''))\n",
    "    df['lat'] = df['geometry'].apply(lambda x: str(x)[6:].split(' ')[1].replace(')', ''))\n",
    "    \n",
    "    geojson_file = to_geojson(df=df, lat = 'lat', lon = 'lon', properties=['hash', 'number', 'street', 'unit', 'city', 'district', 'region', 'postcode', 'id', 'state', 'incorporated_place'])\n",
    "\n",
    "    return geojson_file"
   ]
  },
  {
   "cell_type": "code",
   "execution_count": 3,
   "metadata": {},
   "outputs": [],
   "source": [
    "# saves geojson data to geojson.gz file\n",
    "def compress_geojson(gejson_data, output_file):\n",
    "   with gzip.open(output_file, 'wt', encoding='utf-8') as f:\n",
    "        json.dump(gejson_data, f, ensure_ascii=False)"
   ]
  },
  {
   "cell_type": "code",
   "execution_count": 27,
   "metadata": {},
   "outputs": [],
   "source": [
    "# get postcode and county for an address\n",
    "def get_postcode_county(address: str):\n",
    "    # initialize Nominatim API  \n",
    "    geolocator = Nominatim(user_agent=\"ne_isp\") \n",
    "\n",
    "    # set location \n",
    "    location = geolocator.geocode(address) \n",
    "\n",
    "    # traverse the data \n",
    "    if location is not None:\n",
    "        address_info = location.raw['display_name']\n",
    "        # get postal code\n",
    "        postcode_matches = re.findall('[0-9-]+', address_info)\n",
    "        if len(postcode_matches)>1:\n",
    "            postcode = postcode_matches[1]\n",
    "        else:\n",
    "            postcode = postcode_matches[0]\n",
    "        # get county\n",
    "        address_info = address_info.split(',')\n",
    "        end = len(address_info)\n",
    "        county = address_info[end-4].strip()\n",
    "    else:\n",
    "        postcode = np.NaN\n",
    "        county = np.NaN\n",
    "\n",
    "    return [postcode, county]"
   ]
  },
  {
   "cell_type": "code",
   "execution_count": 28,
   "metadata": {},
   "outputs": [],
   "source": [
    "def read_data(input_path, city, state):\n",
    "    \n",
    "    df = geopandas.read_file(input_path)\n",
    "    \n",
    "    # add missing column information\n",
    "    df['incorporated_place'] = city\n",
    "    df['state'] = state\n",
    "    \n",
    "    if len(df['city'].unique()) == 0:\n",
    "        df['city'] = city\n",
    "    \n",
    "    return df"
   ]
  },
  {
   "cell_type": "code",
   "execution_count": 29,
   "metadata": {},
   "outputs": [],
   "source": [
    "def add_postcode_county(df):\n",
    "    \n",
    "    df['temp'] = df.apply(lambda x: get_postcode_county(x.number+' '+x.street+', '+x.city+', '+x.state+', USA'), axis=1)\n",
    "    \n",
    "    df['postcode'] = df['temp'].apply(lambda x: x[0])\n",
    "    df['district'] = df['temp'].apply(lambda x: x[1])\n",
    "    \n",
    "    df.drop(columns=['temp'], inplace=True)\n",
    "    \n",
    "    return df"
   ]
  },
  {
   "cell_type": "markdown",
   "metadata": {},
   "source": [
    "Bridgeport, Connecticut"
   ]
  },
  {
   "cell_type": "code",
   "execution_count": 30,
   "metadata": {},
   "outputs": [
    {
     "name": "stdout",
     "output_type": "stream",
     "text": [
      "(37923, 12)\n"
     ]
    },
    {
     "data": {
      "text/html": [
       "<div>\n",
       "<style scoped>\n",
       "    .dataframe tbody tr th:only-of-type {\n",
       "        vertical-align: middle;\n",
       "    }\n",
       "\n",
       "    .dataframe tbody tr th {\n",
       "        vertical-align: top;\n",
       "    }\n",
       "\n",
       "    .dataframe thead th {\n",
       "        text-align: right;\n",
       "    }\n",
       "</style>\n",
       "<table border=\"1\" class=\"dataframe\">\n",
       "  <thead>\n",
       "    <tr style=\"text-align: right;\">\n",
       "      <th></th>\n",
       "      <th>id</th>\n",
       "      <th>unit</th>\n",
       "      <th>number</th>\n",
       "      <th>street</th>\n",
       "      <th>city</th>\n",
       "      <th>district</th>\n",
       "      <th>region</th>\n",
       "      <th>postcode</th>\n",
       "      <th>hash</th>\n",
       "      <th>geometry</th>\n",
       "      <th>incorporated_place</th>\n",
       "      <th>state</th>\n",
       "    </tr>\n",
       "  </thead>\n",
       "  <tbody>\n",
       "    <tr>\n",
       "      <th>0</th>\n",
       "      <td></td>\n",
       "      <td></td>\n",
       "      <td>1</td>\n",
       "      <td>CIVIC CENTER PLZ</td>\n",
       "      <td></td>\n",
       "      <td></td>\n",
       "      <td></td>\n",
       "      <td></td>\n",
       "      <td>3d6b7182020b27b1</td>\n",
       "      <td>POINT (-72.67718 41.76845)</td>\n",
       "      <td>Hartford</td>\n",
       "      <td>CT</td>\n",
       "    </tr>\n",
       "    <tr>\n",
       "      <th>1</th>\n",
       "      <td></td>\n",
       "      <td></td>\n",
       "      <td>1</td>\n",
       "      <td>CIVIC CENTER PLZ</td>\n",
       "      <td></td>\n",
       "      <td></td>\n",
       "      <td></td>\n",
       "      <td></td>\n",
       "      <td>7d7e3e812f9143de</td>\n",
       "      <td>POINT (-72.67722 41.76835)</td>\n",
       "      <td>Hartford</td>\n",
       "      <td>CT</td>\n",
       "    </tr>\n",
       "    <tr>\n",
       "      <th>2</th>\n",
       "      <td></td>\n",
       "      <td></td>\n",
       "      <td>80</td>\n",
       "      <td>STATE HOUSE SQ</td>\n",
       "      <td></td>\n",
       "      <td></td>\n",
       "      <td></td>\n",
       "      <td></td>\n",
       "      <td>8e0c8d2fd7daf0b4</td>\n",
       "      <td>POINT (-72.67206 41.76637)</td>\n",
       "      <td>Hartford</td>\n",
       "      <td>CT</td>\n",
       "    </tr>\n",
       "    <tr>\n",
       "      <th>3</th>\n",
       "      <td></td>\n",
       "      <td></td>\n",
       "      <td>1</td>\n",
       "      <td>CIVIC CENTER PLZ</td>\n",
       "      <td></td>\n",
       "      <td></td>\n",
       "      <td></td>\n",
       "      <td></td>\n",
       "      <td>4a96226ee988b5ff</td>\n",
       "      <td>POINT (-72.67696 41.76764)</td>\n",
       "      <td>Hartford</td>\n",
       "      <td>CT</td>\n",
       "    </tr>\n",
       "    <tr>\n",
       "      <th>4</th>\n",
       "      <td></td>\n",
       "      <td></td>\n",
       "      <td>30</td>\n",
       "      <td>STATE HOUSE SQ</td>\n",
       "      <td></td>\n",
       "      <td></td>\n",
       "      <td></td>\n",
       "      <td></td>\n",
       "      <td>07ff199dc68a5d04</td>\n",
       "      <td>POINT (-72.67259 41.76732)</td>\n",
       "      <td>Hartford</td>\n",
       "      <td>CT</td>\n",
       "    </tr>\n",
       "  </tbody>\n",
       "</table>\n",
       "</div>"
      ],
      "text/plain": [
       "  id unit number            street city district region postcode  \\\n",
       "0              1  CIVIC CENTER PLZ                                 \n",
       "1              1  CIVIC CENTER PLZ                                 \n",
       "2             80    STATE HOUSE SQ                                 \n",
       "3              1  CIVIC CENTER PLZ                                 \n",
       "4             30    STATE HOUSE SQ                                 \n",
       "\n",
       "               hash                    geometry incorporated_place state  \n",
       "0  3d6b7182020b27b1  POINT (-72.67718 41.76845)           Hartford    CT  \n",
       "1  7d7e3e812f9143de  POINT (-72.67722 41.76835)           Hartford    CT  \n",
       "2  8e0c8d2fd7daf0b4  POINT (-72.67206 41.76637)           Hartford    CT  \n",
       "3  4a96226ee988b5ff  POINT (-72.67696 41.76764)           Hartford    CT  \n",
       "4  07ff199dc68a5d04  POINT (-72.67259 41.76732)           Hartford    CT  "
      ]
     },
     "execution_count": 30,
     "metadata": {},
     "output_type": "execute_result"
    }
   ],
   "source": [
    "# read in CT data as datframe\n",
    "input_path = '../data/open_address/original/city_of_hartford-addresses-city.geojson'\n",
    "output_path = '../data/open_address/processed/city_of_hartford-addresses-city.geojson.gz'\n",
    "\n",
    "ct_df = read_data(input_path,'Hartford', 'CT')\n",
    "\n",
    "print(ct_df.shape)\n",
    "ct_df.head()"
   ]
  },
  {
   "cell_type": "code",
   "execution_count": 31,
   "metadata": {},
   "outputs": [],
   "source": [
    "# TODO:\n",
    "# join ct_df on census data"
   ]
  },
  {
   "cell_type": "code",
   "execution_count": 33,
   "metadata": {},
   "outputs": [],
   "source": [
    "# # get postcodes and county for each address\n",
    "# ct_df = add_postcode_county(ct_df)"
   ]
  },
  {
   "cell_type": "code",
   "execution_count": null,
   "metadata": {},
   "outputs": [],
   "source": [
    "# save data as geojson data\n",
    "ct_geojson = df_to_geojson(ct_df)\n",
    "# save geojson data as geojson.gz file\n",
    "compress_geojson(ct_geojson, output_path)"
   ]
  },
  {
   "cell_type": "markdown",
   "metadata": {},
   "source": [
    "Dover, Delaware"
   ]
  },
  {
   "cell_type": "code",
   "execution_count": null,
   "metadata": {},
   "outputs": [],
   "source": [
    "# read in CT data as datframe\n",
    "input_path = '../data/open_address/original/city_of_dover-addresses-city.geojson'\n",
    "output_path = '../data/open_address/processed/city_of_dover-addresses-city.geojson.gz'\n",
    "\n",
    "de_df = read_data(input_path, 'Dover', 'DE')\n",
    "\n",
    "print(de_df.shape)\n",
    "de_df.head()"
   ]
  },
  {
   "cell_type": "code",
   "execution_count": null,
   "metadata": {},
   "outputs": [],
   "source": [
    "# TODO:\n",
    "# join de_df on census data"
   ]
  },
  {
   "cell_type": "code",
   "execution_count": null,
   "metadata": {},
   "outputs": [],
   "source": [
    "# get postcodes and county for each address\n",
    "# de_df = add_postcode_county(de_df)"
   ]
  },
  {
   "cell_type": "code",
   "execution_count": null,
   "metadata": {},
   "outputs": [],
   "source": [
    "# save data as geojson data\n",
    "de_geojson = df_to_geojson(de_df)\n",
    "# save geojson data as geojson.gz file\n",
    "compress_geojson(de_geojson, output_path)"
   ]
  },
  {
   "cell_type": "markdown",
   "metadata": {},
   "source": [
    "District of Columbia"
   ]
  },
  {
   "cell_type": "code",
   "execution_count": null,
   "metadata": {},
   "outputs": [],
   "source": [
    "# read in DC data as datframe\n",
    "input_path = '../data/open_address/original/dc_statewide-addresses-city.geojson'\n",
    "output_path = '../data/open_address/processed/dc_statewide-addresses-city.geojson.gz'\n",
    "\n",
    "dc_df = read_data(input_path, 'Washington', 'DC')\n",
    "\n",
    "print(dc_df.shape)\n",
    "dc_df.head()"
   ]
  },
  {
   "cell_type": "code",
   "execution_count": null,
   "metadata": {},
   "outputs": [],
   "source": [
    "# TODO:\n",
    "# join dc_df on census data"
   ]
  },
  {
   "cell_type": "code",
   "execution_count": null,
   "metadata": {},
   "outputs": [],
   "source": [
    "# get postcodes and county for each address\n",
    "# de_df = add_postcode_county(de_df)"
   ]
  },
  {
   "cell_type": "code",
   "execution_count": null,
   "metadata": {},
   "outputs": [],
   "source": [
    "# save data as geojson data\n",
    "dc_geojson = df_to_geojson(dc_df)\n",
    "# save geojson data as geojson.gz file\n",
    "compress_geojson(dc_geojson, output_path)"
   ]
  },
  {
   "cell_type": "markdown",
   "metadata": {},
   "source": [
    "Portland, Maine"
   ]
  },
  {
   "cell_type": "code",
   "execution_count": null,
   "metadata": {},
   "outputs": [],
   "source": [
    "# read in data as datframe\n",
    "input_path = '../data/open_address/original/me_statewide-addresses-state.geojson'\n",
    "output_path = '../data/open_address/processed/me_statewide-addresses-state.geojson.gz'\n",
    "\n",
    "me_df = read_data(input_path, 'Portland', 'ME')\n",
    "\n",
    "print(me_df.shape)\n",
    "me_df.head()"
   ]
  },
  {
   "cell_type": "code",
   "execution_count": null,
   "metadata": {},
   "outputs": [],
   "source": [
    "# filter by addresses in Portland\n",
    "portland_postcodes = ['04019', '04050', '04101', '04102', '04103', '04104', '04107', '04108', '04109', '04112', '04122', '04123', '04124']\n",
    "# filter addresses to keep only those with Portland postcodes\n",
    "me_df = me_df[me_df['postcode'].isin(portland_postcodes)]\n",
    "me_df = me_df[me_df['district']=='Cumberland']"
   ]
  },
  {
   "cell_type": "code",
   "execution_count": null,
   "metadata": {},
   "outputs": [],
   "source": [
    "# TODO:\n",
    "# join me_df on census data"
   ]
  },
  {
   "cell_type": "code",
   "execution_count": null,
   "metadata": {},
   "outputs": [],
   "source": [
    "# get postcodes and county for each address\n",
    "# me_df = add_postcode_county(me_df)"
   ]
  },
  {
   "cell_type": "code",
   "execution_count": null,
   "metadata": {},
   "outputs": [],
   "source": [
    "# save data as geojson data\n",
    "me_geojson = df_to_geojson(me_df)\n",
    "# save geojson data as geojson.gz file\n",
    "compress_geojson(me_geojson, output_path)"
   ]
  },
  {
   "cell_type": "markdown",
   "metadata": {},
   "source": [
    "Baltimore, Maryland"
   ]
  },
  {
   "cell_type": "code",
   "execution_count": null,
   "metadata": {},
   "outputs": [],
   "source": [
    "# read in data as datframe\n",
    "input_path = '../data/open_address/original/city_of_baltimore-addresses-city.geojson'\n",
    "output_path = '../data/open_address/processed/city_of_baltimore-addresses-city.geojson.gz'\n",
    "\n",
    "md_df = read_data(input_path, 'Baltimore', 'MD')\n",
    "\n",
    "\n",
    "print(md_df.shape)\n",
    "md_df.head()"
   ]
  },
  {
   "cell_type": "code",
   "execution_count": null,
   "metadata": {},
   "outputs": [],
   "source": [
    "# TODO:\n",
    "# join md_df on census data"
   ]
  },
  {
   "cell_type": "code",
   "execution_count": null,
   "metadata": {},
   "outputs": [],
   "source": [
    "# get postcodes and county for each address\n",
    "# md_df = add_postcode_county(md_df)"
   ]
  },
  {
   "cell_type": "code",
   "execution_count": null,
   "metadata": {},
   "outputs": [],
   "source": [
    "# save data as geojson data\n",
    "md_geojson = df_to_geojson(md_df)\n",
    "# save geojson data as geojson.gz file\n",
    "compress_geojson(md_geojson, output_path)"
   ]
  },
  {
   "cell_type": "markdown",
   "metadata": {},
   "source": [
    "Boston, Massachusetts"
   ]
  },
  {
   "cell_type": "code",
   "execution_count": null,
   "metadata": {},
   "outputs": [],
   "source": [
    "# read in DC data as datframe\n",
    "input_path = '../data/open_address/original/city_of_boston-addresses-city.geojson'\n",
    "output_path = '../data/open_address/processed/city_of_boston-addresses-city.geojson.gz'\n",
    "\n",
    "ma_df = read_data(input_path, 'Boston', 'MA')\n",
    "\n",
    "print(ma_df.shape)\n",
    "ma_df.head()"
   ]
  },
  {
   "cell_type": "code",
   "execution_count": null,
   "metadata": {},
   "outputs": [],
   "source": [
    "# TODO:\n",
    "# join ma_df on census data"
   ]
  },
  {
   "cell_type": "code",
   "execution_count": null,
   "metadata": {},
   "outputs": [],
   "source": [
    "# get postcodes and county for each address\n",
    "# ma_df = add_postcode_county(ma_df)"
   ]
  },
  {
   "cell_type": "code",
   "execution_count": null,
   "metadata": {},
   "outputs": [],
   "source": [
    "# save data as geojson data\n",
    "ma_geojson = df_to_geojson(ma_df)\n",
    "# save geojson data as geojson.gz file\n",
    "compress_geojson(ma_geojson, output_path)"
   ]
  },
  {
   "cell_type": "markdown",
   "metadata": {},
   "source": [
    "Nashua, New Hampshire"
   ]
  },
  {
   "cell_type": "code",
   "execution_count": null,
   "metadata": {},
   "outputs": [],
   "source": [
    "# read in data as datframe\n",
    "input_path = '../data/open_address/original/city_of_nashua-addresses-city.geojson'\n",
    "output_path = '../data/open_address/processed/city_of_nashua-addresses-city.geojson.gz'\n",
    "\n",
    "nh_df = read_data(input_path, 'Nashua', 'NH')\n",
    "\n",
    "\n",
    "print(nh_df.shape)\n",
    "nh_df.head()"
   ]
  },
  {
   "cell_type": "code",
   "execution_count": null,
   "metadata": {},
   "outputs": [],
   "source": [
    "# TODO:\n",
    "# join nh_df on census data"
   ]
  },
  {
   "cell_type": "code",
   "execution_count": null,
   "metadata": {},
   "outputs": [],
   "source": [
    "# get postcodes and county for each address\n",
    "# nh_df = add_postcode_county(nh_df)"
   ]
  },
  {
   "cell_type": "code",
   "execution_count": null,
   "metadata": {},
   "outputs": [],
   "source": [
    "# save data as geojson data\n",
    "nh_geojson = df_to_geojson(nh_df)\n",
    "# save geojson data as geojson.gz file\n",
    "compress_geojson(nh_geojson, output_path)"
   ]
  },
  {
   "cell_type": "markdown",
   "metadata": {},
   "source": [
    "Newark, New Jersey"
   ]
  },
  {
   "cell_type": "code",
   "execution_count": null,
   "metadata": {},
   "outputs": [],
   "source": [
    "# read in data as datframe\n",
    "input_path = '../data/open_address/original/nj_statewide-addresses-state.geojson'\n",
    "output_path = '../data/open_address/processed/nj_statewide-addresses-state.geojson.gz'\n",
    "\n",
    "nj_df = read_data(input_path, 'Newark', 'NJ')\n",
    "\n",
    "print(nj_df.shape)\n",
    "nj_df.head()"
   ]
  },
  {
   "cell_type": "code",
   "execution_count": null,
   "metadata": {},
   "outputs": [],
   "source": [
    "# filter on Newark postalcodes and district\n",
    "nj_df = nj_df[nj_df['city']=='NEWARK']"
   ]
  },
  {
   "cell_type": "code",
   "execution_count": null,
   "metadata": {},
   "outputs": [],
   "source": [
    "# TODO:\n",
    "# join nj_df on census data"
   ]
  },
  {
   "cell_type": "code",
   "execution_count": null,
   "metadata": {},
   "outputs": [],
   "source": [
    "# get postcodes and county for each address\n",
    "# nj_df = add_postcode_county(nj_df)"
   ]
  },
  {
   "cell_type": "code",
   "execution_count": null,
   "metadata": {},
   "outputs": [],
   "source": [
    "# save data as geojson data\n",
    "nj_geojson = df_to_geojson(nj_df)\n",
    "# save geojson data as geojson.gz file\n",
    "compress_geojson(nj_geojson, output_path)"
   ]
  },
  {
   "cell_type": "markdown",
   "metadata": {},
   "source": [
    "New York City, New York"
   ]
  },
  {
   "cell_type": "code",
   "execution_count": null,
   "metadata": {},
   "outputs": [],
   "source": [
    "# read in data as datframe\n",
    "input_path = '../data/open_address/original/city_of_new_york-addresses-city.geojson'\n",
    "output_path = '../data/open_address/processed/city_of_new_york-addresses-city.geojson.gz'\n",
    "\n",
    "ny_df  = read_data(input_path, 'New York', 'NY')\n",
    "\n",
    "\n",
    "print(ny_df.shape)\n",
    "ny_df.head()"
   ]
  },
  {
   "cell_type": "code",
   "execution_count": null,
   "metadata": {},
   "outputs": [],
   "source": [
    "# TODO:\n",
    "# join ny_df on census data"
   ]
  },
  {
   "cell_type": "code",
   "execution_count": null,
   "metadata": {},
   "outputs": [],
   "source": [
    "# get postcodes and county for each address\n",
    "# ny_df = add_postcode_county(ny_df)"
   ]
  },
  {
   "cell_type": "code",
   "execution_count": null,
   "metadata": {},
   "outputs": [],
   "source": [
    "# save data as geojson data\n",
    "ny_geojson = df_to_geojson(ny_df)\n",
    "# save geojson data as geojson.gz file\n",
    "compress_geojson(ny_geojson, output_path)"
   ]
  },
  {
   "cell_type": "markdown",
   "metadata": {},
   "source": [
    "Philadelphia, Pennsylvania"
   ]
  },
  {
   "cell_type": "code",
   "execution_count": null,
   "metadata": {},
   "outputs": [],
   "source": [
    "# read in data as datframe\n",
    "input_path = '../data/open_address/original/philadelphia-addresses-county.geojson'\n",
    "output_path = '../data/open_address/processed/philadelphia-addresses-county.geojson.gz'\n",
    "\n",
    "pa_df = read_data(input_path, 'Philadelphia', 'PA')\n",
    "\n",
    "print(pa_df.shape)\n",
    "pa_df.head()"
   ]
  },
  {
   "cell_type": "code",
   "execution_count": null,
   "metadata": {},
   "outputs": [],
   "source": [
    "# TODO:\n",
    "# join pa_df on census data"
   ]
  },
  {
   "cell_type": "code",
   "execution_count": null,
   "metadata": {},
   "outputs": [],
   "source": [
    "# get postcodes and county for each address\n",
    "# pa_df = add_postcode_county(pa_df)"
   ]
  },
  {
   "cell_type": "code",
   "execution_count": null,
   "metadata": {},
   "outputs": [],
   "source": [
    "# save data as geojson data\n",
    "pa_geojson = df_to_geojson(pa_df)\n",
    "# save geojson data as geojson.gz file\n",
    "compress_geojson(pa_geojson, output_path)"
   ]
  },
  {
   "cell_type": "markdown",
   "metadata": {},
   "source": [
    "Providence, Rhode Island"
   ]
  },
  {
   "cell_type": "code",
   "execution_count": null,
   "metadata": {},
   "outputs": [],
   "source": [
    "# read in data as datframe\n",
    "input_path = '../data/open_address/original/providence-addresses-city.geojson'\n",
    "output_path = '../data/open_address/processed/providence-addresses-city.geojson.gz'\n",
    "\n",
    "ri_df = read_data(input_path, 'Providence', 'RI')\n",
    "\n",
    "\n",
    "print(ri_df.shape)\n",
    "ri_df.head()"
   ]
  },
  {
   "cell_type": "code",
   "execution_count": null,
   "metadata": {},
   "outputs": [],
   "source": [
    "# TODO:\n",
    "# join ri_df on census data"
   ]
  },
  {
   "cell_type": "code",
   "execution_count": null,
   "metadata": {},
   "outputs": [],
   "source": [
    "# get postcodes and county for each address\n",
    "# ri_df = add_postcode_county(ri_df)"
   ]
  },
  {
   "cell_type": "code",
   "execution_count": null,
   "metadata": {},
   "outputs": [],
   "source": [
    "# save data as geojson data\n",
    "ri_geojson = df_to_geojson(ri_df)\n",
    "# save geojson data as geojson.gz file\n",
    "compress_geojson(ri_geojson, output_path)"
   ]
  },
  {
   "cell_type": "markdown",
   "metadata": {},
   "source": [
    "Burlington, Vermont"
   ]
  },
  {
   "cell_type": "code",
   "execution_count": null,
   "metadata": {},
   "outputs": [],
   "source": [
    "# read in data as datframe\n",
    "input_path = '../data/open_address/original/city_of_burlington-addresses-city.geojson'\n",
    "output_path = '../data/open_address/processed/city_of_burlington-addresses-city.geojson.gz'\n",
    "\n",
    "vt_df = read_data(input_path, 'Burlington', 'VT')\n",
    "\n",
    "print(vt_df.shape)\n",
    "vt_df.head()"
   ]
  },
  {
   "cell_type": "code",
   "execution_count": null,
   "metadata": {},
   "outputs": [],
   "source": [
    "# TODO:\n",
    "# join vt_df on census data"
   ]
  },
  {
   "cell_type": "code",
   "execution_count": null,
   "metadata": {},
   "outputs": [],
   "source": [
    "# get postcodes and county for each address\n",
    "# vt_df = add_postcode_county(vt_df)"
   ]
  },
  {
   "cell_type": "code",
   "execution_count": null,
   "metadata": {},
   "outputs": [],
   "source": [
    "# save data as geojson data\n",
    "vt_geojson = df_to_geojson(vt_df)\n",
    "# save geojson data as geojson.gz file\n",
    "compress_geojson(vt_geojson, output_path)"
   ]
  },
  {
   "cell_type": "code",
   "execution_count": null,
   "metadata": {},
   "outputs": [],
   "source": [
    "# # note: no postcode values\n",
    "# path = '../data/open_address/vt_df.csv.gz'\n",
    "# vt_df = addresses_df(path, 'Burlington', 'VT', 'Burlington')\n",
    "# vt_df.shape"
   ]
  },
  {
   "cell_type": "markdown",
   "metadata": {},
   "source": [
    "Norfolk, Virginia"
   ]
  },
  {
   "cell_type": "code",
   "execution_count": null,
   "metadata": {},
   "outputs": [],
   "source": [
    "# read in data as datframe\n",
    "input_path = '../data/open_address/original/city_of_norfolk-addresses-city.geojson'\n",
    "output_path = '../data/open_address/processed/city_of_norfolk-addresses-city.geojson.gz'\n",
    "\n",
    "va_df = read_data(input_path, 'Norfolk', 'VA')\n",
    "\n",
    "print(va_df.shape)\n",
    "va_df.head()"
   ]
  },
  {
   "cell_type": "code",
   "execution_count": null,
   "metadata": {},
   "outputs": [],
   "source": [
    "# TODO:\n",
    "# join va_df on census data"
   ]
  },
  {
   "cell_type": "code",
   "execution_count": null,
   "metadata": {},
   "outputs": [],
   "source": [
    "# get postcodes and county for each address\n",
    "# va_df = add_postcode_county(va_df)"
   ]
  },
  {
   "cell_type": "code",
   "execution_count": null,
   "metadata": {},
   "outputs": [],
   "source": [
    "# save data as geojson data\n",
    "va_geojson = df_to_geojson(va_df)\n",
    "# save geojson data as geojson.gz file\n",
    "compress_geojson(va_geojson, output_path)"
   ]
  },
  {
   "cell_type": "markdown",
   "metadata": {},
   "source": [
    "Charleston, West Virginia"
   ]
  },
  {
   "cell_type": "code",
   "execution_count": null,
   "metadata": {},
   "outputs": [],
   "source": [
    "# read in data as datframe\n",
    "input_path = '../data/open_address/original/wv_statewide-addresses-state.geojson'\n",
    "output_path = '../data/open_address/processed/wv_statewide-addresses-state.geojson.gz'\n",
    "\n",
    "wv_df = read_data(input_path, 'Charleston', 'WV')\n",
    "\n",
    "print(wv_df.shape)\n",
    "wv_df.head()"
   ]
  },
  {
   "cell_type": "code",
   "execution_count": null,
   "metadata": {},
   "outputs": [],
   "source": [
    "# filter on addresses in Charleston\n",
    "wv_df = wv_df[wv_df['city'] == 'Charleston']"
   ]
  },
  {
   "cell_type": "code",
   "execution_count": null,
   "metadata": {},
   "outputs": [],
   "source": [
    "# TODO:\n",
    "# join wv_df on census data"
   ]
  },
  {
   "cell_type": "code",
   "execution_count": null,
   "metadata": {},
   "outputs": [],
   "source": [
    "# get postcodes and county for each address\n",
    "# wv_df = add_postcode_county(wv_df)"
   ]
  },
  {
   "cell_type": "code",
   "execution_count": null,
   "metadata": {},
   "outputs": [],
   "source": [
    "# save data as geojson data\n",
    "wv_geojson = df_to_geojson(wv_df)\n",
    "# save geojson data as geojson.gz file\n",
    "compress_geojson(wv_geojson, output_path)"
   ]
  },
  {
   "cell_type": "code",
   "execution_count": null,
   "metadata": {},
   "outputs": [],
   "source": []
  },
  {
   "cell_type": "code",
   "execution_count": null,
   "metadata": {},
   "outputs": [],
   "source": []
  }
 ],
 "metadata": {
  "kernelspec": {
   "display_name": "Python 3",
   "language": "python",
   "name": "python3"
  },
  "language_info": {
   "codemirror_mode": {
    "name": "ipython",
    "version": 3
   },
   "file_extension": ".py",
   "mimetype": "text/x-python",
   "name": "python",
   "nbconvert_exporter": "python",
   "pygments_lexer": "ipython3",
   "version": "3.9.13"
  }
 },
 "nbformat": 4,
 "nbformat_minor": 2
}
