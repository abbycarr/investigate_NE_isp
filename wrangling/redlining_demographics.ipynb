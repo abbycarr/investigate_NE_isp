{
 "cells": [
  {
   "cell_type": "markdown",
   "metadata": {},
   "source": [
    "## Redlining Features\n",
    "The following notebook takes in an input file from INSERT FILE PATH. This file was generated from the following rough path:\n",
    "Addresses A --> For Each ISP:                \n",
    "                scraping(A) --> ISP output A\n",
    "\n",
    "For Each Output File (ISP) --> Census Demographics(ISP)"
   ]
  },
  {
   "cell_type": "markdown",
   "metadata": {},
   "source": [
    "As **input**, this notebook requires you to provide the path to the census files and the FCC Form 477 File.\n",
    "\n",
    "As **output**, this notebook requires you to define the path you'd like to save the output DataFrame to.\n",
    "\n",
    "Please set the **rerun** variable to **True** to regenerate existing files."
   ]
  },
  {
   "cell_type": "code",
   "execution_count": null,
   "metadata": {},
   "outputs": [],
   "source": [
    "import glob as glob\n",
    "\n",
    "# Set Input Paths\n",
    "directory = \"\"  # set beginning of path if needed\n",
    "addresses = \"data/address/original/xxx\"\n",
    "fcc_direct = \"data/input/redlining/xxx\"\n",
    "\n",
    "# Set Output Paths\n",
    "append_redline = \"data/address/transformation1/xxx\""
   ]
  },
  {
   "cell_type": "markdown",
   "metadata": {},
   "source": [
    "This page is additionally meant to take **input** of a Pandas DataFrame containing the following columns: \n",
    "\n",
    "{...\n",
    "\n",
    "CLASS `Address`: (contains `addressfull` methods)\n",
    "- `self.line1 = firstline`\n",
    "- `self.line2 = secondline`\n",
    "- `self.city = city`\n",
    "- `self.state = state`\n",
    "- `self.zipcode = zipcode`\n",
    "- `self.apt_type = apt_type`\n",
    "- `self.apt_number = apt_number`\n",
    "\n",
    "ADDITIONALLY:\n",
    "- `latitude`\n",
    "- `longitude`\n",
    "\n",
    "...}"
   ]
  },
  {
   "cell_type": "markdown",
   "metadata": {},
   "source": [
    "This page is meant to **SAVE** and **output** the following feature appended to the input \".geojson\":\n",
    "\n",
    "{...\n",
    " \n",
    " REDLINING FEATURE:\n",
    "  - `redlining_grade = redlining grade, merged from Mapping Inequality based on the lat and lon of the address`\n",
    "  \n",
    "...}\n"
   ]
  },
  {
   "cell_type": "markdown",
   "metadata": {},
   "source": []
  }
 ],
 "metadata": {
  "language_info": {
   "name": "python"
  }
 },
 "nbformat": 4,
 "nbformat_minor": 2
}
