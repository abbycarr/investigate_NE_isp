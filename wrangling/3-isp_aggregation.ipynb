{
 "cells": [
  {
   "cell_type": "markdown",
   "metadata": {},
   "source": [
    "## ISP Calculations\n",
    "\n",
    "Calculating values:\n",
    "\n",
    "- ``\n",
    "- ``\n",
    "- ``\n",
    "\n",
    "The ISP and Census files will be loaded & applied to create calculations. "
   ]
  },
  {
   "cell_type": "code",
   "execution_count": null,
   "metadata": {},
   "outputs": [],
   "source": []
  }
 ],
 "metadata": {
  "language_info": {
   "name": "python"
  }
 },
 "nbformat": 4,
 "nbformat_minor": 2
}
