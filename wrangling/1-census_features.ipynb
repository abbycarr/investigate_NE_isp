{
 "cells": [
  {
   "cell_type": "markdown",
   "metadata": {},
   "source": [
    "# Census Demographic Features"
   ]
  },
  {
   "cell_type": "markdown",
   "metadata": {},
   "source": [
    "As **input**, this notebook requires you to provide the path to the census files.\n",
    "\n",
    "As **output**, this notebook requires you to define the path you'd like to save the output DataFrame to.\n",
    "\n",
    "The last Census was 2020, meaning that the collected files from the original markup study can be used for this. Additional files are going to be scraped."
   ]
  },
  {
   "cell_type": "markdown",
   "metadata": {},
   "source": [
    "This page is additionally meant to take **input** from a geojson file\\* containing at least the following hierarchy: \n",
    "\n",
    "\n",
    "{...\n",
    "\n",
    "For Each Address:\n",
    "- `state`\n",
    "- `county`\n",
    "\n",
    "\n",
    "Within ACS dictionary:\n",
    "- `geography = 'block_group'`\n",
    "  Each Key:\n",
    "  - `column`\n",
    "  \n",
    "\n",
    "...}\n"
   ]
  },
  {
   "cell_type": "markdown",
   "metadata": {},
   "source": [
    "#### ACS tables\n",
    "Here you will set the tables and columns to grab for each state/county pair"
   ]
  },
  {
   "cell_type": "code",
   "execution_count": 2,
   "metadata": {},
   "outputs": [],
   "source": [
    "# ACS Dictionary - taken right from the original Markup Study \n",
    "acs_tables = [\n",
    "    {\n",
    "        \"display_name\": \"race_ethnicity\",\n",
    "        \"table_name\": \"B03002\",\n",
    "        \"url\": \"https://api.census.gov/data/2018/acs/acs5/groups/B03002.html\",\n",
    "        \"columns\": {\n",
    "            \"block group\": \"block_group\",\n",
    "            \"B03002_001E\": \"race_total_estimate\",\n",
    "            \"B03002_003E\": \"race_white_alone\",\n",
    "            \"B03002_004E\": \"race_black_alone\",\n",
    "            \"B03002_005E\": \"race_aindian_alone\",\n",
    "            \"B03002_006E\": \"race_asian_alone\",\n",
    "            \"B03002_007E\": \"race_pacific_islander_native_hawaiian_alone\",\n",
    "            \"B03002_008E\": \"race_some_other_alone\",\n",
    "            \"B03002_009E\": \"race_two_or_more_alone\",\n",
    "            \"B03002_012E\": \"race_latino_alone\",\n",
    "        },\n",
    "    },\n",
    "    {\n",
    "        \"display_name\": \"household_income_2\",\n",
    "        \"table_name\": \"B19013\",\n",
    "        \"url\": \"https://api.census.gov/data/2018/acs/acs5/groups/B19013.html\",\n",
    "        \"columns\": {\n",
    "            \"block group\": \"block_group\",\n",
    "            \"B19013_001E\": \"median_household_income\",\n",
    "        },\n",
    "    },\n",
    "    {\n",
    "        \"display_name\": \"internet_subscription\",\n",
    "        \"table_name\": \"B28002\",\n",
    "        \"url\": \"https://api.census.gov/data/2018/acs/acs5/groups/B28002.html\",\n",
    "        \"columns\": {\n",
    "            \"block group\": \"block_group\",\n",
    "            \"B28002_001E\": \"internet_total_estimate\",\n",
    "            \"B28002_002E\": \"internet_subscriptions_any\",\n",
    "            \"B28002_004E\": \"internet_broadband\",\n",
    "            \"B28002_005E\": \"internet_mobile\",\n",
    "            \"B28002_006E\": \"internet_mobile_only\",\n",
    "            \"B28002_013E\": \"internet_no_access\",\n",
    "        },\n",
    "    },\n",
    "]"
   ]
  },
  {
   "cell_type": "markdown",
   "metadata": {},
   "source": [
    "## Collect State, County Pairs\n",
    "From the appropriate addresses, collect all the state county pairs we want to cover"
   ]
  },
  {
   "cell_type": "code",
   "execution_count": 3,
   "metadata": {},
   "outputs": [],
   "source": [
    "import glob as glob\n",
    "import geopandas\n",
    "import os\n",
    "import pandas as pd\n",
    "import requests"
   ]
  },
  {
   "cell_type": "code",
   "execution_count": 15,
   "metadata": {},
   "outputs": [
    {
     "name": "stdout",
     "output_type": "stream",
     "text": [
      "/Users/abbycarr/Places_Things/investigate_NE_isp/data/open_address/original/philadelphia-addresses-county.geojson\n",
      "/Users/abbycarr/Places_Things/investigate_NE_isp/data/open_address/original/city_of_boston-addresses-city.geojson\n",
      "/Users/abbycarr/Places_Things/investigate_NE_isp/data/open_address/original/city_of_new_york-addresses-city.geojson\n",
      "/Users/abbycarr/Places_Things/investigate_NE_isp/data/open_address/original/me_statewide-addresses-state.geojson\n",
      "/Users/abbycarr/Places_Things/investigate_NE_isp/data/open_address/original/wv_statewide-addresses-state.geojson\n",
      "/Users/abbycarr/Places_Things/investigate_NE_isp/data/open_address/original/city_of_nashua-addresses-city.geojson\n",
      "/Users/abbycarr/Places_Things/investigate_NE_isp/data/open_address/original/city_of_dover-addresses-city.geojson\n",
      "/Users/abbycarr/Places_Things/investigate_NE_isp/data/open_address/original/city_of_baltimore-addresses-city.geojson\n",
      "/Users/abbycarr/Places_Things/investigate_NE_isp/data/open_address/original/city_of_burlington-addresses-city.geojson\n",
      "/Users/abbycarr/Places_Things/investigate_NE_isp/data/open_address/original/city_of_hartford-addresses-city.geojson\n",
      "/Users/abbycarr/Places_Things/investigate_NE_isp/data/open_address/original/dc_statewide-addresses-city.geojson\n",
      "/Users/abbycarr/Places_Things/investigate_NE_isp/data/open_address/original/providence-addresses-city.geojson\n",
      "/Users/abbycarr/Places_Things/investigate_NE_isp/data/open_address/original/city_of_norfolk-addresses-city.geojson\n"
     ]
    }
   ],
   "source": [
    "# Set Variables\n",
    "address_directory = glob.glob(\n",
    "    \"/Users/abbycarr/Places_Things/investigate_NE_isp/data/open_address/original/*.geojson\"\n",
    ")\n",
    "year = 2019\n",
    "api_key = \"\"\n",
    "\n",
    "# Create the list of api calls\n",
    "#   For each: (state, county), (geography, table_name, column name)\n",
    "calls = []\n",
    "\n",
    "for f in address_directory:\n",
    "    geopandas.read_file(f)"
   ]
  },
  {
   "cell_type": "code",
   "execution_count": null,
   "metadata": {},
   "outputs": [],
   "source": [
    "def download_acs(\n",
    "    column: str = \"B03002_001E\",\n",
    "    geography: str = \"block group\",\n",
    "    year: int = 2019,\n",
    "    state: int = 55,\n",
    "    county: [int, str] = 1,\n",
    "    data_dir: str = \"data/\",\n",
    "    api_key: str = None,\n",
    "    debug: bool = False,\n",
    ") -> dict:\n",
    "\n",
    "    def make_acs_request(year, column, geography, state, county, api_key, debug=False):\n",
    "        county = str(county).zfill(3)\n",
    "        url = (\n",
    "            f\"https://api.census.gov/data/{year}/acs/acs5?get={column}&\"\n",
    "            f\"for={geography}:*&in=state:{state}%20county:{county}&key={api_key}\"\n",
    "        )\n",
    "        if debug:\n",
    "            print(url)\n",
    "        return requests.get(url)\n",
    "\n",
    "    # check if the file exists...\n",
    "    table = column.split(\"_\")[0]\n",
    "    geography_ = geography.replace(\" \", \"_\")\n",
    "    fn_out = f\"{data_dir}/{geography_}/{year}/{state}/{county}/{table}/{column}.csv.gz\"\n",
    "    if os.path.exists(fn_out):\n",
    "        return 1\n",
    "    os.makedirs(os.path.dirname(fn_out), exist_ok=True)\n",
    "    print(f\"collecting {fn_out}\")\n",
    "    # make the request\n",
    "    resp = make_acs_request(year, column, geography, state, county, api_key, debug)\n",
    "\n",
    "    # validate the response and save it\n",
    "    if resp.status_code != 200:\n",
    "        pd.DataFrame([]).to_csv(fn_out, index=False, compression=\"gzip\")\n",
    "        return 0\n",
    "    _data = resp.json()\n",
    "    _df = pd.DataFrame(_data[1:], columns=_data[0])\n",
    "    _df.to_csv(fn_out, index=False, compression=\"gzip\")\n",
    "    return 1"
   ]
  }
 ],
 "metadata": {
  "kernelspec": {
   "display_name": "base",
   "language": "python",
   "name": "python3"
  },
  "language_info": {
   "codemirror_mode": {
    "name": "ipython",
    "version": 3
   },
   "file_extension": ".py",
   "mimetype": "text/x-python",
   "name": "python",
   "nbconvert_exporter": "python",
   "pygments_lexer": "ipython3",
   "version": "3.11.4"
  }
 },
 "nbformat": 4,
 "nbformat_minor": 2
}
