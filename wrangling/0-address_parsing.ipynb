{
 "cells": [
  {
   "cell_type": "markdown",
   "metadata": {},
   "source": [
    "## Store and Process All Addresses in Cities of Interest\n",
    "The goal of this notebook is to get addresses for the cities of interest which correspond to  the cities below. Address data was  downloaded from [OpenAddress](https://batch.openaddresses.io/data#map=0/0/0). The addresses collected were then processed to have values filled in for their incorporated place, city, state, zipcode, and census block group. For each city, a sample of the addresses was taken and stored in which each block group in the city had 10 addresses represented in the sample.\n",
    "\n",
    "    - Hartford, Connecticut\n",
    "    - Dover, Delaware\n",
    "    - District of Columbia\n",
    "    - Portland, Maine\n",
    "    - Baltimore, Maryland\n",
    "    - Boston, Massachusetts\n",
    "    - Nashua, New Hampshire\n",
    "    - Newark, New Jersey\n",
    "    - New York City, New York\n",
    "    - Philadelphia, Pennsylvania\n",
    "    - Providence, Rhode Island\n",
    "    - Burlington, Vermont\n",
    "    - Norfolk, Virginia\n",
    "    - Charleston, West Virginia\n"
   ]
  },
  {
   "cell_type": "code",
   "execution_count": 1,
   "metadata": {},
   "outputs": [],
   "source": [
    "import geopandas\n",
    "import json\n",
    "import gzip\n",
    "from pandas_geojson import to_geojson\n",
    "import censusgeocode as cg\n",
    "import numpy as np\n",
    "import pandas as pd"
   ]
  },
  {
   "cell_type": "code",
   "execution_count": 2,
   "metadata": {},
   "outputs": [],
   "source": [
    "# transforms dataframe to geojson file\n",
    "def df_to_geojson(df):\n",
    "    \n",
    "    geojson_file = to_geojson(df=df, lat = 'lat', lon = 'lon', properties=['hash', 'number', 'street', 'unit', 'city', 'district', 'region', 'postcode', 'id', 'state', 'incorporated_place', 'block_group'])\n",
    "\n",
    "    return geojson_file"
   ]
  },
  {
   "cell_type": "code",
   "execution_count": 3,
   "metadata": {},
   "outputs": [],
   "source": [
    "# saves geojson data to geojson.gz file\n",
    "def compress_geojson(gejson_data, output_file):\n",
    "   with gzip.open(output_file, 'wt', encoding='utf-8') as f:\n",
    "        json.dump(gejson_data, f, ensure_ascii=False)"
   ]
  },
  {
   "cell_type": "code",
   "execution_count": 4,
   "metadata": {},
   "outputs": [],
   "source": [
    "def read_data(input_path, incorporated_place, city, state):\n",
    "    df = geopandas.read_file(input_path)\n",
    "\n",
    "    # add missing column information\n",
    "    df[\"incorporated_place\"] = incorporated_place\n",
    "    df[\"state\"] = state\n",
    "    df[\"city\"] = city\n",
    "\n",
    "    df[\"lon\"] = df.loc[:, \"geometry\"].x\n",
    "    df[\"lat\"] = df.loc[:, \"geometry\"].y\n",
    "\n",
    "    df.drop(columns=[\"geometry\"], inplace=True)\n",
    "\n",
    "    return df"
   ]
  },
  {
   "cell_type": "markdown",
   "metadata": {},
   "source": [
    "! pip install -U googlemaps"
   ]
  },
  {
   "cell_type": "code",
   "execution_count": 5,
   "metadata": {},
   "outputs": [],
   "source": [
    "# import googlemaps\n",
    "\n",
    "# gmaps = googlemaps.Client(key=\"\")\n",
    "\n",
    "\n",
    "# # get postcode and county for an address\n",
    "# def get_postcode_county(add, gmaps=gmaps):\n",
    "#     resp = gmaps.geocode(add)\n",
    "#     if len(resp) < 1:\n",
    "#         return [None, None]\n",
    "#     if len(resp) >= 1:\n",
    "#         resp = resp[0]\n",
    "#     post, county = \"\", \"\"\n",
    "\n",
    "#     for component in resp[\"address_components\"]:\n",
    "#         if \"administrative_area_level_2\" in component[\"types\"]:\n",
    "#             county = component[\"long_name\"]\n",
    "#         if \"postal_code\" in component[\"types\"]:\n",
    "#             post = component[\"short_name\"]  # same difference for postal code\n",
    "#     return [post, county]"
   ]
  },
  {
   "cell_type": "code",
   "execution_count": 6,
   "metadata": {},
   "outputs": [],
   "source": [
    "# def add_postcode_county(df):\n",
    "#     df[\"temp\"] = df.apply(\n",
    "#         lambda x: get_postcode_county(\n",
    "#             x.number + \" \" + x.street + \", \" + x.city + \", \" + x.state + \", USA\"\n",
    "#         ),\n",
    "#         axis=1,\n",
    "#     )\n",
    "\n",
    "#     df[\"postcode\"] = df.loc[:, \"temp\"].apply(lambda x: x[0])\n",
    "#     df[\"district\"] = df.loc[:, \"temp\"].apply(lambda x: x[1])\n",
    "\n",
    "#     df.drop(columns=[\"temp\"], inplace=True)\n",
    "\n",
    "#     return df"
   ]
  },
  {
   "cell_type": "code",
   "execution_count": 7,
   "metadata": {},
   "outputs": [],
   "source": [
    "def get_census_info(number, street, city, state, zipcode):\n",
    "    try:  \n",
    "        result = cg.address(number+' '+street, city=city, state=state, zip=zipcode)  \n",
    "        blk_grp_dict = result[0]['geographies']['2020 Census Blocks'][0]\n",
    "        state = int(blk_grp_dict['STATE'])\n",
    "        county = int(blk_grp_dict['COUNTY'])\n",
    "        tract = int(blk_grp_dict['TRACT'])\n",
    "        block_group = int(blk_grp_dict['BLKGRP'])\n",
    "        geoid = f\"{state:02}{county:03}{tract:06}{block_group:01}\"\n",
    "        return pd.Series({'block_group':str(block_group), 'geoid': str(geoid)})\n",
    "    except:\n",
    "        block_group = np.NaN\n",
    "        geoid = np.NaN\n",
    "        return pd.Series({'block_group':block_group, 'geoid': geoid})"
   ]
  },
  {
   "cell_type": "markdown",
   "metadata": {},
   "source": [
    "Boston, Massachusetts"
   ]
  },
  {
   "cell_type": "code",
   "execution_count": 8,
   "metadata": {},
   "outputs": [
    {
     "name": "stdout",
     "output_type": "stream",
     "text": [
      "(323574, 13)\n"
     ]
    },
    {
     "data": {
      "text/html": [
       "<div>\n",
       "<style scoped>\n",
       "    .dataframe tbody tr th:only-of-type {\n",
       "        vertical-align: middle;\n",
       "    }\n",
       "\n",
       "    .dataframe tbody tr th {\n",
       "        vertical-align: top;\n",
       "    }\n",
       "\n",
       "    .dataframe thead th {\n",
       "        text-align: right;\n",
       "    }\n",
       "</style>\n",
       "<table border=\"1\" class=\"dataframe\">\n",
       "  <thead>\n",
       "    <tr style=\"text-align: right;\">\n",
       "      <th></th>\n",
       "      <th>hash</th>\n",
       "      <th>number</th>\n",
       "      <th>street</th>\n",
       "      <th>unit</th>\n",
       "      <th>city</th>\n",
       "      <th>district</th>\n",
       "      <th>region</th>\n",
       "      <th>postcode</th>\n",
       "      <th>id</th>\n",
       "      <th>incorporated_place</th>\n",
       "      <th>state</th>\n",
       "      <th>lon</th>\n",
       "      <th>lat</th>\n",
       "    </tr>\n",
       "  </thead>\n",
       "  <tbody>\n",
       "    <tr>\n",
       "      <th>0</th>\n",
       "      <td>6db8d40a96a73ac7</td>\n",
       "      <td>6</td>\n",
       "      <td>A Street</td>\n",
       "      <td></td>\n",
       "      <td>Boston</td>\n",
       "      <td>Suffolk County</td>\n",
       "      <td></td>\n",
       "      <td>02136</td>\n",
       "      <td></td>\n",
       "      <td>Boston city</td>\n",
       "      <td>MA</td>\n",
       "      <td>-71.125036</td>\n",
       "      <td>42.250618</td>\n",
       "    </tr>\n",
       "    <tr>\n",
       "      <th>1</th>\n",
       "      <td>96b30bef0eef7d86</td>\n",
       "      <td>7</td>\n",
       "      <td>A Street</td>\n",
       "      <td></td>\n",
       "      <td>Boston</td>\n",
       "      <td>Suffolk County</td>\n",
       "      <td></td>\n",
       "      <td>02136</td>\n",
       "      <td></td>\n",
       "      <td>Boston city</td>\n",
       "      <td>MA</td>\n",
       "      <td>-71.125400</td>\n",
       "      <td>42.250460</td>\n",
       "    </tr>\n",
       "    <tr>\n",
       "      <th>2</th>\n",
       "      <td>a23223056b6593a0</td>\n",
       "      <td>10</td>\n",
       "      <td>A Street</td>\n",
       "      <td></td>\n",
       "      <td>Boston</td>\n",
       "      <td>Suffolk County</td>\n",
       "      <td></td>\n",
       "      <td>02127</td>\n",
       "      <td></td>\n",
       "      <td>Boston city</td>\n",
       "      <td>MA</td>\n",
       "      <td>-71.056800</td>\n",
       "      <td>42.340880</td>\n",
       "    </tr>\n",
       "    <tr>\n",
       "      <th>3</th>\n",
       "      <td>d878c704ce81bba1</td>\n",
       "      <td>172</td>\n",
       "      <td>A Street</td>\n",
       "      <td></td>\n",
       "      <td>Boston</td>\n",
       "      <td>Suffolk County</td>\n",
       "      <td></td>\n",
       "      <td>02210</td>\n",
       "      <td></td>\n",
       "      <td>Boston city</td>\n",
       "      <td>MA</td>\n",
       "      <td>-71.053148</td>\n",
       "      <td>42.344837</td>\n",
       "    </tr>\n",
       "    <tr>\n",
       "      <th>4</th>\n",
       "      <td>222c7a044af11e7a</td>\n",
       "      <td>176</td>\n",
       "      <td>A Street</td>\n",
       "      <td></td>\n",
       "      <td>Boston</td>\n",
       "      <td>Suffolk County</td>\n",
       "      <td></td>\n",
       "      <td>02210</td>\n",
       "      <td></td>\n",
       "      <td>Boston city</td>\n",
       "      <td>MA</td>\n",
       "      <td>-71.053060</td>\n",
       "      <td>42.344958</td>\n",
       "    </tr>\n",
       "  </tbody>\n",
       "</table>\n",
       "</div>"
      ],
      "text/plain": [
       "               hash number    street unit    city        district region  \\\n",
       "0  6db8d40a96a73ac7      6  A Street       Boston  Suffolk County          \n",
       "1  96b30bef0eef7d86      7  A Street       Boston  Suffolk County          \n",
       "2  a23223056b6593a0     10  A Street       Boston  Suffolk County          \n",
       "3  d878c704ce81bba1    172  A Street       Boston  Suffolk County          \n",
       "4  222c7a044af11e7a    176  A Street       Boston  Suffolk County          \n",
       "\n",
       "  postcode id incorporated_place state        lon        lat  \n",
       "0    02136           Boston city    MA -71.125036  42.250618  \n",
       "1    02136           Boston city    MA -71.125400  42.250460  \n",
       "2    02127           Boston city    MA -71.056800  42.340880  \n",
       "3    02210           Boston city    MA -71.053148  42.344837  \n",
       "4    02210           Boston city    MA -71.053060  42.344958  "
      ]
     },
     "execution_count": 8,
     "metadata": {},
     "output_type": "execute_result"
    }
   ],
   "source": [
    "# read in Boston data as datframe\n",
    "input_path = '../data/open_address/original/city_of_boston-addresses-city.geojson'\n",
    "output_path_csv = '../data/open_address/processed/csv/city_of_boston-addresses-city.csv.gz'\n",
    "output_path_geojson = '../data/open_address/processed/geojson/city_of_boston-addresses-city.geojson.gz'\n",
    "\n",
    "# read in data and set city, incorporated city, and state values\n",
    "ma_df = read_data(input_path, 'Boston city', 'Boston', 'MA')\n",
    "# set county alue\n",
    "ma_df['district'] = 'Suffolk County'\n",
    "# only get one house number\n",
    "ma_df['number'] = ma_df['number'].apply(lambda x: x.split('-')[0])\n",
    "print(ma_df.shape)\n",
    "ma_df.head()"
   ]
  },
  {
   "cell_type": "code",
   "execution_count": 9,
   "metadata": {},
   "outputs": [],
   "source": [
    "# get a sample of 5,000 addresses\n",
    "ma_sample_df = ma_df.sample(n=5000)"
   ]
  },
  {
   "cell_type": "code",
   "execution_count": 10,
   "metadata": {},
   "outputs": [
    {
     "data": {
      "text/html": [
       "<div>\n",
       "<style scoped>\n",
       "    .dataframe tbody tr th:only-of-type {\n",
       "        vertical-align: middle;\n",
       "    }\n",
       "\n",
       "    .dataframe tbody tr th {\n",
       "        vertical-align: top;\n",
       "    }\n",
       "\n",
       "    .dataframe thead th {\n",
       "        text-align: right;\n",
       "    }\n",
       "</style>\n",
       "<table border=\"1\" class=\"dataframe\">\n",
       "  <thead>\n",
       "    <tr style=\"text-align: right;\">\n",
       "      <th></th>\n",
       "      <th>hash</th>\n",
       "      <th>number</th>\n",
       "      <th>street</th>\n",
       "      <th>unit</th>\n",
       "      <th>city</th>\n",
       "      <th>district</th>\n",
       "      <th>region</th>\n",
       "      <th>postcode</th>\n",
       "      <th>id</th>\n",
       "      <th>incorporated_place</th>\n",
       "      <th>state</th>\n",
       "      <th>lon</th>\n",
       "      <th>lat</th>\n",
       "      <th>block_group</th>\n",
       "      <th>geoid</th>\n",
       "    </tr>\n",
       "  </thead>\n",
       "  <tbody>\n",
       "    <tr>\n",
       "      <th>39601</th>\n",
       "      <td>d2aec566d471e747</td>\n",
       "      <td>16</td>\n",
       "      <td>Creighton Street</td>\n",
       "      <td></td>\n",
       "      <td>Boston</td>\n",
       "      <td>Suffolk County</td>\n",
       "      <td></td>\n",
       "      <td>02130</td>\n",
       "      <td></td>\n",
       "      <td>Boston city</td>\n",
       "      <td>MA</td>\n",
       "      <td>-71.10852</td>\n",
       "      <td>42.32296</td>\n",
       "      <td>1</td>\n",
       "      <td>250251207001</td>\n",
       "    </tr>\n",
       "    <tr>\n",
       "      <th>121464</th>\n",
       "      <td>e3a1718dfa7ad40a</td>\n",
       "      <td>78</td>\n",
       "      <td>Train Street</td>\n",
       "      <td>1</td>\n",
       "      <td>Boston</td>\n",
       "      <td>Suffolk County</td>\n",
       "      <td></td>\n",
       "      <td>02122</td>\n",
       "      <td></td>\n",
       "      <td>Boston city</td>\n",
       "      <td>MA</td>\n",
       "      <td>-71.05414</td>\n",
       "      <td>42.29319</td>\n",
       "      <td>1</td>\n",
       "      <td>250251006011</td>\n",
       "    </tr>\n",
       "    <tr>\n",
       "      <th>174510</th>\n",
       "      <td>7bf2acccae085422</td>\n",
       "      <td>83</td>\n",
       "      <td>W Brookline Street</td>\n",
       "      <td>2</td>\n",
       "      <td>Boston</td>\n",
       "      <td>Suffolk County</td>\n",
       "      <td></td>\n",
       "      <td>02118</td>\n",
       "      <td></td>\n",
       "      <td>Boston city</td>\n",
       "      <td>MA</td>\n",
       "      <td>-71.07361</td>\n",
       "      <td>42.34072</td>\n",
       "      <td>2</td>\n",
       "      <td>250250705022</td>\n",
       "    </tr>\n",
       "    <tr>\n",
       "      <th>55948</th>\n",
       "      <td>175f2c0ed8d4b617</td>\n",
       "      <td>8</td>\n",
       "      <td>Garrison Street</td>\n",
       "      <td>408</td>\n",
       "      <td>Boston</td>\n",
       "      <td>Suffolk County</td>\n",
       "      <td></td>\n",
       "      <td>02116</td>\n",
       "      <td></td>\n",
       "      <td>Boston city</td>\n",
       "      <td>MA</td>\n",
       "      <td>-71.07964</td>\n",
       "      <td>42.34615</td>\n",
       "      <td>1</td>\n",
       "      <td>250250106001</td>\n",
       "    </tr>\n",
       "    <tr>\n",
       "      <th>35640</th>\n",
       "      <td>7a0fb8b823b6d0d3</td>\n",
       "      <td>250</td>\n",
       "      <td>Commonwealth Avenue</td>\n",
       "      <td>12</td>\n",
       "      <td>Boston</td>\n",
       "      <td>Suffolk County</td>\n",
       "      <td></td>\n",
       "      <td>02116</td>\n",
       "      <td></td>\n",
       "      <td>Boston city</td>\n",
       "      <td>MA</td>\n",
       "      <td>-71.08285</td>\n",
       "      <td>42.35019</td>\n",
       "      <td>1</td>\n",
       "      <td>250250107011</td>\n",
       "    </tr>\n",
       "  </tbody>\n",
       "</table>\n",
       "</div>"
      ],
      "text/plain": [
       "                    hash number               street unit    city  \\\n",
       "39601   d2aec566d471e747     16     Creighton Street       Boston   \n",
       "121464  e3a1718dfa7ad40a     78         Train Street    1  Boston   \n",
       "174510  7bf2acccae085422     83   W Brookline Street    2  Boston   \n",
       "55948   175f2c0ed8d4b617      8      Garrison Street  408  Boston   \n",
       "35640   7a0fb8b823b6d0d3    250  Commonwealth Avenue   12  Boston   \n",
       "\n",
       "              district region postcode id incorporated_place state       lon  \\\n",
       "39601   Suffolk County           02130           Boston city    MA -71.10852   \n",
       "121464  Suffolk County           02122           Boston city    MA -71.05414   \n",
       "174510  Suffolk County           02118           Boston city    MA -71.07361   \n",
       "55948   Suffolk County           02116           Boston city    MA -71.07964   \n",
       "35640   Suffolk County           02116           Boston city    MA -71.08285   \n",
       "\n",
       "             lat block_group         geoid  \n",
       "39601   42.32296           1  250251207001  \n",
       "121464  42.29319           1  250251006011  \n",
       "174510  42.34072           2  250250705022  \n",
       "55948   42.34615           1  250250106001  \n",
       "35640   42.35019           1  250250107011  "
      ]
     },
     "execution_count": 10,
     "metadata": {},
     "output_type": "execute_result"
    }
   ],
   "source": [
    "# get a block and geoid for first batch of addresses\n",
    "ma_sample_df[['block_group', 'geoid']] = ma_sample_df.apply(lambda row: get_census_info(row.number, row.street, row.city, row.state, row.postcode), axis=1)\n",
    "ma_sample_df.head(5)"
   ]
  },
  {
   "cell_type": "code",
   "execution_count": 15,
   "metadata": {},
   "outputs": [
    {
     "name": "stderr",
     "output_type": "stream",
     "text": [
      "C:\\Users\\J-Dog\\AppData\\Local\\Temp\\ipykernel_33624\\4293858874.py:9: FutureWarning: The behavior of DataFrame concatenation with empty or all-NA entries is deprecated. In a future version, this will no longer exclude empty or all-NA columns when determining the result dtypes. To retain the old behavior, exclude the relevant entries before the concat operation.\n",
      "  ma_sample = pd.concat([ma_sample, temp_df[0:SAMPLE_SIZE]])\n"
     ]
    }
   ],
   "source": [
    "# set number of addresses to sample for each block group\n",
    "SAMPLE_SIZE = 100\n",
    "# get all block groups\n",
    "ma_block_groups = [id for id in ma_sample_df['block_group'].unique().tolist() if not pd.isna(id)]\n",
    "# create a sample that has 4 addresses from each block group\n",
    "ma_sample = pd.DataFrame(columns = ma_sample_df.columns.tolist())\n",
    "for blk_grp  in ma_block_groups:\n",
    "    temp_df = ma_sample_df[ma_sample_df['block_group']==blk_grp]\n",
    "    ma_sample = pd.concat([ma_sample, temp_df[0:SAMPLE_SIZE]])"
   ]
  },
  {
   "cell_type": "code",
   "execution_count": 21,
   "metadata": {},
   "outputs": [
    {
     "name": "stdout",
     "output_type": "stream",
     "text": [
      "block 1: 100 datapoints\n",
      "block 2: 100 datapoints\n",
      "block 4: 100 datapoints\n",
      "block 6: 52 datapoints\n",
      "block 3: 100 datapoints\n",
      "block 5: 100 datapoints\n",
      "block 7: 12 datapoints\n"
     ]
    }
   ],
   "source": [
    "# print out number of samples in each block\n",
    "for i in ma_block_groups:\n",
    "    print('block '+str(i)+': ' +str(ma_sample[ma_sample['block_group']==i].shape[0])+' datapoints')"
   ]
  },
  {
   "cell_type": "code",
   "execution_count": 50,
   "metadata": {},
   "outputs": [],
   "source": [
    "# adding addresses in block 7 to data to balance the sample dataset\n",
    "# get unique streets from the sample that are in block 7\n",
    "block_7_st = list(set(ma_sample[ma_sample['block_group']=='7'].street.values))\n",
    "# get addresses from all bosotn data that are on block 7 streets\n",
    "block_7_sample = ma_df[ma_df['street'].isin(block_7_st)]\n",
    "# get all indexes of data in sample\n",
    "in_sample = list(ma_sample.index)\n",
    "block_7_sample = block_7_sample[~block_7_sample.index.isin(in_sample)]\n",
    "block_7_sample[['block_group', 'geoid']] = block_7_sample.apply(lambda row: get_census_info(row.number, row.street, row.city, row.state, row.postcode), axis=1)"
   ]
  },
  {
   "cell_type": "code",
   "execution_count": 52,
   "metadata": {},
   "outputs": [],
   "source": [
    "# take a sample of 88 addresses in block 7\n",
    "add_block_7 = block_7_sample[block_7_sample['block_group']=='7'].sample(88)"
   ]
  },
  {
   "cell_type": "code",
   "execution_count": 58,
   "metadata": {},
   "outputs": [],
   "source": [
    "# adding addresses in block 6 to data to balance the sample dataset\n",
    "# get unique streets from the sample that are in block 6\n",
    "block_6_st = list(set(ma_sample[ma_sample['block_group']=='6'].street.values))\n",
    "# get addresses from all bosotn data that are on block 7 streets\n",
    "block_6_sample = ma_df[ma_df['street'].isin(block_6_st)]\n",
    "# get all indexes of data in sample\n",
    "in_sample = list(ma_sample.index)\n",
    "block_6_sample = block_6_sample[~block_6_sample.index.isin(in_sample)].sample(400)\n",
    "block_6_sample[['block_group', 'geoid']] = block_6_sample.apply(lambda row: get_census_info(row.number, row.street, row.city, row.state, row.postcode), axis=1)"
   ]
  },
  {
   "cell_type": "code",
   "execution_count": 67,
   "metadata": {},
   "outputs": [],
   "source": [
    "add_block_6 = block_6_sample[block_6_sample['block_group']=='6'].sample(48)"
   ]
  },
  {
   "cell_type": "code",
   "execution_count": 68,
   "metadata": {},
   "outputs": [],
   "source": [
    "ma_final_sample = pd.concat([ma_sample, add_block_6, add_block_7])"
   ]
  },
  {
   "cell_type": "code",
   "execution_count": 69,
   "metadata": {},
   "outputs": [
    {
     "name": "stdout",
     "output_type": "stream",
     "text": [
      "block 1: 100 datapoints\n",
      "block 2: 100 datapoints\n",
      "block 4: 100 datapoints\n",
      "block 6: 100 datapoints\n",
      "block 3: 100 datapoints\n",
      "block 5: 100 datapoints\n",
      "block 7: 100 datapoints\n"
     ]
    }
   ],
   "source": [
    "# print out number of samples in each block\n",
    "for i in ma_block_groups:\n",
    "    print('block '+str(i)+': ' +str(ma_final_sample[ma_final_sample['block_group']==i].shape[0])+' datapoints')"
   ]
  },
  {
   "cell_type": "code",
   "execution_count": 70,
   "metadata": {},
   "outputs": [],
   "source": [
    "# save data as geojson data\n",
    "ma_geojson = df_to_geojson(ma_final_sample)\n",
    "# save csv file of addresses for use in later functions\n",
    "ma_final_sample.to_csv(output_path_csv, index=False)\n",
    "# save geojson data as geojson.gz file\n",
    "compress_geojson(ma_geojson, output_path_geojson)"
   ]
  },
  {
   "cell_type": "markdown",
   "metadata": {},
   "source": [
    "\\* __Note__: the cities below do not have all the neccessary processing measures done as we ran out of time. To get addresses for cities below, follow what was doen above for Boston, MA."
   ]
  },
  {
   "cell_type": "markdown",
   "metadata": {},
   "source": [
    "Bridgeport, Connecticut"
   ]
  },
  {
   "cell_type": "code",
   "execution_count": 24,
   "metadata": {},
   "outputs": [],
   "source": [
    "# read in CT data as datframe\n",
    "input_path = '../data/open_address/original/city_of_hartford-addresses-city.geojson'\n",
    "output_path = '../data/open_address/processed/city_of_hartford-addresses-city'\n",
    "\n",
    "ct_df = read_data(input_path,'Hartford', 'CT')"
   ]
  },
  {
   "cell_type": "code",
   "execution_count": null,
   "metadata": {},
   "outputs": [],
   "source": [
    "# get postcodes and county for each address\n",
    "ct_df = add_postcode_county(ct_df)\n",
    "\n",
    "print(ct_df.shape)\n",
    "ct_df.head()"
   ]
  },
  {
   "cell_type": "code",
   "execution_count": null,
   "metadata": {},
   "outputs": [],
   "source": [
    "# save data as geojson data\n",
    "ct_geojson = df_to_geojson(ct_df)\n",
    "# save csv file of addresses for use in later functions\n",
    "ct_csv = ct_df.to_csv(output_path + \".csv.gz\", index=False)\n",
    "# save geojson data as geojson.gz file\n",
    "compress_geojson(ct_geojson, output_path + \".geojson.gz\")"
   ]
  },
  {
   "cell_type": "markdown",
   "metadata": {},
   "source": [
    "Dover, Delaware"
   ]
  },
  {
   "cell_type": "code",
   "execution_count": null,
   "metadata": {},
   "outputs": [],
   "source": [
    "# read in CT data as datframe\n",
    "input_path = '../data/open_address/original/city_of_dover-addresses-city.geojson'\n",
    "output_path = '../data/open_address/processed/city_of_dover-addresses-city'\n",
    "\n",
    "de_df = read_data(input_path, 'Dover', 'DE')"
   ]
  },
  {
   "cell_type": "code",
   "execution_count": null,
   "metadata": {},
   "outputs": [],
   "source": [
    "# get postcodes and county for each address\n",
    "de_df = add_postcode_county(de_df)\n",
    "\n",
    "print(de_df.shape)\n",
    "de_df.head()"
   ]
  },
  {
   "cell_type": "code",
   "execution_count": null,
   "metadata": {},
   "outputs": [],
   "source": [
    "# save data as geojson data\n",
    "de_geojson = df_to_geojson(de_df)\n",
    "# save csv file of addresses for use in later functions\n",
    "de_csv = de_df.to_csv(output_path + \".csv.gz\", index=False)\n",
    "# save geojson data as geojson.gz file\n",
    "compress_geojson(de_geojson, output_path + \".geojson.gz\")"
   ]
  },
  {
   "cell_type": "markdown",
   "metadata": {},
   "source": [
    "District of Columbia"
   ]
  },
  {
   "cell_type": "code",
   "execution_count": null,
   "metadata": {},
   "outputs": [],
   "source": [
    "# read in DC data as datframe\n",
    "input_path = '../data/open_address/original/dc_statewide-addresses-city.geojson'\n",
    "output_path = '../data/open_address/processed/dc_statewide-addresses-city'\n",
    "\n",
    "dc_df = read_data(input_path, 'Washington', 'DC')"
   ]
  },
  {
   "cell_type": "code",
   "execution_count": null,
   "metadata": {},
   "outputs": [],
   "source": [
    "# get postcodes and county for each address\n",
    "de_df = add_postcode_county(de_df)\n",
    "\n",
    "print(dc_df.shape)\n",
    "dc_df.head()"
   ]
  },
  {
   "cell_type": "code",
   "execution_count": null,
   "metadata": {},
   "outputs": [],
   "source": [
    "# save data as geojson data\n",
    "dc_geojson = df_to_geojson(dc_df)\n",
    "# save csv file of addresses for use in later functions\n",
    "dc_csv = dc_df.to_csv(output_path + \".csv.gz\", index=False)\n",
    "# save geojson data as geojson.gz file\n",
    "compress_geojson(dc_geojson, output_path + \".geojson.gz\")"
   ]
  },
  {
   "cell_type": "markdown",
   "metadata": {},
   "source": [
    "Portland, Maine"
   ]
  },
  {
   "cell_type": "code",
   "execution_count": null,
   "metadata": {},
   "outputs": [],
   "source": [
    "# read in data as datframe\n",
    "input_path = '../data/open_address/original/me_statewide-addresses-state.geojson'\n",
    "output_path = '../data/open_address/processed/me_statewide-addresses-state'\n",
    "\n",
    "me_df = read_data(input_path, 'Portland', 'ME')"
   ]
  },
  {
   "cell_type": "code",
   "execution_count": null,
   "metadata": {},
   "outputs": [],
   "source": [
    "# filter by addresses in Portland\n",
    "portland_postcodes = ['04019', '04050', '04101', '04102', '04103', '04104', '04107', '04108', '04109', '04112', '04122', '04123', '04124']\n",
    "# filter addresses to keep only those with Portland postcodes\n",
    "me_df = me_df[me_df['postcode'].isin(portland_postcodes)]\n",
    "me_df = me_df[me_df['district']=='Cumberland']"
   ]
  },
  {
   "cell_type": "code",
   "execution_count": null,
   "metadata": {},
   "outputs": [],
   "source": [
    "# get postcodes and county for each address\n",
    "me_df = add_postcode_county(me_df)\n",
    "\n",
    "print(me_df.shape)\n",
    "me_df.head()"
   ]
  },
  {
   "cell_type": "code",
   "execution_count": null,
   "metadata": {},
   "outputs": [],
   "source": [
    "# save data as geojson data\n",
    "me_geojson = df_to_geojson(me_df)\n",
    "# save csv file of addresses for use in later functions\n",
    "me_csv = me_df.to_csv(output_path + \".csv.gz\", index=False)\n",
    "# save geojson data as geojson.gz file\n",
    "compress_geojson(me_geojson, output_path + \".geojson.gz\")"
   ]
  },
  {
   "cell_type": "markdown",
   "metadata": {},
   "source": [
    "Baltimore, Maryland"
   ]
  },
  {
   "cell_type": "code",
   "execution_count": null,
   "metadata": {},
   "outputs": [],
   "source": [
    "# read in data as datframe\n",
    "input_path = '../data/open_address/original/city_of_baltimore-addresses-city.geojson'\n",
    "output_path = '../data/open_address/processed/city_of_baltimore-addresses-city'\n",
    "\n",
    "md_df = read_data(input_path, 'Baltimore', 'MD')"
   ]
  },
  {
   "cell_type": "code",
   "execution_count": null,
   "metadata": {},
   "outputs": [],
   "source": [
    "# get postcodes and county for each address\n",
    "md_df = add_postcode_county(md_df)\n",
    "\n",
    "print(md_df.shape)\n",
    "md_df.head()"
   ]
  },
  {
   "cell_type": "code",
   "execution_count": null,
   "metadata": {},
   "outputs": [],
   "source": [
    "# save data as geojson data\n",
    "md_geojson = df_to_geojson(md_df)\n",
    "# save csv file of addresses for use in later functions\n",
    "md_csv = md_df.to_csv(output_path + \".csv.gz\", index=False)\n",
    "# save geojson data as geojson.gz file\n",
    "compress_geojson(md_geojson, output_path + \".geojson.gz\")"
   ]
  },
  {
   "cell_type": "markdown",
   "metadata": {},
   "source": [
    "Nashua, New Hampshire"
   ]
  },
  {
   "cell_type": "code",
   "execution_count": null,
   "metadata": {},
   "outputs": [],
   "source": [
    "# read in data as datframe\n",
    "input_path = '../data/open_address/original/city_of_nashua-addresses-city.geojson'\n",
    "output_path = '../data/open_address/processed/city_of_nashua-addresses-city'\n",
    "\n",
    "nh_df = read_data(input_path, 'Nashua', 'NH')"
   ]
  },
  {
   "cell_type": "code",
   "execution_count": null,
   "metadata": {},
   "outputs": [],
   "source": [
    "# get postcodes and county for each address\n",
    "nh_df = add_postcode_county(nh_df)\n",
    "\n",
    "print(nh_df.shape)\n",
    "nh_df.head()"
   ]
  },
  {
   "cell_type": "code",
   "execution_count": null,
   "metadata": {},
   "outputs": [],
   "source": [
    "# save data as geojson data\n",
    "nh_geojson = df_to_geojson(nh_df)\n",
    "# save csv file of addresses for use in later functions\n",
    "nh_csv = nh_df.to_csv(output_path + \".csv.gz\", index=False)\n",
    "# save geojson data as geojson.gz file\n",
    "compress_geojson(nh_geojson, output_path + \".geojson.gz\")"
   ]
  },
  {
   "cell_type": "markdown",
   "metadata": {},
   "source": [
    "Newark, New Jersey"
   ]
  },
  {
   "cell_type": "code",
   "execution_count": null,
   "metadata": {},
   "outputs": [],
   "source": [
    "# read in data as datframe\n",
    "input_path = '../data/open_address/original/nj_statewide-addresses-state.geojson'\n",
    "output_path = '../data/open_address/processed/nj_statewide-addresses-state'\n",
    "\n",
    "nj_df = read_data(input_path, 'Newark', 'NJ')"
   ]
  },
  {
   "cell_type": "code",
   "execution_count": null,
   "metadata": {},
   "outputs": [],
   "source": [
    "# filter on Newark postalcodes and district\n",
    "nj_df = nj_df[nj_df['city']=='NEWARK']"
   ]
  },
  {
   "cell_type": "code",
   "execution_count": null,
   "metadata": {},
   "outputs": [],
   "source": [
    "# get postcodes and county for each address\n",
    "nj_df = add_postcode_county(nj_df)\n",
    "\n",
    "print(nj_df.shape)\n",
    "nj_df.head()"
   ]
  },
  {
   "cell_type": "code",
   "execution_count": null,
   "metadata": {},
   "outputs": [],
   "source": [
    "# save data as geojson data\n",
    "nj_geojson = df_to_geojson(nj_df)\n",
    "# save csv file of addresses for use in later functions\n",
    "nj_csv = nj_df.to_csv(output_path + \".csv.gz\", index=False)\n",
    "# save geojson data as geojson.gz file\n",
    "compress_geojson(nj_geojson, output_path + \".geojson.gz\")"
   ]
  },
  {
   "cell_type": "markdown",
   "metadata": {},
   "source": [
    "New York City, New York"
   ]
  },
  {
   "cell_type": "code",
   "execution_count": null,
   "metadata": {},
   "outputs": [],
   "source": [
    "# read in data as datframe\n",
    "input_path = '../data/open_address/original/city_of_new_york-addresses-city.geojson'\n",
    "output_path = '../data/open_address/processed/city_of_new_york-addresses-city'\n",
    "\n",
    "ny_df  = read_data(input_path, 'New York', 'NY')"
   ]
  },
  {
   "cell_type": "code",
   "execution_count": null,
   "metadata": {},
   "outputs": [],
   "source": [
    "# get postcodes and county for each address\n",
    "ny_df = add_postcode_county(ny_df)\n",
    "\n",
    "print(ny_df.shape)\n",
    "ny_df.head()"
   ]
  },
  {
   "cell_type": "code",
   "execution_count": null,
   "metadata": {},
   "outputs": [],
   "source": [
    "# save data as geojson data\n",
    "ny_geojson = df_to_geojson(ny_df)\n",
    "# save csv file of addresses for use in later functions\n",
    "ny_csv = ny_df.to_csv(output_path + \".csv.gz\", index=False)\n",
    "# save geojson data as geojson.gz file\n",
    "compress_geojson(ny_geojson, output_path + \".geojson.gz\")"
   ]
  },
  {
   "cell_type": "markdown",
   "metadata": {},
   "source": [
    "Philadelphia, Pennsylvania"
   ]
  },
  {
   "cell_type": "code",
   "execution_count": null,
   "metadata": {},
   "outputs": [],
   "source": [
    "# read in data as datframe\n",
    "input_path = '../data/open_address/original/philadelphia-addresses-county.geojson'\n",
    "output_path = '../data/open_address/processed/philadelphia-addresses-county'\n",
    "\n",
    "pa_df = read_data(input_path, 'Philadelphia', 'PA')"
   ]
  },
  {
   "cell_type": "code",
   "execution_count": null,
   "metadata": {},
   "outputs": [],
   "source": [
    "# get postcodes and county for each address\n",
    "pa_df = add_postcode_county(pa_df)\n",
    "\n",
    "print(pa_df.shape)\n",
    "pa_df.head()"
   ]
  },
  {
   "cell_type": "code",
   "execution_count": null,
   "metadata": {},
   "outputs": [],
   "source": [
    "# save data as geojson data\n",
    "pa_geojson = df_to_geojson(pa_df)\n",
    "# save csv file of addresses for use in later functions\n",
    "pa_csv = pa_df.to_csv(output_path + \".csv.gz\", index=False)\n",
    "# save geojson data as geojson.gz file\n",
    "compress_geojson(pa_geojson, output_path + \".geojson.gz\")"
   ]
  },
  {
   "cell_type": "markdown",
   "metadata": {},
   "source": [
    "Providence, Rhode Island"
   ]
  },
  {
   "cell_type": "code",
   "execution_count": null,
   "metadata": {},
   "outputs": [],
   "source": [
    "# read in data as datframe\n",
    "input_path = '../data/open_address/original/providence-addresses-city.geojson'\n",
    "output_path = '../data/open_address/processed/providence-addresses-city'\n",
    "\n",
    "ri_df = read_data(input_path, 'Providence', 'RI')"
   ]
  },
  {
   "cell_type": "code",
   "execution_count": null,
   "metadata": {},
   "outputs": [],
   "source": [
    "# get postcodes and county for each address\n",
    "ri_df = add_postcode_county(ri_df)\n",
    "\n",
    "print(ri_df.shape)\n",
    "ri_df.head()"
   ]
  },
  {
   "cell_type": "code",
   "execution_count": null,
   "metadata": {},
   "outputs": [],
   "source": [
    "# save data as geojson data\n",
    "ri_geojson = df_to_geojson(ri_df)\n",
    "# save csv file of addresses for use in later functions\n",
    "ri_csv = ri_df.to_csv(output_path + \".csv.gz\", index=False)\n",
    "# save geojson data as geojson.gz file\n",
    "compress_geojson(ri_geojson, output_path + \".geojson.gz\")"
   ]
  },
  {
   "cell_type": "markdown",
   "metadata": {},
   "source": [
    "Burlington, Vermont"
   ]
  },
  {
   "cell_type": "code",
   "execution_count": null,
   "metadata": {},
   "outputs": [],
   "source": [
    "# read in data as datframe\n",
    "input_path = '../data/open_address/original/city_of_burlington-addresses-city.geojson'\n",
    "output_path = '../data/open_address/processed/city_of_burlington-addresses-city'\n",
    "\n",
    "vt_df = read_data(input_path, 'Burlington', 'VT')"
   ]
  },
  {
   "cell_type": "code",
   "execution_count": null,
   "metadata": {},
   "outputs": [],
   "source": [
    "# get postcodes and county for each address\n",
    "vt_df = add_postcode_county(vt_df)\n",
    "\n",
    "print(vt_df.shape)\n",
    "vt_df.head()"
   ]
  },
  {
   "cell_type": "code",
   "execution_count": null,
   "metadata": {},
   "outputs": [],
   "source": [
    "# save data as geojson data\n",
    "vt_geojson = df_to_geojson(vt_df)\n",
    "# save csv file of addresses for use in later functions\n",
    "vt_csv = vt_df.to_csv(output_path + \".csv.gz\", index=False)\n",
    "# save geojson data as geojson.gz file\n",
    "compress_geojson(vt_geojson, output_path + \".geojson.gz\")"
   ]
  },
  {
   "cell_type": "code",
   "execution_count": null,
   "metadata": {},
   "outputs": [],
   "source": [
    "# # note: no postcode values\n",
    "# path = '../data/open_address/vt_df.csv.gz'\n",
    "# vt_df = addresses_df(path, 'Burlington', 'VT', 'Burlington')\n",
    "# vt_df.shape"
   ]
  },
  {
   "cell_type": "markdown",
   "metadata": {},
   "source": [
    "Norfolk, Virginia"
   ]
  },
  {
   "cell_type": "code",
   "execution_count": null,
   "metadata": {},
   "outputs": [],
   "source": [
    "# read in data as datframe\n",
    "input_path = '../data/open_address/original/city_of_norfolk-addresses-city.geojson'\n",
    "output_path = '../data/open_address/processed/city_of_norfolk-addresses-city'\n",
    "\n",
    "va_df = read_data(input_path, 'Norfolk', 'VA')"
   ]
  },
  {
   "cell_type": "code",
   "execution_count": null,
   "metadata": {},
   "outputs": [],
   "source": [
    "# get postcodes and county for each address\n",
    "va_df = add_postcode_county(va_df)\n",
    "\n",
    "print(va_df.shape)\n",
    "va_df.head()"
   ]
  },
  {
   "cell_type": "code",
   "execution_count": null,
   "metadata": {},
   "outputs": [],
   "source": [
    "# save data as geojson data\n",
    "va_geojson = df_to_geojson(va_df)\n",
    "# save csv file of addresses for use in later functions\n",
    "va_csv = va_df.to_csv(output_path + \".csv.gz\", index=False)\n",
    "# save geojson data as geojson.gz file\n",
    "compress_geojson(va_geojson, output_path + \".geojson.gz\")"
   ]
  },
  {
   "cell_type": "markdown",
   "metadata": {},
   "source": [
    "Charleston, West Virginia"
   ]
  },
  {
   "cell_type": "code",
   "execution_count": null,
   "metadata": {},
   "outputs": [],
   "source": [
    "# read in data as datframe\n",
    "input_path = '../data/open_address/original/wv_statewide-addresses-state.geojson'\n",
    "output_path = '../data/open_address/processed/wv_statewide-addresses-state'\n",
    "\n",
    "wv_df = read_data(input_path, 'Charleston', 'WV')"
   ]
  },
  {
   "cell_type": "code",
   "execution_count": null,
   "metadata": {},
   "outputs": [],
   "source": [
    "# filter on addresses in Charleston\n",
    "wv_df = wv_df[wv_df['city'] == 'Charleston']"
   ]
  },
  {
   "cell_type": "code",
   "execution_count": null,
   "metadata": {},
   "outputs": [],
   "source": [
    "# get postcodes and county for each address\n",
    "wv_df = add_postcode_county(wv_df)\n",
    "\n",
    "print(wv_df.shape)\n",
    "wv_df.head()"
   ]
  },
  {
   "cell_type": "code",
   "execution_count": null,
   "metadata": {},
   "outputs": [],
   "source": [
    "# save data as geojson data\n",
    "wv_geojson = df_to_geojson(wv_df)\n",
    "# save csv file of addresses for use in later functions\n",
    "wv_csv = wv_df.to_csv(output_path + \".csv.gz\", index=False)\n",
    "# save geojson data as geojson.gz file\n",
    "compress_geojson(wv_geojson, output_path + \".geojson.gz\")"
   ]
  },
  {
   "cell_type": "markdown",
   "metadata": {},
   "source": [
    "## Reduce Address Datasets"
   ]
  },
  {
   "cell_type": "code",
   "execution_count": null,
   "metadata": {},
   "outputs": [],
   "source": [
    "from config import state2address\n",
    "\n",
    "\n",
    "# load in the files\n",
    "for link in state2address.values:\n",
    "    reduce = link.replace(\"original\", \"processed\")\n",
    "    df = geopandas.read_file(reduce)\n",
    "\n",
    "    # SPLIT ON UNIQUE county , state!\n",
    "    # -----\n",
    "\n",
    "    out = link.replace(\"original\", \"reduced\")\n",
    "    out_geojson = df_to_geojson(df)\n",
    "    compress_geojson(df, out)"
   ]
  }
 ],
 "metadata": {
  "kernelspec": {
   "display_name": "Python 3",
   "language": "python",
   "name": "python3"
  },
  "language_info": {
   "codemirror_mode": {
    "name": "ipython",
    "version": 3
   },
   "file_extension": ".py",
   "mimetype": "text/x-python",
   "name": "python",
   "nbconvert_exporter": "python",
   "pygments_lexer": "ipython3",
   "version": "3.9.13"
  }
 },
 "nbformat": 4,
 "nbformat_minor": 2
}
