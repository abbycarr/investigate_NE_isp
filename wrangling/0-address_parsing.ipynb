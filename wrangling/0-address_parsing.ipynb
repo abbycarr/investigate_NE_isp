{
 "cells": [
  {
   "cell_type": "markdown",
   "metadata": {},
   "source": [
    "### Store All Addresses in Cities of Interest\n",
    "Addresses were downloaded from [OpenAddress](https://batch.openaddresses.io/data#map=0/0/0). The addresses collected correspond to the following cities and states.\n",
    "- Hartford, Connecticut\n",
    "- Dover, Delaware\n",
    "- District of Columbia\n",
    "- Portland, Maine\n",
    "- Baltimore, Maryland\n",
    "- Boston, Massachusetts\n",
    "- Nashua, New Hampshire\n",
    "- Middletown, New Jersey\n",
    "- New York City, New York\n",
    "- Philadelphia, Pennsylvania\n",
    "- Providence, Rhode Island\n",
    "- Burlington, Vermont\n",
    "- Norfolk, Virginia\n",
    "- Charleston, West Virginia\n"
   ]
  },
  {
   "cell_type": "markdown",
   "metadata": {},
   "source": [
    "!pip install geopandas"
   ]
  },
  {
   "cell_type": "code",
   "execution_count": 15,
   "metadata": {},
   "outputs": [],
   "source": [
    "# !pip install geopy"
   ]
  },
  {
   "cell_type": "code",
   "execution_count": 16,
   "metadata": {},
   "outputs": [],
   "source": [
    "import geopandas\n",
    "import json\n",
    "import gzip\n",
    "import pandas as pd\n",
    "from pandas_geojson import to_geojson\n",
    "from geopy.geocoders import Nominatim\n",
    "import regex as re"
   ]
  },
  {
   "cell_type": "code",
   "execution_count": 17,
   "metadata": {},
   "outputs": [],
   "source": [
    "# transforms dataframe to geojson file\n",
    "def df_to_geojson(df):\n",
    "    df['lon'] = df['geometry'].apply(lambda x: str(x)[6:].split(' ')[0].replace('(', ''))\n",
    "    df['lat'] = df['geometry'].apply(lambda x: str(x)[6:].split(' ')[1].replace(')', ''))\n",
    "    \n",
    "    geojson_file = to_geojson(df=df, lat = 'lat', lon = 'lon', properties=['hash', 'number', 'street', 'unit', 'city', 'district', 'region', 'postcode', 'id', 'state', 'incorporated_place'])\n",
    "\n",
    "    return geojson_file"
   ]
  },
  {
   "cell_type": "code",
   "execution_count": 18,
   "metadata": {},
   "outputs": [],
   "source": [
    "# saves geojson data to geojson.gz file\n",
    "def compress_geojson(gejson_data, output_file):\n",
    "   with gzip.open(output_file, 'wt', encoding='utf-8') as f:\n",
    "        json.dump(gejson_data, f, ensure_ascii=False)"
   ]
  },
  {
   "cell_type": "code",
   "execution_count": 19,
   "metadata": {},
   "outputs": [],
   "source": [
    "# get postcode for an address\n",
    "def get_postcode(address: str):\n",
    "    # initialize Nominatim API\n",
    "    geolocator = Nominatim(user_agent=\"ne_isp\")\n",
    "\n",
    "    # set location\n",
    "    location = geolocator.geocode(address)\n",
    "\n",
    "    # traverse the data\n",
    "    if location is not None:\n",
    "        address_info = location.raw[\"display_name\"]\n",
    "        postcode_matches = re.findall(\"[0-9-]+\", address_info)\n",
    "        if len(postcode_matches) > 1:\n",
    "            postcode = postcode_matches[1]\n",
    "        else:\n",
    "            postcode = postcode_matches[0]\n",
    "    else:\n",
    "        postcode = None\n",
    "\n",
    "    return postcode"
   ]
  },
  {
   "cell_type": "markdown",
   "metadata": {},
   "source": [
    "Bridgeport, Connecticut"
   ]
  },
  {
   "cell_type": "code",
   "execution_count": 36,
   "metadata": {},
   "outputs": [
    {
     "name": "stdout",
     "output_type": "stream",
     "text": [
      "      id    unit number            street      city district region postcode  \\\n",
      "0                     1  CIVIC CENTER PLZ  Hartford                            \n",
      "1                     1  CIVIC CENTER PLZ  Hartford                            \n",
      "2                    80    STATE HOUSE SQ  Hartford                            \n",
      "3                     1  CIVIC CENTER PLZ  Hartford                            \n",
      "4                    30    STATE HOUSE SQ  Hartford                            \n",
      "...   ..     ...    ...               ...       ...      ...    ...      ...   \n",
      "37918        301   1678          BROAD ST  Hartford                            \n",
      "37919        302   1678          BROAD ST  Hartford                            \n",
      "37920     CNDASC   1678          BROAD ST  Hartford                            \n",
      "37921     CNDASC   1678          BROAD ST  Hartford                            \n",
      "37922     CNDASC    152                    Hartford                            \n",
      "\n",
      "                   hash                    geometry incorporated_place state  \n",
      "0      3d6b7182020b27b1  POINT (-72.67718 41.76845)           Hartford    CT  \n",
      "1      7d7e3e812f9143de  POINT (-72.67722 41.76835)           Hartford    CT  \n",
      "2      8e0c8d2fd7daf0b4  POINT (-72.67206 41.76637)           Hartford    CT  \n",
      "3      4a96226ee988b5ff  POINT (-72.67696 41.76764)           Hartford    CT  \n",
      "4      07ff199dc68a5d04  POINT (-72.67259 41.76732)           Hartford    CT  \n",
      "...                 ...                         ...                ...   ...  \n",
      "37918  5bd76c31fdbc18bc  POINT (-72.68694 41.74644)           Hartford    CT  \n",
      "37919  30d355fc28d12aba  POINT (-72.68688 41.74644)           Hartford    CT  \n",
      "37920  cfabdbd0b039eec2  POINT (-72.68706 41.74642)           Hartford    CT  \n",
      "37921  7a87b18a7b2cb86f  POINT (-72.68705 41.74655)           Hartford    CT  \n",
      "37922  59ceef14e8960d65  POINT (-72.68256 41.78021)           Hartford    CT  \n",
      "\n",
      "[37923 rows x 12 columns]\n"
     ]
    }
   ],
   "source": [
    "# note: no postcode data\n",
    "# read in CT data as dataframe\n",
    "input_path = '../data/open_address/original/city_of_hartford-addresses-city.geojson'\n",
    "output_path = '../data/open_address/processed/city_of_hartford-addresses-city'\n",
    "\n",
    "ct_df = geopandas.read_file(input_path)\n",
    "# add missing column information\n",
    "ct_df['city'] = 'Hartford'\n",
    "ct_df['incorporated_place'] = 'Hartford'\n",
    "ct_df['state'] = 'CT'\n",
    "\n",
    "\n",
    "# print(ct_df.shape)\n",
    "# ct_df.head()"
   ]
  },
  {
   "cell_type": "code",
   "execution_count": null,
   "metadata": {},
   "outputs": [],
   "source": [
    "# save data as geojson data\n",
    "ct_geojson = df_to_geojson(ct_df)\n",
    "# save csv file of addresses for use in later functions\n",
    "ct_csv = ct_df.to_csv(output_path + \".csv.gz\", index=False)\n",
    "# save geojson data as geojson.gz file\n",
    "compress_geojson(ct_geojson, output_path + \".geojson.gz\")"
   ]
  },
  {
   "cell_type": "markdown",
   "metadata": {},
   "source": [
    "Dover, Delaware"
   ]
  },
  {
   "cell_type": "code",
   "execution_count": 21,
   "metadata": {},
   "outputs": [],
   "source": [
    "# read in DE data as dataframe\n",
    "input_path = '../data/open_address/original/city_of_dover-addresses-city.geojson'\n",
    "output_path = '../data/open_address/processed/city_of_dover-addresses-city'\n",
    "\n",
    "de_df = geopandas.read_file(input_path)\n",
    "# add missing column information\n",
    "de_df['city'] = 'Dover'\n",
    "de_df['incorporated_place'] = 'Dover'\n",
    "de_df['state'] = 'DE'\n",
    "\n",
    "# print(de_df.shape)\n",
    "# de_df.head()"
   ]
  },
  {
   "cell_type": "code",
   "execution_count": null,
   "metadata": {},
   "outputs": [],
   "source": [
    "# save data as geojson data\n",
    "de_geojson = df_to_geojson(de_df)\n",
    "# save csv file of addresses for use in later functions\n",
    "de_csv = de_df.to_csv(output_path + \".csv.gz\", index=False)\n",
    "# save geojson data as geojson.gz file\n",
    "compress_geojson(de_geojson, output_path + \".geojson.gz\")"
   ]
  },
  {
   "cell_type": "markdown",
   "metadata": {},
   "source": [
    "District of Columbia"
   ]
  },
  {
   "cell_type": "code",
   "execution_count": 22,
   "metadata": {},
   "outputs": [],
   "source": [
    "# read in DC data as datframe\n",
    "input_path = '../data/open_address/original/dc_statewide-addresses-city.geojson'\n",
    "output_path = '../data/open_address/processed/dc_statewide-addresses-city'\n",
    "\n",
    "dc_df = geopandas.read_file(input_path)\n",
    "# add missing column information\n",
    "dc_df['incorporated_place'] = 'Washington'\n",
    "dc_df['state'] = 'DC'\n",
    "\n",
    "# print(dc_df.shape)\n",
    "# dc_df.head()"
   ]
  },
  {
   "cell_type": "code",
   "execution_count": null,
   "metadata": {},
   "outputs": [],
   "source": [
    "# # get postcodes for each address\n",
    "# dc_df['postcode'] = dc_df.apply(lambda x: get_postcode(x.number+' '+x.street+', '+x.city+', '+x.state+', USA'), axis=1)"
   ]
  },
  {
   "cell_type": "code",
   "execution_count": null,
   "metadata": {},
   "outputs": [],
   "source": [
    "# save data as geojson data\n",
    "dc_geojson = df_to_geojson(dc_df)\n",
    "# save csv file of addresses for use in later functions\n",
    "dc_csv = dc_df.to_csv(output_path + \".csv.gz\", index=False)\n",
    "# save geojson data as geojson.gz file\n",
    "compress_geojson(dc_geojson, output_path + \".geojson.gz\")"
   ]
  },
  {
   "cell_type": "markdown",
   "metadata": {},
   "source": [
    "Portland, Maine"
   ]
  },
  {
   "cell_type": "code",
   "execution_count": 23,
   "metadata": {},
   "outputs": [
    {
     "name": "stdout",
     "output_type": "stream",
     "text": [
      "(738706, 10)\n"
     ]
    },
    {
     "data": {
      "text/html": [
       "<div>\n",
       "<style scoped>\n",
       "    .dataframe tbody tr th:only-of-type {\n",
       "        vertical-align: middle;\n",
       "    }\n",
       "\n",
       "    .dataframe tbody tr th {\n",
       "        vertical-align: top;\n",
       "    }\n",
       "\n",
       "    .dataframe thead th {\n",
       "        text-align: right;\n",
       "    }\n",
       "</style>\n",
       "<table border=\"1\" class=\"dataframe\">\n",
       "  <thead>\n",
       "    <tr style=\"text-align: right;\">\n",
       "      <th></th>\n",
       "      <th>hash</th>\n",
       "      <th>number</th>\n",
       "      <th>street</th>\n",
       "      <th>unit</th>\n",
       "      <th>city</th>\n",
       "      <th>district</th>\n",
       "      <th>region</th>\n",
       "      <th>postcode</th>\n",
       "      <th>id</th>\n",
       "      <th>geometry</th>\n",
       "    </tr>\n",
       "  </thead>\n",
       "  <tbody>\n",
       "    <tr>\n",
       "      <th>0</th>\n",
       "      <td>71c7b7c56b09b22e</td>\n",
       "      <td>1026</td>\n",
       "      <td>E Pond Rd</td>\n",
       "      <td></td>\n",
       "      <td></td>\n",
       "      <td>Somerset</td>\n",
       "      <td>ME</td>\n",
       "      <td>04978</td>\n",
       "      <td></td>\n",
       "      <td>POINT (-69.79555 44.65301)</td>\n",
       "    </tr>\n",
       "    <tr>\n",
       "      <th>1</th>\n",
       "      <td>5a92e4335ec43693</td>\n",
       "      <td>1031</td>\n",
       "      <td>E Pond Rd</td>\n",
       "      <td></td>\n",
       "      <td></td>\n",
       "      <td>Somerset</td>\n",
       "      <td>ME</td>\n",
       "      <td>04978</td>\n",
       "      <td></td>\n",
       "      <td>POINT (-69.79567 44.65340)</td>\n",
       "    </tr>\n",
       "    <tr>\n",
       "      <th>2</th>\n",
       "      <td>449254049adc0dd5</td>\n",
       "      <td>1033</td>\n",
       "      <td>E Pond Rd</td>\n",
       "      <td></td>\n",
       "      <td></td>\n",
       "      <td>Somerset</td>\n",
       "      <td>ME</td>\n",
       "      <td>04978</td>\n",
       "      <td></td>\n",
       "      <td>POINT (-69.79575 44.65352)</td>\n",
       "    </tr>\n",
       "    <tr>\n",
       "      <th>3</th>\n",
       "      <td>66917a4a325d90ca</td>\n",
       "      <td>1043</td>\n",
       "      <td>E Pond Rd</td>\n",
       "      <td></td>\n",
       "      <td></td>\n",
       "      <td>Somerset</td>\n",
       "      <td>ME</td>\n",
       "      <td>04978</td>\n",
       "      <td></td>\n",
       "      <td>POINT (-69.79614 44.65410)</td>\n",
       "    </tr>\n",
       "    <tr>\n",
       "      <th>4</th>\n",
       "      <td>1ae72f93c14415f8</td>\n",
       "      <td>1075</td>\n",
       "      <td>E Pond Rd</td>\n",
       "      <td></td>\n",
       "      <td></td>\n",
       "      <td>Somerset</td>\n",
       "      <td>ME</td>\n",
       "      <td>04978</td>\n",
       "      <td></td>\n",
       "      <td>POINT (-69.79735 44.65599)</td>\n",
       "    </tr>\n",
       "  </tbody>\n",
       "</table>\n",
       "</div>"
      ],
      "text/plain": [
       "               hash number     street unit city  district region postcode id  \\\n",
       "0  71c7b7c56b09b22e   1026  E Pond Rd            Somerset     ME    04978      \n",
       "1  5a92e4335ec43693   1031  E Pond Rd            Somerset     ME    04978      \n",
       "2  449254049adc0dd5   1033  E Pond Rd            Somerset     ME    04978      \n",
       "3  66917a4a325d90ca   1043  E Pond Rd            Somerset     ME    04978      \n",
       "4  1ae72f93c14415f8   1075  E Pond Rd            Somerset     ME    04978      \n",
       "\n",
       "                     geometry  \n",
       "0  POINT (-69.79555 44.65301)  \n",
       "1  POINT (-69.79567 44.65340)  \n",
       "2  POINT (-69.79575 44.65352)  \n",
       "3  POINT (-69.79614 44.65410)  \n",
       "4  POINT (-69.79735 44.65599)  "
      ]
     },
     "execution_count": 23,
     "metadata": {},
     "output_type": "execute_result"
    }
   ],
   "source": [
    "# read in data as datframe\n",
    "input_path = '../data/open_address/original/me_statewide-addresses-state.geojson'\n",
    "output_path = '../data/open_address/processed/me_statewide-addresses-state'\n",
    "\n",
    "me_df = geopandas.read_file(input_path)\n",
    "\n",
    "# print(me_df.shape)\n",
    "# me_df.head()"
   ]
  },
  {
   "cell_type": "code",
   "execution_count": 24,
   "metadata": {},
   "outputs": [],
   "source": [
    "# filter by addresses in Portland\n",
    "portland_postcodes = ['04019', '04050', '04101', '04102', '04103', '04104', '04107', '04108', '04109', '04112', '04122', '04123', '04124']\n",
    "# filter addresses to keep only those with Portland postcodes\n",
    "me_df = me_df[me_df['postcode'].isin(portland_postcodes)]\n",
    "me_df = me_df[me_df['district']=='Cumberland']\n",
    "\n",
    "# add missing column information\n",
    "me_df['city'] = 'Dover'\n",
    "me_df['incorporated_place'] = 'Dover'\n",
    "me_df['state'] = 'ME'"
   ]
  },
  {
   "cell_type": "code",
   "execution_count": null,
   "metadata": {},
   "outputs": [],
   "source": [
    "# # get postcodes for each address\n",
    "# me_df['postcode'] = me_df.apply(lambda x: get_postcode(x.number+' '+x.street+', '+x.city+', '+x.state+', USA'), axis=1)"
   ]
  },
  {
   "cell_type": "code",
   "execution_count": null,
   "metadata": {},
   "outputs": [],
   "source": [
    "# save data as geojson data\n",
    "me_geojson = df_to_geojson(me_df)\n",
    "# save csv file of addresses for use in later functions\n",
    "me_csv = me_df.to_csv(output_path + \".csv.gz\", index=False)\n",
    "# save geojson data as geojson.gz file\n",
    "compress_geojson(me_geojson, output_path + \".geojson.gz\")"
   ]
  },
  {
   "cell_type": "markdown",
   "metadata": {},
   "source": [
    "Baltimore, Maryland"
   ]
  },
  {
   "cell_type": "code",
   "execution_count": 25,
   "metadata": {},
   "outputs": [],
   "source": [
    "# read in data as datframe\n",
    "input_path = '../data/open_address/original/city_of_baltimore-addresses-city.geojson'\n",
    "output_path = '../data/open_address/processed/city_of_baltimore-addresses-city'\n",
    "\n",
    "md_df = geopandas.read_file(input_path)\n",
    "# add missing column information\n",
    "md_df['city'] = 'Baltimore'\n",
    "md_df['incorporated_place'] = 'Baltimore'\n",
    "md_df['state'] = 'MD'\n",
    "\n",
    "# print(md_df.shape)\n",
    "# md_df.head()"
   ]
  },
  {
   "cell_type": "code",
   "execution_count": null,
   "metadata": {},
   "outputs": [],
   "source": [
    "# # get postcodes for each address\n",
    "# md_df['postcode'] = md_df.apply(lambda x: get_postcode(x.number+' '+x.street+', '+x.city+', '+x.state+', USA'), axis=1)"
   ]
  },
  {
   "cell_type": "code",
   "execution_count": null,
   "metadata": {},
   "outputs": [],
   "source": [
    "# save data as geojson data\n",
    "md_geojson = df_to_geojson(md_df)\n",
    "# save csv file of addresses for use in later functions\n",
    "md_csv = md_df.to_csv(output_path + \".csv.gz\", index=False)\n",
    "# save geojson data as geojson.gz file\n",
    "compress_geojson(md_geojson, output_path + \".geojson.gz\")"
   ]
  },
  {
   "cell_type": "markdown",
   "metadata": {},
   "source": [
    "Boston, Massachusetts"
   ]
  },
  {
   "cell_type": "code",
   "execution_count": 26,
   "metadata": {},
   "outputs": [
    {
     "name": "stdout",
     "output_type": "stream",
     "text": [
      "(323574, 12)\n"
     ]
    },
    {
     "data": {
      "text/html": [
       "<div>\n",
       "<style scoped>\n",
       "    .dataframe tbody tr th:only-of-type {\n",
       "        vertical-align: middle;\n",
       "    }\n",
       "\n",
       "    .dataframe tbody tr th {\n",
       "        vertical-align: top;\n",
       "    }\n",
       "\n",
       "    .dataframe thead th {\n",
       "        text-align: right;\n",
       "    }\n",
       "</style>\n",
       "<table border=\"1\" class=\"dataframe\">\n",
       "  <thead>\n",
       "    <tr style=\"text-align: right;\">\n",
       "      <th></th>\n",
       "      <th>hash</th>\n",
       "      <th>number</th>\n",
       "      <th>street</th>\n",
       "      <th>unit</th>\n",
       "      <th>city</th>\n",
       "      <th>district</th>\n",
       "      <th>region</th>\n",
       "      <th>postcode</th>\n",
       "      <th>id</th>\n",
       "      <th>geometry</th>\n",
       "      <th>incorporated_place</th>\n",
       "      <th>state</th>\n",
       "    </tr>\n",
       "  </thead>\n",
       "  <tbody>\n",
       "    <tr>\n",
       "      <th>0</th>\n",
       "      <td>6db8d40a96a73ac7</td>\n",
       "      <td>6-10</td>\n",
       "      <td>A Street</td>\n",
       "      <td></td>\n",
       "      <td>Boston</td>\n",
       "      <td></td>\n",
       "      <td></td>\n",
       "      <td>02136</td>\n",
       "      <td></td>\n",
       "      <td>POINT (-71.12504 42.25062)</td>\n",
       "      <td>Boston</td>\n",
       "      <td>MA</td>\n",
       "    </tr>\n",
       "    <tr>\n",
       "      <th>1</th>\n",
       "      <td>96b30bef0eef7d86</td>\n",
       "      <td>7</td>\n",
       "      <td>A Street</td>\n",
       "      <td></td>\n",
       "      <td>Boston</td>\n",
       "      <td></td>\n",
       "      <td></td>\n",
       "      <td>02136</td>\n",
       "      <td></td>\n",
       "      <td>POINT (-71.12540 42.25046)</td>\n",
       "      <td>Boston</td>\n",
       "      <td>MA</td>\n",
       "    </tr>\n",
       "    <tr>\n",
       "      <th>2</th>\n",
       "      <td>a23223056b6593a0</td>\n",
       "      <td>10</td>\n",
       "      <td>A Street</td>\n",
       "      <td></td>\n",
       "      <td>Boston</td>\n",
       "      <td></td>\n",
       "      <td></td>\n",
       "      <td>02127</td>\n",
       "      <td></td>\n",
       "      <td>POINT (-71.05680 42.34088)</td>\n",
       "      <td>Boston</td>\n",
       "      <td>MA</td>\n",
       "    </tr>\n",
       "    <tr>\n",
       "      <th>3</th>\n",
       "      <td>d878c704ce81bba1</td>\n",
       "      <td>172-174</td>\n",
       "      <td>A Street</td>\n",
       "      <td></td>\n",
       "      <td>Boston</td>\n",
       "      <td></td>\n",
       "      <td></td>\n",
       "      <td>02210</td>\n",
       "      <td></td>\n",
       "      <td>POINT (-71.05315 42.34484)</td>\n",
       "      <td>Boston</td>\n",
       "      <td>MA</td>\n",
       "    </tr>\n",
       "    <tr>\n",
       "      <th>4</th>\n",
       "      <td>222c7a044af11e7a</td>\n",
       "      <td>176-178</td>\n",
       "      <td>A Street</td>\n",
       "      <td></td>\n",
       "      <td>Boston</td>\n",
       "      <td></td>\n",
       "      <td></td>\n",
       "      <td>02210</td>\n",
       "      <td></td>\n",
       "      <td>POINT (-71.05306 42.34496)</td>\n",
       "      <td>Boston</td>\n",
       "      <td>MA</td>\n",
       "    </tr>\n",
       "  </tbody>\n",
       "</table>\n",
       "</div>"
      ],
      "text/plain": [
       "               hash   number    street unit    city district region postcode  \\\n",
       "0  6db8d40a96a73ac7     6-10  A Street       Boston                    02136   \n",
       "1  96b30bef0eef7d86        7  A Street       Boston                    02136   \n",
       "2  a23223056b6593a0       10  A Street       Boston                    02127   \n",
       "3  d878c704ce81bba1  172-174  A Street       Boston                    02210   \n",
       "4  222c7a044af11e7a  176-178  A Street       Boston                    02210   \n",
       "\n",
       "  id                    geometry incorporated_place state  \n",
       "0     POINT (-71.12504 42.25062)             Boston    MA  \n",
       "1     POINT (-71.12540 42.25046)             Boston    MA  \n",
       "2     POINT (-71.05680 42.34088)             Boston    MA  \n",
       "3     POINT (-71.05315 42.34484)             Boston    MA  \n",
       "4     POINT (-71.05306 42.34496)             Boston    MA  "
      ]
     },
     "execution_count": 26,
     "metadata": {},
     "output_type": "execute_result"
    }
   ],
   "source": [
    "# read in DC data as datframe\n",
    "input_path = '../data/open_address/original/city_of_boston-addresses-city.geojson'\n",
    "output_path = '../data/open_address/processed/city_of_boston-addresses-city'\n",
    "\n",
    "ma_df = geopandas.read_file(input_path)\n",
    "# add missing column information\n",
    "ma_df['city'] = 'Boston'\n",
    "ma_df['incorporated_place'] = 'Boston'\n",
    "ma_df['state'] = 'MA'\n",
    "\n",
    "print(ma_df.shape)\n",
    "ma_df.head()"
   ]
  },
  {
   "cell_type": "code",
   "execution_count": null,
   "metadata": {},
   "outputs": [],
   "source": [
    "# # get postcodes for each address\n",
    "# ma_df['postcode'] = ma_df.apply(lambda x: get_postcode(x.number+' '+x.street+', '+x.city+', '+x.state+', USA'), axis=1)"
   ]
  },
  {
   "cell_type": "code",
   "execution_count": null,
   "metadata": {},
   "outputs": [],
   "source": [
    "# save data as geojson data\n",
    "ma_geojson = df_to_geojson(ma_df)\n",
    "# save csv file of addresses for use in later functions\n",
    "ma_csv = ma_df.to_csv(output_path + \".csv.gz\", index=False)\n",
    "# save geojson data as geojson.gz file\n",
    "compress_geojson(ma_geojson, output_path + \".geojson.gz\")"
   ]
  },
  {
   "cell_type": "markdown",
   "metadata": {},
   "source": [
    "Nashua, New Hampshire"
   ]
  },
  {
   "cell_type": "code",
   "execution_count": 27,
   "metadata": {},
   "outputs": [],
   "source": [
    "# read in data as datframe\n",
    "input_path = '../data/open_address/original/city_of_nashua-addresses-city.geojson'\n",
    "output_path = '../data/open_address/processed/city_of_nashua-addresses-city'\n",
    "\n",
    "nh_df = geopandas.read_file(input_path)\n",
    "# add missing column information\n",
    "nh_df['incorporated_place'] = 'Nashua'\n",
    "nh_df['state'] = 'NH'\n",
    "\n",
    "# print(nh_df.shape)\n",
    "# nh_df.head()"
   ]
  },
  {
   "cell_type": "code",
   "execution_count": null,
   "metadata": {},
   "outputs": [],
   "source": [
    "# # get postcodes for each address\n",
    "# nh_df['postcode'] = nh_df.apply(lambda x: get_postcode(x.number+' '+x.street+', '+x.city+', '+x.state+', USA'), axis=1)"
   ]
  },
  {
   "cell_type": "code",
   "execution_count": null,
   "metadata": {},
   "outputs": [],
   "source": [
    "# save data as geojson data\n",
    "nh_geojson = df_to_geojson(nh_df)\n",
    "# save csv file of addresses for use in later functions\n",
    "nh_csv = nh_df.to_csv(output_path + \".csv.gz\", index=False)\n",
    "# save geojson data as geojson.gz file\n",
    "compress_geojson(nh_geojson, output_path + \".geojson.gz\")"
   ]
  },
  {
   "cell_type": "markdown",
   "metadata": {},
   "source": [
    "Newark, New Jersey"
   ]
  },
  {
   "cell_type": "code",
   "execution_count": 28,
   "metadata": {},
   "outputs": [
    {
     "ename": "DriverError",
     "evalue": "../data/open_address/original/nj_statewide-addresses-state.geojson: No such file or directory",
     "output_type": "error",
     "traceback": [
      "\u001b[0;31m---------------------------------------------------------------------------\u001b[0m",
      "\u001b[0;31mCPLE_OpenFailedError\u001b[0m                      Traceback (most recent call last)",
      "File \u001b[0;32mfiona/ogrext.pyx:136\u001b[0m, in \u001b[0;36mfiona.ogrext.gdal_open_vector\u001b[0;34m()\u001b[0m\n",
      "File \u001b[0;32mfiona/_err.pyx:291\u001b[0m, in \u001b[0;36mfiona._err.exc_wrap_pointer\u001b[0;34m()\u001b[0m\n",
      "\u001b[0;31mCPLE_OpenFailedError\u001b[0m: ../data/open_address/original/nj_statewide-addresses-state.geojson: No such file or directory",
      "\nDuring handling of the above exception, another exception occurred:\n",
      "\u001b[0;31mDriverError\u001b[0m                               Traceback (most recent call last)",
      "\u001b[1;32m/Users/abbycarr/Places_Things/investigate_NE_isp/wrangling/address_parsing.ipynb Cell 43\u001b[0m line \u001b[0;36m5\n\u001b[1;32m      <a href='vscode-notebook-cell:/Users/abbycarr/Places_Things/investigate_NE_isp/wrangling/address_parsing.ipynb#X46sZmlsZQ%3D%3D?line=1'>2</a>\u001b[0m input_path \u001b[39m=\u001b[39m \u001b[39m'\u001b[39m\u001b[39m../data/open_address/original/nj_statewide-addresses-state.geojson\u001b[39m\u001b[39m'\u001b[39m\n\u001b[1;32m      <a href='vscode-notebook-cell:/Users/abbycarr/Places_Things/investigate_NE_isp/wrangling/address_parsing.ipynb#X46sZmlsZQ%3D%3D?line=2'>3</a>\u001b[0m output_path \u001b[39m=\u001b[39m \u001b[39m'\u001b[39m\u001b[39m../data/open_address/processed/nj_statewide-addresses-state\u001b[39m\u001b[39m'\u001b[39m\n\u001b[0;32m----> <a href='vscode-notebook-cell:/Users/abbycarr/Places_Things/investigate_NE_isp/wrangling/address_parsing.ipynb#X46sZmlsZQ%3D%3D?line=4'>5</a>\u001b[0m nj_df \u001b[39m=\u001b[39m geopandas\u001b[39m.\u001b[39mread_file(input_path)\n",
      "File \u001b[0;32m~/anaconda3/lib/python3.11/site-packages/geopandas/io/file.py:297\u001b[0m, in \u001b[0;36m_read_file\u001b[0;34m(filename, bbox, mask, rows, engine, **kwargs)\u001b[0m\n\u001b[1;32m    294\u001b[0m     \u001b[39melse\u001b[39;00m:\n\u001b[1;32m    295\u001b[0m         path_or_bytes \u001b[39m=\u001b[39m filename\n\u001b[0;32m--> 297\u001b[0m     \u001b[39mreturn\u001b[39;00m _read_file_fiona(\n\u001b[1;32m    298\u001b[0m         path_or_bytes, from_bytes, bbox\u001b[39m=\u001b[39mbbox, mask\u001b[39m=\u001b[39mmask, rows\u001b[39m=\u001b[39mrows, \u001b[39m*\u001b[39m\u001b[39m*\u001b[39mkwargs\n\u001b[1;32m    299\u001b[0m     )\n\u001b[1;32m    301\u001b[0m \u001b[39melse\u001b[39;00m:\n\u001b[1;32m    302\u001b[0m     \u001b[39mraise\u001b[39;00m \u001b[39mValueError\u001b[39;00m(\u001b[39mf\u001b[39m\u001b[39m\"\u001b[39m\u001b[39munknown engine \u001b[39m\u001b[39m'\u001b[39m\u001b[39m{\u001b[39;00mengine\u001b[39m}\u001b[39;00m\u001b[39m'\u001b[39m\u001b[39m\"\u001b[39m)\n",
      "File \u001b[0;32m~/anaconda3/lib/python3.11/site-packages/geopandas/io/file.py:338\u001b[0m, in \u001b[0;36m_read_file_fiona\u001b[0;34m(path_or_bytes, from_bytes, bbox, mask, rows, where, **kwargs)\u001b[0m\n\u001b[1;32m    335\u001b[0m     reader \u001b[39m=\u001b[39m fiona\u001b[39m.\u001b[39mopen\n\u001b[1;32m    337\u001b[0m \u001b[39mwith\u001b[39;00m fiona_env():\n\u001b[0;32m--> 338\u001b[0m     \u001b[39mwith\u001b[39;00m reader(path_or_bytes, \u001b[39m*\u001b[39m\u001b[39m*\u001b[39mkwargs) \u001b[39mas\u001b[39;00m features:\n\u001b[1;32m    339\u001b[0m         crs \u001b[39m=\u001b[39m features\u001b[39m.\u001b[39mcrs_wkt\n\u001b[1;32m    340\u001b[0m         \u001b[39m# attempt to get EPSG code\u001b[39;00m\n",
      "File \u001b[0;32m~/anaconda3/lib/python3.11/site-packages/fiona/env.py:457\u001b[0m, in \u001b[0;36mensure_env_with_credentials.<locals>.wrapper\u001b[0;34m(*args, **kwds)\u001b[0m\n\u001b[1;32m    454\u001b[0m     session \u001b[39m=\u001b[39m DummySession()\n\u001b[1;32m    456\u001b[0m \u001b[39mwith\u001b[39;00m env_ctor(session\u001b[39m=\u001b[39msession):\n\u001b[0;32m--> 457\u001b[0m     \u001b[39mreturn\u001b[39;00m f(\u001b[39m*\u001b[39margs, \u001b[39m*\u001b[39m\u001b[39m*\u001b[39mkwds)\n",
      "File \u001b[0;32m~/anaconda3/lib/python3.11/site-packages/fiona/__init__.py:292\u001b[0m, in \u001b[0;36mopen\u001b[0;34m(fp, mode, driver, schema, crs, encoding, layer, vfs, enabled_drivers, crs_wkt, allow_unsupported_drivers, **kwargs)\u001b[0m\n\u001b[1;32m    289\u001b[0m     path \u001b[39m=\u001b[39m parse_path(fp)\n\u001b[1;32m    291\u001b[0m \u001b[39mif\u001b[39;00m mode \u001b[39min\u001b[39;00m (\u001b[39m\"\u001b[39m\u001b[39ma\u001b[39m\u001b[39m\"\u001b[39m, \u001b[39m\"\u001b[39m\u001b[39mr\u001b[39m\u001b[39m\"\u001b[39m):\n\u001b[0;32m--> 292\u001b[0m     colxn \u001b[39m=\u001b[39m Collection(\n\u001b[1;32m    293\u001b[0m         path,\n\u001b[1;32m    294\u001b[0m         mode,\n\u001b[1;32m    295\u001b[0m         driver\u001b[39m=\u001b[39mdriver,\n\u001b[1;32m    296\u001b[0m         encoding\u001b[39m=\u001b[39mencoding,\n\u001b[1;32m    297\u001b[0m         layer\u001b[39m=\u001b[39mlayer,\n\u001b[1;32m    298\u001b[0m         enabled_drivers\u001b[39m=\u001b[39menabled_drivers,\n\u001b[1;32m    299\u001b[0m         allow_unsupported_drivers\u001b[39m=\u001b[39mallow_unsupported_drivers,\n\u001b[1;32m    300\u001b[0m         \u001b[39m*\u001b[39m\u001b[39m*\u001b[39mkwargs\n\u001b[1;32m    301\u001b[0m     )\n\u001b[1;32m    302\u001b[0m \u001b[39melif\u001b[39;00m mode \u001b[39m==\u001b[39m \u001b[39m\"\u001b[39m\u001b[39mw\u001b[39m\u001b[39m\"\u001b[39m:\n\u001b[1;32m    303\u001b[0m     colxn \u001b[39m=\u001b[39m Collection(\n\u001b[1;32m    304\u001b[0m         path,\n\u001b[1;32m    305\u001b[0m         mode,\n\u001b[0;32m   (...)\u001b[0m\n\u001b[1;32m    314\u001b[0m         \u001b[39m*\u001b[39m\u001b[39m*\u001b[39mkwargs\n\u001b[1;32m    315\u001b[0m     )\n",
      "File \u001b[0;32m~/anaconda3/lib/python3.11/site-packages/fiona/collection.py:243\u001b[0m, in \u001b[0;36mCollection.__init__\u001b[0;34m(self, path, mode, driver, schema, crs, encoding, layer, vsi, archive, enabled_drivers, crs_wkt, ignore_fields, ignore_geometry, include_fields, wkt_version, allow_unsupported_drivers, **kwargs)\u001b[0m\n\u001b[1;32m    241\u001b[0m \u001b[39mif\u001b[39;00m \u001b[39mself\u001b[39m\u001b[39m.\u001b[39mmode \u001b[39m==\u001b[39m \u001b[39m\"\u001b[39m\u001b[39mr\u001b[39m\u001b[39m\"\u001b[39m:\n\u001b[1;32m    242\u001b[0m     \u001b[39mself\u001b[39m\u001b[39m.\u001b[39msession \u001b[39m=\u001b[39m Session()\n\u001b[0;32m--> 243\u001b[0m     \u001b[39mself\u001b[39m\u001b[39m.\u001b[39msession\u001b[39m.\u001b[39mstart(\u001b[39mself\u001b[39m, \u001b[39m*\u001b[39m\u001b[39m*\u001b[39mkwargs)\n\u001b[1;32m    244\u001b[0m \u001b[39melif\u001b[39;00m \u001b[39mself\u001b[39m\u001b[39m.\u001b[39mmode \u001b[39min\u001b[39;00m (\u001b[39m\"\u001b[39m\u001b[39ma\u001b[39m\u001b[39m\"\u001b[39m, \u001b[39m\"\u001b[39m\u001b[39mw\u001b[39m\u001b[39m\"\u001b[39m):\n\u001b[1;32m    245\u001b[0m     \u001b[39mself\u001b[39m\u001b[39m.\u001b[39msession \u001b[39m=\u001b[39m WritingSession()\n",
      "File \u001b[0;32mfiona/ogrext.pyx:588\u001b[0m, in \u001b[0;36mfiona.ogrext.Session.start\u001b[0;34m()\u001b[0m\n",
      "File \u001b[0;32mfiona/ogrext.pyx:143\u001b[0m, in \u001b[0;36mfiona.ogrext.gdal_open_vector\u001b[0;34m()\u001b[0m\n",
      "\u001b[0;31mDriverError\u001b[0m: ../data/open_address/original/nj_statewide-addresses-state.geojson: No such file or directory"
     ]
    }
   ],
   "source": [
    "# read in data as datframe\n",
    "input_path = '../data/open_address/original/nj_statewide-addresses-state.geojson'\n",
    "output_path = '../data/open_address/processed/nj_statewide-addresses-state'\n",
    "\n",
    "nj_df = geopandas.read_file(input_path)\n",
    "\n",
    "# print(nj_df.shape)\n",
    "# nj_df.head()"
   ]
  },
  {
   "cell_type": "code",
   "execution_count": null,
   "metadata": {},
   "outputs": [],
   "source": [
    "# filter on Newark postalcodes and district\n",
    "nj_df = nj_df[nj_df['city']=='NEWARK']\n",
    "\n",
    "# add missing column information\n",
    "nj_df['incorporated_place'] = 'Newark'\n",
    "nj_df['state'] = 'NJ'"
   ]
  },
  {
   "cell_type": "code",
   "execution_count": null,
   "metadata": {},
   "outputs": [],
   "source": [
    "# # get postcodes for each address\n",
    "# nj_df['postcode'] = nj_df.apply(lambda x: get_postcode(x.number+' '+x.street+', '+x.city+', '+x.state+', USA'), axis=1)"
   ]
  },
  {
   "cell_type": "code",
   "execution_count": null,
   "metadata": {},
   "outputs": [],
   "source": [
    "# save data as geojson data\n",
    "nj_geojson = df_to_geojson(nj_df)\n",
    "# save csv file of addresses for use in later functions\n",
    "nj_csv = nj_df.to_csv(output_path + \".csv.gz\", index=False)\n",
    "# save geojson data as geojson.gz file\n",
    "compress_geojson(nj_geojson, output_path + \".geojson.gz\")"
   ]
  },
  {
   "cell_type": "markdown",
   "metadata": {},
   "source": [
    "New York City, New York"
   ]
  },
  {
   "cell_type": "code",
   "execution_count": 29,
   "metadata": {},
   "outputs": [
    {
     "name": "stdout",
     "output_type": "stream",
     "text": [
      "(967381, 12)\n"
     ]
    },
    {
     "data": {
      "text/html": [
       "<div>\n",
       "<style scoped>\n",
       "    .dataframe tbody tr th:only-of-type {\n",
       "        vertical-align: middle;\n",
       "    }\n",
       "\n",
       "    .dataframe tbody tr th {\n",
       "        vertical-align: top;\n",
       "    }\n",
       "\n",
       "    .dataframe thead th {\n",
       "        text-align: right;\n",
       "    }\n",
       "</style>\n",
       "<table border=\"1\" class=\"dataframe\">\n",
       "  <thead>\n",
       "    <tr style=\"text-align: right;\">\n",
       "      <th></th>\n",
       "      <th>hash</th>\n",
       "      <th>number</th>\n",
       "      <th>street</th>\n",
       "      <th>unit</th>\n",
       "      <th>city</th>\n",
       "      <th>district</th>\n",
       "      <th>region</th>\n",
       "      <th>postcode</th>\n",
       "      <th>id</th>\n",
       "      <th>geometry</th>\n",
       "      <th>incorporated_place</th>\n",
       "      <th>state</th>\n",
       "    </tr>\n",
       "  </thead>\n",
       "  <tbody>\n",
       "    <tr>\n",
       "      <th>0</th>\n",
       "      <td>b48fa74626b88b0d</td>\n",
       "      <td>54</td>\n",
       "      <td>MACON ST</td>\n",
       "      <td></td>\n",
       "      <td>New York</td>\n",
       "      <td></td>\n",
       "      <td></td>\n",
       "      <td>11216</td>\n",
       "      <td>3066687</td>\n",
       "      <td>POINT (-73.94891 40.68102)</td>\n",
       "      <td>New York</td>\n",
       "      <td>NY</td>\n",
       "    </tr>\n",
       "    <tr>\n",
       "      <th>1</th>\n",
       "      <td>725c1c60ee5577b7</td>\n",
       "      <td>438</td>\n",
       "      <td>GATES AVE</td>\n",
       "      <td></td>\n",
       "      <td>New York</td>\n",
       "      <td></td>\n",
       "      <td></td>\n",
       "      <td>11216</td>\n",
       "      <td>3064205</td>\n",
       "      <td>POINT (-73.94867 40.68630)</td>\n",
       "      <td>New York</td>\n",
       "      <td>NY</td>\n",
       "    </tr>\n",
       "    <tr>\n",
       "      <th>2</th>\n",
       "      <td>67ea895ba357a0e5</td>\n",
       "      <td>442</td>\n",
       "      <td>GREENE AVE</td>\n",
       "      <td></td>\n",
       "      <td>New York</td>\n",
       "      <td></td>\n",
       "      <td></td>\n",
       "      <td>11216</td>\n",
       "      <td>3063204</td>\n",
       "      <td>POINT (-73.95303 40.68805)</td>\n",
       "      <td>New York</td>\n",
       "      <td>NY</td>\n",
       "    </tr>\n",
       "    <tr>\n",
       "      <th>3</th>\n",
       "      <td>7b0492ccc02c7520</td>\n",
       "      <td>411</td>\n",
       "      <td>TOMPKINS AVE</td>\n",
       "      <td></td>\n",
       "      <td>New York</td>\n",
       "      <td></td>\n",
       "      <td></td>\n",
       "      <td>11221</td>\n",
       "      <td>3065757</td>\n",
       "      <td>POINT (-73.94380 40.68348)</td>\n",
       "      <td>New York</td>\n",
       "      <td>NY</td>\n",
       "    </tr>\n",
       "    <tr>\n",
       "      <th>4</th>\n",
       "      <td>410c0c2df82022d3</td>\n",
       "      <td>290</td>\n",
       "      <td>HALSEY ST</td>\n",
       "      <td></td>\n",
       "      <td>New York</td>\n",
       "      <td></td>\n",
       "      <td></td>\n",
       "      <td>11216</td>\n",
       "      <td>3066531</td>\n",
       "      <td>POINT (-73.94227 40.68252)</td>\n",
       "      <td>New York</td>\n",
       "      <td>NY</td>\n",
       "    </tr>\n",
       "  </tbody>\n",
       "</table>\n",
       "</div>"
      ],
      "text/plain": [
       "               hash number        street unit      city district region  \\\n",
       "0  b48fa74626b88b0d     54      MACON ST       New York                   \n",
       "1  725c1c60ee5577b7    438     GATES AVE       New York                   \n",
       "2  67ea895ba357a0e5    442    GREENE AVE       New York                   \n",
       "3  7b0492ccc02c7520    411  TOMPKINS AVE       New York                   \n",
       "4  410c0c2df82022d3    290     HALSEY ST       New York                   \n",
       "\n",
       "  postcode       id                    geometry incorporated_place state  \n",
       "0    11216  3066687  POINT (-73.94891 40.68102)           New York    NY  \n",
       "1    11216  3064205  POINT (-73.94867 40.68630)           New York    NY  \n",
       "2    11216  3063204  POINT (-73.95303 40.68805)           New York    NY  \n",
       "3    11221  3065757  POINT (-73.94380 40.68348)           New York    NY  \n",
       "4    11216  3066531  POINT (-73.94227 40.68252)           New York    NY  "
      ]
     },
     "execution_count": 29,
     "metadata": {},
     "output_type": "execute_result"
    }
   ],
   "source": [
    "# read in data as datframe\n",
    "input_path = '../data/open_address/original/city_of_new_york-addresses-city.geojson'\n",
    "output_path = '../data/open_address/processed/city_of_new_york-addresses-city'\n",
    "\n",
    "ny_df = geopandas.read_file(input_path)\n",
    "# add missing column information\n",
    "ny_df['city'] = 'New York'\n",
    "ny_df['incorporated_place'] = 'New York'\n",
    "ny_df['state'] = 'NY'\n",
    "\n",
    "# print(ny_df.shape)\n",
    "# ny_df.head()"
   ]
  },
  {
   "cell_type": "code",
   "execution_count": null,
   "metadata": {},
   "outputs": [],
   "source": [
    "# # get postcodes for each address\n",
    "# ny_df['postcode'] = ny_df.apply(lambda x: get_postcode(x.number+' '+x.street+', '+x.city+', '+x.state+', USA'), axis=1)"
   ]
  },
  {
   "cell_type": "code",
   "execution_count": null,
   "metadata": {},
   "outputs": [],
   "source": [
    "# save data as geojson data\n",
    "ny_geojson = df_to_geojson(ny_df)\n",
    "# save csv file of addresses for use in later functions\n",
    "ny_csv = ny_df.to_csv(output_path + \".csv.gz\", index=False)\n",
    "# save geojson data as geojson.gz file\n",
    "compress_geojson(ny_geojson, output_path + \".geojson.gz\")"
   ]
  },
  {
   "cell_type": "markdown",
   "metadata": {},
   "source": [
    "Philadelphia, Pennsylvania"
   ]
  },
  {
   "cell_type": "code",
   "execution_count": 30,
   "metadata": {},
   "outputs": [],
   "source": [
    "# read in data as datframe\n",
    "input_path = '../data/open_address/original/philadelphia-addresses-county.geojson'\n",
    "output_path = '../data/open_address/processed/philadelphia-addresses-county'\n",
    "\n",
    "pa_df = geopandas.read_file(input_path)\n",
    "# add missing column information\n",
    "pa_df['city'] = 'Philadelphia'\n",
    "pa_df['incorporated_place'] = 'Philadelphia'\n",
    "pa_df['state'] = 'PA'\n",
    "\n",
    "# print(pa_df.shape)\n",
    "# pa_df.head()"
   ]
  },
  {
   "cell_type": "code",
   "execution_count": null,
   "metadata": {},
   "outputs": [],
   "source": [
    "# # get postcodes for each address\n",
    "# pa_df['postcode'] = pa_df.apply(lambda x: get_postcode(x.number+' '+x.street+', '+x.city+', '+x.state+', USA'), axis=1)"
   ]
  },
  {
   "cell_type": "code",
   "execution_count": null,
   "metadata": {},
   "outputs": [],
   "source": [
    "# save data as geojson data\n",
    "pa_geojson = df_to_geojson(pa_df)\n",
    "# save csv file of addresses for use in later functions\n",
    "pa_csv = pa_df.to_csv(output_path + \".csv.gz\", index=False)\n",
    "# save geojson data as geojson.gz file\n",
    "compress_geojson(pa_geojson, output_path + \".geojson.gz\")"
   ]
  },
  {
   "cell_type": "markdown",
   "metadata": {},
   "source": [
    "Providence, Rhode Island"
   ]
  },
  {
   "cell_type": "code",
   "execution_count": 31,
   "metadata": {},
   "outputs": [],
   "source": [
    "# read in data as datframe\n",
    "input_path = '../data/open_address/original/providence-addresses-city.geojson'\n",
    "output_path = '../data/open_address/processed/providence-addresses-city'\n",
    "\n",
    "ri_df = geopandas.read_file(input_path)\n",
    "# add missing column information\n",
    "ri_df['city'] = 'Providence'\n",
    "ri_df['incorporated_place'] = 'Providence'\n",
    "ri_df['state'] = 'RI'\n",
    "\n",
    "# print(ri_df.shape)\n",
    "# ri_df.head()"
   ]
  },
  {
   "cell_type": "code",
   "execution_count": null,
   "metadata": {},
   "outputs": [],
   "source": [
    "# # get postcodes for each address\n",
    "# ri_df['postcode'] = ri_df.apply(lambda x: get_postcode(x.number+' '+x.street+', '+x.city+', '+x.state+', USA'), axis=1)"
   ]
  },
  {
   "cell_type": "code",
   "execution_count": null,
   "metadata": {},
   "outputs": [],
   "source": [
    "# save data as geojson data\n",
    "ri_geojson = df_to_geojson(ri_df)\n",
    "# save csv file of addresses for use in later functions\n",
    "ri_csv = ri_df.to_csv(output_path + \".csv.gz\", index=False)\n",
    "# save geojson data as geojson.gz file\n",
    "compress_geojson(ri_geojson, output_path + \".geojson.gz\")"
   ]
  },
  {
   "cell_type": "markdown",
   "metadata": {},
   "source": [
    "Burlington, Vermont"
   ]
  },
  {
   "cell_type": "code",
   "execution_count": 32,
   "metadata": {},
   "outputs": [],
   "source": [
    "# read in data as datframe\n",
    "input_path = '../data/open_address/original/city_of_burlington-addresses-city.geojson'\n",
    "output_path = '../data/open_address/processed/city_of_burlington-addresses-city'\n",
    "\n",
    "vt_df = geopandas.read_file(input_path)\n",
    "# add missing column information\n",
    "vt_df['city'] = 'Burlington'\n",
    "vt_df['incorporated_place'] = 'Burlington'\n",
    "vt_df['state'] = 'VT'\n",
    "\n",
    "# print(vt_df.shape)\n",
    "# vt_df.head()"
   ]
  },
  {
   "cell_type": "code",
   "execution_count": null,
   "metadata": {},
   "outputs": [],
   "source": [
    "# # get postcodes for each address\n",
    "# vt_df['postcode'] = vt_df.apply(lambda x: get_postcode(x.number+' '+x.street+', '+x.city+', '+x.state+', USA'), axis=1)"
   ]
  },
  {
   "cell_type": "code",
   "execution_count": null,
   "metadata": {},
   "outputs": [],
   "source": [
    "# save data as geojson data\n",
    "vt_geojson = df_to_geojson(vt_df)\n",
    "# save csv file of addresses for use in later functions\n",
    "vt_csv = vt_df.to_csv(output_path + \".csv.gz\", index=False)\n",
    "# save geojson data as geojson.gz file\n",
    "compress_geojson(vt_geojson, output_path + \".geojson.gz\")"
   ]
  },
  {
   "cell_type": "code",
   "execution_count": null,
   "metadata": {},
   "outputs": [],
   "source": [
    "# # note: no postcode values\n",
    "# path = '../data/open_address/vt_df.csv.gz'\n",
    "# vt_df = addresses_df(path, 'Burlington', 'VT', 'Burlington')\n",
    "# vt_df.shape"
   ]
  },
  {
   "cell_type": "markdown",
   "metadata": {},
   "source": [
    "Norfolk, Virginia"
   ]
  },
  {
   "cell_type": "code",
   "execution_count": 33,
   "metadata": {},
   "outputs": [],
   "source": [
    "# read in data as datframe\n",
    "input_path = '../data/open_address/original/city_of_norfolk-addresses-city.geojson'\n",
    "output_path = '../data/open_address/processed/city_of_norfolk-addresses-city'\n",
    "\n",
    "va_df = geopandas.read_file(input_path)\n",
    "# add missing column information\n",
    "va_df['city'] = 'Norfolk'\n",
    "va_df['incorporated_place'] = 'Norfolk'\n",
    "va_df['state'] = 'VA'\n",
    "\n",
    "# print(va_df.shape)\n",
    "# va_df.head()"
   ]
  },
  {
   "cell_type": "code",
   "execution_count": null,
   "metadata": {},
   "outputs": [],
   "source": [
    "# # get postcodes for each address\n",
    "# va_df['postcode'] = va_df.apply(lambda x: get_postcode(x.number+' '+x.street+', '+x.city+', '+x.state+', USA'), axis=1)"
   ]
  },
  {
   "cell_type": "code",
   "execution_count": null,
   "metadata": {},
   "outputs": [],
   "source": [
    "# save data as geojson data\n",
    "va_geojson = df_to_geojson(va_df)\n",
    "# save csv file of addresses for use in later functions\n",
    "va_csv = va_df.to_csv(output_path + \".csv.gz\", index=False)\n",
    "# save geojson data as geojson.gz file\n",
    "compress_geojson(va_geojson, output_path + \".geojson.gz\")"
   ]
  },
  {
   "cell_type": "markdown",
   "metadata": {},
   "source": [
    "Charleston, West Virginia"
   ]
  },
  {
   "cell_type": "code",
   "execution_count": 34,
   "metadata": {},
   "outputs": [],
   "source": [
    "# read in data as datframe\n",
    "input_path = '../data/open_address/original/wv_statewide-addresses-state.geojson'\n",
    "output_path = '../data/open_address/processed/wv_statewide-addresses-state'\n",
    "\n",
    "wv_df = geopandas.read_file(input_path)\n",
    "\n",
    "# print(wv_df.shape)\n",
    "# wv_df.head()"
   ]
  },
  {
   "cell_type": "code",
   "execution_count": 35,
   "metadata": {},
   "outputs": [],
   "source": [
    "# filter on addresses in Charleston\n",
    "wv_df = wv_df[wv_df['city'] == 'Charleston']\n",
    "# add missing column information\n",
    "wv_df['incorporated_place'] = 'Charleston'\n",
    "wv_df['state'] = 'WV'"
   ]
  },
  {
   "cell_type": "code",
   "execution_count": null,
   "metadata": {},
   "outputs": [],
   "source": [
    "# # get postcodes for each address\n",
    "# wv_df['postcode'] = wv_df.apply(lambda x: get_postcode(x.number+' '+x.street+', '+x.city+', '+x.state+', USA'), axis=1)"
   ]
  },
  {
   "cell_type": "code",
   "execution_count": null,
   "metadata": {},
   "outputs": [],
   "source": [
    "# save data as geojson data\n",
    "wv_geojson = df_to_geojson(wv_df)\n",
    "# save csv file of addresses for use in later functions\n",
    "wv_csv = wv_df.to_csv(output_path + \".csv.gz\", index=False)\n",
    "# save geojson data as geojson.gz file\n",
    "compress_geojson(wv_geojson, output_path + \".geojson.gz\")"
   ]
  }
 ],
 "metadata": {
  "kernelspec": {
   "display_name": "Python 3",
   "language": "python",
   "name": "python3"
  },
  "language_info": {
   "codemirror_mode": {
    "name": "ipython",
    "version": 3
   },
   "file_extension": ".py",
   "mimetype": "text/x-python",
   "name": "python",
   "nbconvert_exporter": "python",
   "pygments_lexer": "ipython3",
   "version": "3.11.4"
  }
 },
 "nbformat": 4,
 "nbformat_minor": 2
}
