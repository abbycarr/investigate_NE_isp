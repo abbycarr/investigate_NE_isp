{
 "cells": [
  {
   "cell_type": "markdown",
   "metadata": {},
   "source": [
    "### Store All Addresses in Cities of Interest\n",
    "Addresses were downloaded from [OpenAddress](https://batch.openaddresses.io/data#map=0/0/0). The addresses collected correspond to the following cities and states.\n",
    "- Hartford, Connecticut\n",
    "- Dover, Delaware\n",
    "- District of Columbia\n",
    "- Portland, Maine\n",
    "- Baltimore, Maryland\n",
    "- Boston, Massachusetts\n",
    "- Nashua, New Hampshire\n",
    "- Newark, New Jersey\n",
    "- New York City, New York\n",
    "- Philadelphia, Pennsylvania\n",
    "- Providence, Rhode Island\n",
    "- Burlington, Vermont\n",
    "- Norfolk, Virginia\n",
    "- Charleston, West Virginia\n"
   ]
  },
  {
   "cell_type": "code",
   "execution_count": 2,
   "metadata": {},
   "outputs": [],
   "source": [
    "import geopandas\n",
    "import json\n",
    "import gzip\n",
    "from pandas_geojson import to_geojson\n",
    "from geopy.geocoders import Nominatim \n",
    "import regex as re\n",
    "import numpy as np\n",
    "import geocoder"
   ]
  },
  {
   "cell_type": "code",
   "execution_count": 3,
   "metadata": {},
   "outputs": [],
   "source": [
    "# transforms dataframe to geojson file\n",
    "def df_to_geojson(df):\n",
    "    df['lon'] = df['geometry'].apply(lambda x: str(x)[6:].split(' ')[0].replace('(', ''))\n",
    "    df['lat'] = df['geometry'].apply(lambda x: str(x)[6:].split(' ')[1].replace(')', ''))\n",
    "    \n",
    "    geojson_file = to_geojson(df=df, lat = 'lat', lon = 'lon', properties=['hash', 'number', 'street', 'unit', 'city', 'district', 'region', 'postcode', 'id', 'state', 'incorporated_place'])\n",
    "\n",
    "    return geojson_file"
   ]
  },
  {
   "cell_type": "code",
   "execution_count": 4,
   "metadata": {},
   "outputs": [],
   "source": [
    "# saves geojson data to geojson.gz file\n",
    "def compress_geojson(gejson_data, output_file):\n",
    "   with gzip.open(output_file, 'wt', encoding='utf-8') as f:\n",
    "        json.dump(gejson_data, f, ensure_ascii=False)"
   ]
  },
  {
   "cell_type": "markdown",
   "metadata": {},
   "source": [
    "!pip install -U googlemaps"
   ]
  },
  {
   "cell_type": "code",
   "execution_count": 22,
   "metadata": {},
   "outputs": [],
   "source": [
    "import googlemaps\n",
    "from datetime import datetime\n",
    "\n",
    "gmaps = googlemaps.Client(key=\"\")\n",
    "\n",
    "\n",
    "# get postcode and county for an address\n",
    "def get_postcode_county(lat, long, gmaps=gmaps):\n",
    "    resp = gmaps.reverse_geocode((lat, long))\n",
    "    if len(resp) < 1: \n",
    "        return[None, None]\n",
    "    post, county = \"\", \"\"\n",
    "    for component in resp[0][\"address_components\"]:\n",
    "        if \"administrative_area_level_2\" in component[\"types\"]:\n",
    "            county = component[\"long_name\"]\n",
    "        if \"postal_code\" in component[\"types\"]:\n",
    "            post = component[\"short_name\"] #same difference for postal code\n",
    "    return [post, county]"
   ]
  },
  {
   "cell_type": "code",
   "execution_count": 24,
   "metadata": {},
   "outputs": [],
   "source": [
    "def read_data(input_path, city, state):\n",
    "    \n",
    "    df = geopandas.read_file(input_path)\n",
    "    \n",
    "    # add missing column information\n",
    "    df['incorporated_place'] = city\n",
    "    df['state'] = state\n",
    "    \n",
    "    if len(df['city'].unique()) == 0:\n",
    "        df['city'] = city\n",
    "    \n",
    "    return df"
   ]
  },
  {
   "cell_type": "code",
   "execution_count": 38,
   "metadata": {},
   "outputs": [],
   "source": [
    "def add_postcode_county(df):\n",
    "    df[\"temp\"] = df.apply(\n",
    "        lambda x: get_postcode_county(x.geometry[0], x.geometry[1]), axis=1\n",
    "    )\n",
    "    print(df)\n",
    "\n",
    "    df[\"postcode\"] = df[\"temp\"].apply(lambda x: x[0])\n",
    "    df[\"district\"] = df[\"temp\"].apply(lambda x: x[1])\n",
    "\n",
    "    df.drop(columns=[\"temp\"], inplace=True)\n",
    "\n",
    "    return df"
   ]
  },
  {
   "cell_type": "markdown",
   "metadata": {},
   "source": [
    "Bridgeport, Connecticut"
   ]
  },
  {
   "cell_type": "code",
   "execution_count": 39,
   "metadata": {},
   "outputs": [],
   "source": [
    "# read in CT data as datframe\n",
    "input_path = '../data/open_address/original/city_of_hartford-addresses-city.geojson'\n",
    "output_path = '../data/open_address/processed/city_of_hartford-addresses-city'\n",
    "\n",
    "ct_df = read_data(input_path,'Hartford', 'CT')"
   ]
  },
  {
   "cell_type": "code",
   "execution_count": 40,
   "metadata": {},
   "outputs": [
    {
     "ename": "TypeError",
     "evalue": "'Point' object is not subscriptable",
     "output_type": "error",
     "traceback": [
      "\u001b[0;31m---------------------------------------------------------------------------\u001b[0m",
      "\u001b[0;31mTypeError\u001b[0m                                 Traceback (most recent call last)",
      "\u001b[1;32m/Users/abbycarr/Places_Things/investigate_NE_isp/wrangling/0-address_parsing.ipynb Cell 11\u001b[0m line \u001b[0;36m2\n\u001b[1;32m      <a href='vscode-notebook-cell:/Users/abbycarr/Places_Things/investigate_NE_isp/wrangling/0-address_parsing.ipynb#X12sZmlsZQ%3D%3D?line=0'>1</a>\u001b[0m \u001b[39m# get postcodes and county for each address\u001b[39;00m\n\u001b[0;32m----> <a href='vscode-notebook-cell:/Users/abbycarr/Places_Things/investigate_NE_isp/wrangling/0-address_parsing.ipynb#X12sZmlsZQ%3D%3D?line=1'>2</a>\u001b[0m ct_df \u001b[39m=\u001b[39m add_postcode_county(ct_df)\n\u001b[1;32m      <a href='vscode-notebook-cell:/Users/abbycarr/Places_Things/investigate_NE_isp/wrangling/0-address_parsing.ipynb#X12sZmlsZQ%3D%3D?line=3'>4</a>\u001b[0m \u001b[39mprint\u001b[39m(ct_df\u001b[39m.\u001b[39mshape)\n\u001b[1;32m      <a href='vscode-notebook-cell:/Users/abbycarr/Places_Things/investigate_NE_isp/wrangling/0-address_parsing.ipynb#X12sZmlsZQ%3D%3D?line=4'>5</a>\u001b[0m ct_df\u001b[39m.\u001b[39mhead()\n",
      "\u001b[1;32m/Users/abbycarr/Places_Things/investigate_NE_isp/wrangling/0-address_parsing.ipynb Cell 11\u001b[0m line \u001b[0;36m2\n\u001b[1;32m      <a href='vscode-notebook-cell:/Users/abbycarr/Places_Things/investigate_NE_isp/wrangling/0-address_parsing.ipynb#X12sZmlsZQ%3D%3D?line=0'>1</a>\u001b[0m \u001b[39mdef\u001b[39;00m \u001b[39madd_postcode_county\u001b[39m(df):\n\u001b[0;32m----> <a href='vscode-notebook-cell:/Users/abbycarr/Places_Things/investigate_NE_isp/wrangling/0-address_parsing.ipynb#X12sZmlsZQ%3D%3D?line=1'>2</a>\u001b[0m     df[\u001b[39m\"\u001b[39m\u001b[39mtemp\u001b[39m\u001b[39m\"\u001b[39m] \u001b[39m=\u001b[39m df\u001b[39m.\u001b[39mapply(\n\u001b[1;32m      <a href='vscode-notebook-cell:/Users/abbycarr/Places_Things/investigate_NE_isp/wrangling/0-address_parsing.ipynb#X12sZmlsZQ%3D%3D?line=2'>3</a>\u001b[0m         \u001b[39mlambda\u001b[39;00m x: get_postcode_county(x\u001b[39m.\u001b[39mgeometry[\u001b[39m0\u001b[39m], x\u001b[39m.\u001b[39mgeometry[\u001b[39m1\u001b[39m]), axis\u001b[39m=\u001b[39m\u001b[39m1\u001b[39m\n\u001b[1;32m      <a href='vscode-notebook-cell:/Users/abbycarr/Places_Things/investigate_NE_isp/wrangling/0-address_parsing.ipynb#X12sZmlsZQ%3D%3D?line=3'>4</a>\u001b[0m     )\n\u001b[1;32m      <a href='vscode-notebook-cell:/Users/abbycarr/Places_Things/investigate_NE_isp/wrangling/0-address_parsing.ipynb#X12sZmlsZQ%3D%3D?line=4'>5</a>\u001b[0m     \u001b[39mprint\u001b[39m(df)\n\u001b[1;32m      <a href='vscode-notebook-cell:/Users/abbycarr/Places_Things/investigate_NE_isp/wrangling/0-address_parsing.ipynb#X12sZmlsZQ%3D%3D?line=6'>7</a>\u001b[0m     df[\u001b[39m\"\u001b[39m\u001b[39mpostcode\u001b[39m\u001b[39m\"\u001b[39m] \u001b[39m=\u001b[39m df[\u001b[39m\"\u001b[39m\u001b[39mtemp\u001b[39m\u001b[39m\"\u001b[39m]\u001b[39m.\u001b[39mapply(\u001b[39mlambda\u001b[39;00m x: x[\u001b[39m0\u001b[39m])\n",
      "File \u001b[0;32m~/anaconda3/lib/python3.11/site-packages/geopandas/geodataframe.py:1586\u001b[0m, in \u001b[0;36mGeoDataFrame.apply\u001b[0;34m(self, func, axis, raw, result_type, args, **kwargs)\u001b[0m\n\u001b[1;32m   1584\u001b[0m \u001b[39m@doc\u001b[39m(pd\u001b[39m.\u001b[39mDataFrame)\n\u001b[1;32m   1585\u001b[0m \u001b[39mdef\u001b[39;00m \u001b[39mapply\u001b[39m(\u001b[39mself\u001b[39m, func, axis\u001b[39m=\u001b[39m\u001b[39m0\u001b[39m, raw\u001b[39m=\u001b[39m\u001b[39mFalse\u001b[39;00m, result_type\u001b[39m=\u001b[39m\u001b[39mNone\u001b[39;00m, args\u001b[39m=\u001b[39m(), \u001b[39m*\u001b[39m\u001b[39m*\u001b[39mkwargs):\n\u001b[0;32m-> 1586\u001b[0m     result \u001b[39m=\u001b[39m \u001b[39msuper\u001b[39m()\u001b[39m.\u001b[39mapply(\n\u001b[1;32m   1587\u001b[0m         func, axis\u001b[39m=\u001b[39maxis, raw\u001b[39m=\u001b[39mraw, result_type\u001b[39m=\u001b[39mresult_type, args\u001b[39m=\u001b[39margs, \u001b[39m*\u001b[39m\u001b[39m*\u001b[39mkwargs\n\u001b[1;32m   1588\u001b[0m     )\n\u001b[1;32m   1589\u001b[0m     \u001b[39m# pandas <1.4 re-attach last geometry col if lost\u001b[39;00m\n\u001b[1;32m   1590\u001b[0m     \u001b[39mif\u001b[39;00m (\n\u001b[1;32m   1591\u001b[0m         \u001b[39mnot\u001b[39;00m compat\u001b[39m.\u001b[39mPANDAS_GE_14\n\u001b[1;32m   1592\u001b[0m         \u001b[39mand\u001b[39;00m \u001b[39misinstance\u001b[39m(result, GeoDataFrame)\n\u001b[1;32m   1593\u001b[0m         \u001b[39mand\u001b[39;00m result\u001b[39m.\u001b[39m_geometry_column_name \u001b[39mis\u001b[39;00m \u001b[39mNone\u001b[39;00m\n\u001b[1;32m   1594\u001b[0m     ):\n",
      "File \u001b[0;32m~/anaconda3/lib/python3.11/site-packages/pandas/core/frame.py:10037\u001b[0m, in \u001b[0;36mDataFrame.apply\u001b[0;34m(self, func, axis, raw, result_type, args, by_row, **kwargs)\u001b[0m\n\u001b[1;32m  10025\u001b[0m \u001b[39mfrom\u001b[39;00m \u001b[39mpandas\u001b[39;00m\u001b[39m.\u001b[39;00m\u001b[39mcore\u001b[39;00m\u001b[39m.\u001b[39;00m\u001b[39mapply\u001b[39;00m \u001b[39mimport\u001b[39;00m frame_apply\n\u001b[1;32m  10027\u001b[0m op \u001b[39m=\u001b[39m frame_apply(\n\u001b[1;32m  10028\u001b[0m     \u001b[39mself\u001b[39m,\n\u001b[1;32m  10029\u001b[0m     func\u001b[39m=\u001b[39mfunc,\n\u001b[0;32m   (...)\u001b[0m\n\u001b[1;32m  10035\u001b[0m     kwargs\u001b[39m=\u001b[39mkwargs,\n\u001b[1;32m  10036\u001b[0m )\n\u001b[0;32m> 10037\u001b[0m \u001b[39mreturn\u001b[39;00m op\u001b[39m.\u001b[39mapply()\u001b[39m.\u001b[39m__finalize__(\u001b[39mself\u001b[39m, method\u001b[39m=\u001b[39m\u001b[39m\"\u001b[39m\u001b[39mapply\u001b[39m\u001b[39m\"\u001b[39m)\n",
      "File \u001b[0;32m~/anaconda3/lib/python3.11/site-packages/pandas/core/apply.py:837\u001b[0m, in \u001b[0;36mFrameApply.apply\u001b[0;34m(self)\u001b[0m\n\u001b[1;32m    834\u001b[0m \u001b[39melif\u001b[39;00m \u001b[39mself\u001b[39m\u001b[39m.\u001b[39mraw:\n\u001b[1;32m    835\u001b[0m     \u001b[39mreturn\u001b[39;00m \u001b[39mself\u001b[39m\u001b[39m.\u001b[39mapply_raw()\n\u001b[0;32m--> 837\u001b[0m \u001b[39mreturn\u001b[39;00m \u001b[39mself\u001b[39m\u001b[39m.\u001b[39mapply_standard()\n",
      "File \u001b[0;32m~/anaconda3/lib/python3.11/site-packages/pandas/core/apply.py:963\u001b[0m, in \u001b[0;36mFrameApply.apply_standard\u001b[0;34m(self)\u001b[0m\n\u001b[1;32m    962\u001b[0m \u001b[39mdef\u001b[39;00m \u001b[39mapply_standard\u001b[39m(\u001b[39mself\u001b[39m):\n\u001b[0;32m--> 963\u001b[0m     results, res_index \u001b[39m=\u001b[39m \u001b[39mself\u001b[39m\u001b[39m.\u001b[39mapply_series_generator()\n\u001b[1;32m    965\u001b[0m     \u001b[39m# wrap results\u001b[39;00m\n\u001b[1;32m    966\u001b[0m     \u001b[39mreturn\u001b[39;00m \u001b[39mself\u001b[39m\u001b[39m.\u001b[39mwrap_results(results, res_index)\n",
      "File \u001b[0;32m~/anaconda3/lib/python3.11/site-packages/pandas/core/apply.py:979\u001b[0m, in \u001b[0;36mFrameApply.apply_series_generator\u001b[0;34m(self)\u001b[0m\n\u001b[1;32m    976\u001b[0m \u001b[39mwith\u001b[39;00m option_context(\u001b[39m\"\u001b[39m\u001b[39mmode.chained_assignment\u001b[39m\u001b[39m\"\u001b[39m, \u001b[39mNone\u001b[39;00m):\n\u001b[1;32m    977\u001b[0m     \u001b[39mfor\u001b[39;00m i, v \u001b[39min\u001b[39;00m \u001b[39menumerate\u001b[39m(series_gen):\n\u001b[1;32m    978\u001b[0m         \u001b[39m# ignore SettingWithCopy here in case the user mutates\u001b[39;00m\n\u001b[0;32m--> 979\u001b[0m         results[i] \u001b[39m=\u001b[39m \u001b[39mself\u001b[39m\u001b[39m.\u001b[39mfunc(v, \u001b[39m*\u001b[39m\u001b[39mself\u001b[39m\u001b[39m.\u001b[39margs, \u001b[39m*\u001b[39m\u001b[39m*\u001b[39m\u001b[39mself\u001b[39m\u001b[39m.\u001b[39mkwargs)\n\u001b[1;32m    980\u001b[0m         \u001b[39mif\u001b[39;00m \u001b[39misinstance\u001b[39m(results[i], ABCSeries):\n\u001b[1;32m    981\u001b[0m             \u001b[39m# If we have a view on v, we need to make a copy because\u001b[39;00m\n\u001b[1;32m    982\u001b[0m             \u001b[39m#  series_generator will swap out the underlying data\u001b[39;00m\n\u001b[1;32m    983\u001b[0m             results[i] \u001b[39m=\u001b[39m results[i]\u001b[39m.\u001b[39mcopy(deep\u001b[39m=\u001b[39m\u001b[39mFalse\u001b[39;00m)\n",
      "\u001b[1;32m/Users/abbycarr/Places_Things/investigate_NE_isp/wrangling/0-address_parsing.ipynb Cell 11\u001b[0m line \u001b[0;36m3\n\u001b[1;32m      <a href='vscode-notebook-cell:/Users/abbycarr/Places_Things/investigate_NE_isp/wrangling/0-address_parsing.ipynb#X12sZmlsZQ%3D%3D?line=0'>1</a>\u001b[0m \u001b[39mdef\u001b[39;00m \u001b[39madd_postcode_county\u001b[39m(df):\n\u001b[1;32m      <a href='vscode-notebook-cell:/Users/abbycarr/Places_Things/investigate_NE_isp/wrangling/0-address_parsing.ipynb#X12sZmlsZQ%3D%3D?line=1'>2</a>\u001b[0m     df[\u001b[39m\"\u001b[39m\u001b[39mtemp\u001b[39m\u001b[39m\"\u001b[39m] \u001b[39m=\u001b[39m df\u001b[39m.\u001b[39mapply(\n\u001b[0;32m----> <a href='vscode-notebook-cell:/Users/abbycarr/Places_Things/investigate_NE_isp/wrangling/0-address_parsing.ipynb#X12sZmlsZQ%3D%3D?line=2'>3</a>\u001b[0m         \u001b[39mlambda\u001b[39;00m x: get_postcode_county(x\u001b[39m.\u001b[39mgeometry[\u001b[39m0\u001b[39m], x\u001b[39m.\u001b[39mgeometry[\u001b[39m1\u001b[39m]), axis\u001b[39m=\u001b[39m\u001b[39m1\u001b[39m\n\u001b[1;32m      <a href='vscode-notebook-cell:/Users/abbycarr/Places_Things/investigate_NE_isp/wrangling/0-address_parsing.ipynb#X12sZmlsZQ%3D%3D?line=3'>4</a>\u001b[0m     )\n\u001b[1;32m      <a href='vscode-notebook-cell:/Users/abbycarr/Places_Things/investigate_NE_isp/wrangling/0-address_parsing.ipynb#X12sZmlsZQ%3D%3D?line=4'>5</a>\u001b[0m     \u001b[39mprint\u001b[39m(df)\n\u001b[1;32m      <a href='vscode-notebook-cell:/Users/abbycarr/Places_Things/investigate_NE_isp/wrangling/0-address_parsing.ipynb#X12sZmlsZQ%3D%3D?line=6'>7</a>\u001b[0m     df[\u001b[39m\"\u001b[39m\u001b[39mpostcode\u001b[39m\u001b[39m\"\u001b[39m] \u001b[39m=\u001b[39m df[\u001b[39m\"\u001b[39m\u001b[39mtemp\u001b[39m\u001b[39m\"\u001b[39m]\u001b[39m.\u001b[39mapply(\u001b[39mlambda\u001b[39;00m x: x[\u001b[39m0\u001b[39m])\n",
      "\u001b[0;31mTypeError\u001b[0m: 'Point' object is not subscriptable"
     ]
    }
   ],
   "source": [
    "# get postcodes and county for each address\n",
    "ct_df = add_postcode_county(ct_df)\n",
    "\n",
    "print(ct_df.shape)\n",
    "ct_df.head()"
   ]
  },
  {
   "cell_type": "code",
   "execution_count": null,
   "metadata": {},
   "outputs": [],
   "source": [
    "# save data as geojson data\n",
    "ct_geojson = df_to_geojson(ct_df)\n",
    "# save csv file of addresses for use in later functions\n",
    "ct_csv = ct_df.to_csv(output_path + \".csv.gz\", index=False)\n",
    "# save geojson data as geojson.gz file\n",
    "compress_geojson(ct_geojson, output_path + \".geojson.gz\")"
   ]
  },
  {
   "cell_type": "markdown",
   "metadata": {},
   "source": [
    "Dover, Delaware"
   ]
  },
  {
   "cell_type": "code",
   "execution_count": 19,
   "metadata": {},
   "outputs": [],
   "source": [
    "# read in CT data as datframe\n",
    "input_path = '../data/open_address/original/city_of_dover-addresses-city.geojson'\n",
    "output_path = '../data/open_address/processed/city_of_dover-addresses-city'\n",
    "\n",
    "de_df = read_data(input_path, 'Dover', 'DE')"
   ]
  },
  {
   "cell_type": "code",
   "execution_count": null,
   "metadata": {},
   "outputs": [],
   "source": [
    "# get postcodes and county for each address\n",
    "de_df = add_postcode_county(de_df)\n",
    "\n",
    "print(de_df.shape)\n",
    "de_df.head()"
   ]
  },
  {
   "cell_type": "code",
   "execution_count": null,
   "metadata": {},
   "outputs": [],
   "source": [
    "# save data as geojson data\n",
    "de_geojson = df_to_geojson(de_df)\n",
    "# save csv file of addresses for use in later functions\n",
    "de_csv = de_df.to_csv(output_path + \".csv.gz\", index=False)\n",
    "# save geojson data as geojson.gz file\n",
    "compress_geojson(de_geojson, output_path + \".geojson.gz\")"
   ]
  },
  {
   "cell_type": "markdown",
   "metadata": {},
   "source": [
    "District of Columbia"
   ]
  },
  {
   "cell_type": "code",
   "execution_count": 20,
   "metadata": {},
   "outputs": [],
   "source": [
    "# read in DC data as datframe\n",
    "input_path = '../data/open_address/original/dc_statewide-addresses-city.geojson'\n",
    "output_path = '../data/open_address/processed/dc_statewide-addresses-city'\n",
    "\n",
    "dc_df = read_data(input_path, 'Washington', 'DC')"
   ]
  },
  {
   "cell_type": "code",
   "execution_count": null,
   "metadata": {},
   "outputs": [],
   "source": [
    "# get postcodes and county for each address\n",
    "de_df = add_postcode_county(de_df)\n",
    "\n",
    "print(dc_df.shape)\n",
    "dc_df.head()"
   ]
  },
  {
   "cell_type": "code",
   "execution_count": null,
   "metadata": {},
   "outputs": [],
   "source": [
    "# save data as geojson data\n",
    "dc_geojson = df_to_geojson(dc_df)\n",
    "# save csv file of addresses for use in later functions\n",
    "dc_csv = dc_df.to_csv(output_path + \".csv.gz\", index=False)\n",
    "# save geojson data as geojson.gz file\n",
    "compress_geojson(dc_geojson, output_path + \".geojson.gz\")"
   ]
  },
  {
   "cell_type": "markdown",
   "metadata": {},
   "source": [
    "Portland, Maine"
   ]
  },
  {
   "cell_type": "code",
   "execution_count": 21,
   "metadata": {},
   "outputs": [],
   "source": [
    "# read in data as datframe\n",
    "input_path = '../data/open_address/original/me_statewide-addresses-state.geojson'\n",
    "output_path = '../data/open_address/processed/me_statewide-addresses-state'\n",
    "\n",
    "me_df = read_data(input_path, 'Portland', 'ME')"
   ]
  },
  {
   "cell_type": "code",
   "execution_count": 22,
   "metadata": {},
   "outputs": [],
   "source": [
    "# filter by addresses in Portland\n",
    "portland_postcodes = ['04019', '04050', '04101', '04102', '04103', '04104', '04107', '04108', '04109', '04112', '04122', '04123', '04124']\n",
    "# filter addresses to keep only those with Portland postcodes\n",
    "me_df = me_df[me_df['postcode'].isin(portland_postcodes)]\n",
    "me_df = me_df[me_df['district']=='Cumberland']"
   ]
  },
  {
   "cell_type": "code",
   "execution_count": null,
   "metadata": {},
   "outputs": [],
   "source": [
    "# get postcodes and county for each address\n",
    "me_df = add_postcode_county(me_df)\n",
    "\n",
    "print(me_df.shape)\n",
    "me_df.head()"
   ]
  },
  {
   "cell_type": "code",
   "execution_count": null,
   "metadata": {},
   "outputs": [],
   "source": [
    "# save data as geojson data\n",
    "me_geojson = df_to_geojson(me_df)\n",
    "# save csv file of addresses for use in later functions\n",
    "me_csv = me_df.to_csv(output_path + \".csv.gz\", index=False)\n",
    "# save geojson data as geojson.gz file\n",
    "compress_geojson(me_geojson, output_path + \".geojson.gz\")"
   ]
  },
  {
   "cell_type": "markdown",
   "metadata": {},
   "source": [
    "Baltimore, Maryland"
   ]
  },
  {
   "cell_type": "code",
   "execution_count": 23,
   "metadata": {},
   "outputs": [],
   "source": [
    "# read in data as datframe\n",
    "input_path = '../data/open_address/original/city_of_baltimore-addresses-city.geojson'\n",
    "output_path = '../data/open_address/processed/city_of_baltimore-addresses-city'\n",
    "\n",
    "md_df = read_data(input_path, 'Baltimore', 'MD')"
   ]
  },
  {
   "cell_type": "code",
   "execution_count": null,
   "metadata": {},
   "outputs": [],
   "source": [
    "# get postcodes and county for each address\n",
    "md_df = add_postcode_county(md_df)\n",
    "\n",
    "print(md_df.shape)\n",
    "md_df.head()"
   ]
  },
  {
   "cell_type": "code",
   "execution_count": null,
   "metadata": {},
   "outputs": [],
   "source": [
    "# save data as geojson data\n",
    "md_geojson = df_to_geojson(md_df)\n",
    "# save csv file of addresses for use in later functions\n",
    "md_csv = md_df.to_csv(output_path + \".csv.gz\", index=False)\n",
    "# save geojson data as geojson.gz file\n",
    "compress_geojson(md_geojson, output_path + \".geojson.gz\")"
   ]
  },
  {
   "cell_type": "markdown",
   "metadata": {},
   "source": [
    "Boston, Massachusetts"
   ]
  },
  {
   "cell_type": "code",
   "execution_count": 24,
   "metadata": {},
   "outputs": [],
   "source": [
    "# read in DC data as datframe\n",
    "input_path = '../data/open_address/original/city_of_boston-addresses-city.geojson'\n",
    "output_path = '../data/open_address/processed/city_of_boston-addresses-city'\n",
    "\n",
    "ma_df = read_data(input_path, 'Boston', 'MA')"
   ]
  },
  {
   "cell_type": "code",
   "execution_count": null,
   "metadata": {},
   "outputs": [],
   "source": [
    "# get postcodes and county for each address\n",
    "ma_df = add_postcode_county(ma_df)\n",
    "\n",
    "print(ma_df.shape)\n",
    "ma_df.head()"
   ]
  },
  {
   "cell_type": "code",
   "execution_count": null,
   "metadata": {},
   "outputs": [],
   "source": [
    "# save data as geojson data\n",
    "ma_geojson = df_to_geojson(ma_df)\n",
    "# save csv file of addresses for use in later functions\n",
    "ma_csv = ma_df.to_csv(output_path + \".csv.gz\", index=False)\n",
    "# save geojson data as geojson.gz file\n",
    "compress_geojson(ma_geojson, output_path + \".geojson.gz\")"
   ]
  },
  {
   "cell_type": "markdown",
   "metadata": {},
   "source": [
    "Nashua, New Hampshire"
   ]
  },
  {
   "cell_type": "code",
   "execution_count": 25,
   "metadata": {},
   "outputs": [],
   "source": [
    "# read in data as datframe\n",
    "input_path = '../data/open_address/original/city_of_nashua-addresses-city.geojson'\n",
    "output_path = '../data/open_address/processed/city_of_nashua-addresses-city'\n",
    "\n",
    "nh_df = read_data(input_path, 'Nashua', 'NH')"
   ]
  },
  {
   "cell_type": "code",
   "execution_count": null,
   "metadata": {},
   "outputs": [],
   "source": [
    "# get postcodes and county for each address\n",
    "nh_df = add_postcode_county(nh_df)\n",
    "\n",
    "print(nh_df.shape)\n",
    "nh_df.head()"
   ]
  },
  {
   "cell_type": "code",
   "execution_count": null,
   "metadata": {},
   "outputs": [],
   "source": [
    "# save data as geojson data\n",
    "nh_geojson = df_to_geojson(nh_df)\n",
    "# save csv file of addresses for use in later functions\n",
    "nh_csv = nh_df.to_csv(output_path + \".csv.gz\", index=False)\n",
    "# save geojson data as geojson.gz file\n",
    "compress_geojson(nh_geojson, output_path + \".geojson.gz\")"
   ]
  },
  {
   "cell_type": "markdown",
   "metadata": {},
   "source": [
    "Newark, New Jersey"
   ]
  },
  {
   "cell_type": "code",
   "execution_count": 28,
   "metadata": {},
   "outputs": [],
   "source": [
    "# read in data as datframe\n",
    "input_path = '../data/open_address/original/nj_statewide-addresses-state.geojson'\n",
    "output_path = '../data/open_address/processed/nj_statewide-addresses-state'\n",
    "\n",
    "nj_df = read_data(input_path, 'Newark', 'NJ')"
   ]
  },
  {
   "cell_type": "code",
   "execution_count": null,
   "metadata": {},
   "outputs": [],
   "source": [
    "# filter on Newark postalcodes and district\n",
    "nj_df = nj_df[nj_df['city']=='NEWARK']"
   ]
  },
  {
   "cell_type": "code",
   "execution_count": null,
   "metadata": {},
   "outputs": [],
   "source": [
    "# get postcodes and county for each address\n",
    "nj_df = add_postcode_county(nj_df)\n",
    "\n",
    "print(nj_df.shape)\n",
    "nj_df.head()"
   ]
  },
  {
   "cell_type": "code",
   "execution_count": null,
   "metadata": {},
   "outputs": [],
   "source": [
    "# save data as geojson data\n",
    "nj_geojson = df_to_geojson(nj_df)\n",
    "# save csv file of addresses for use in later functions\n",
    "nj_csv = nj_df.to_csv(output_path + \".csv.gz\", index=False)\n",
    "# save geojson data as geojson.gz file\n",
    "compress_geojson(nj_geojson, output_path + \".geojson.gz\")"
   ]
  },
  {
   "cell_type": "markdown",
   "metadata": {},
   "source": [
    "New York City, New York"
   ]
  },
  {
   "cell_type": "code",
   "execution_count": null,
   "metadata": {},
   "outputs": [],
   "source": [
    "# read in data as datframe\n",
    "input_path = '../data/open_address/original/city_of_new_york-addresses-city.geojson'\n",
    "output_path = '../data/open_address/processed/city_of_new_york-addresses-city'\n",
    "\n",
    "ny_df  = read_data(input_path, 'New York', 'NY')"
   ]
  },
  {
   "cell_type": "code",
   "execution_count": null,
   "metadata": {},
   "outputs": [],
   "source": [
    "# get postcodes and county for each address\n",
    "ny_df = add_postcode_county(ny_df)\n",
    "\n",
    "print(ny_df.shape)\n",
    "ny_df.head()"
   ]
  },
  {
   "cell_type": "code",
   "execution_count": null,
   "metadata": {},
   "outputs": [],
   "source": [
    "# save data as geojson data\n",
    "ny_geojson = df_to_geojson(ny_df)\n",
    "# save csv file of addresses for use in later functions\n",
    "ny_csv = ny_df.to_csv(output_path + \".csv.gz\", index=False)\n",
    "# save geojson data as geojson.gz file\n",
    "compress_geojson(ny_geojson, output_path + \".geojson.gz\")"
   ]
  },
  {
   "cell_type": "markdown",
   "metadata": {},
   "source": [
    "Philadelphia, Pennsylvania"
   ]
  },
  {
   "cell_type": "code",
   "execution_count": null,
   "metadata": {},
   "outputs": [],
   "source": [
    "# read in data as datframe\n",
    "input_path = '../data/open_address/original/philadelphia-addresses-county.geojson'\n",
    "output_path = '../data/open_address/processed/philadelphia-addresses-county'\n",
    "\n",
    "pa_df = read_data(input_path, 'Philadelphia', 'PA')"
   ]
  },
  {
   "cell_type": "code",
   "execution_count": null,
   "metadata": {},
   "outputs": [],
   "source": [
    "# get postcodes and county for each address\n",
    "pa_df = add_postcode_county(pa_df)\n",
    "\n",
    "print(pa_df.shape)\n",
    "pa_df.head()"
   ]
  },
  {
   "cell_type": "code",
   "execution_count": null,
   "metadata": {},
   "outputs": [],
   "source": [
    "# save data as geojson data\n",
    "pa_geojson = df_to_geojson(pa_df)\n",
    "# save csv file of addresses for use in later functions\n",
    "pa_csv = pa_df.to_csv(output_path + \".csv.gz\", index=False)\n",
    "# save geojson data as geojson.gz file\n",
    "compress_geojson(pa_geojson, output_path + \".geojson.gz\")"
   ]
  },
  {
   "cell_type": "markdown",
   "metadata": {},
   "source": [
    "Providence, Rhode Island"
   ]
  },
  {
   "cell_type": "code",
   "execution_count": null,
   "metadata": {},
   "outputs": [],
   "source": [
    "# read in data as datframe\n",
    "input_path = '../data/open_address/original/providence-addresses-city.geojson'\n",
    "output_path = '../data/open_address/processed/providence-addresses-city'\n",
    "\n",
    "ri_df = read_data(input_path, 'Providence', 'RI')"
   ]
  },
  {
   "cell_type": "code",
   "execution_count": null,
   "metadata": {},
   "outputs": [],
   "source": [
    "# get postcodes and county for each address\n",
    "ri_df = add_postcode_county(ri_df)\n",
    "\n",
    "print(ri_df.shape)\n",
    "ri_df.head()"
   ]
  },
  {
   "cell_type": "code",
   "execution_count": null,
   "metadata": {},
   "outputs": [],
   "source": [
    "# save data as geojson data\n",
    "ri_geojson = df_to_geojson(ri_df)\n",
    "# save csv file of addresses for use in later functions\n",
    "ri_csv = ri_df.to_csv(output_path + \".csv.gz\", index=False)\n",
    "# save geojson data as geojson.gz file\n",
    "compress_geojson(ri_geojson, output_path + \".geojson.gz\")"
   ]
  },
  {
   "cell_type": "markdown",
   "metadata": {},
   "source": [
    "Burlington, Vermont"
   ]
  },
  {
   "cell_type": "code",
   "execution_count": null,
   "metadata": {},
   "outputs": [],
   "source": [
    "# read in data as datframe\n",
    "input_path = '../data/open_address/original/city_of_burlington-addresses-city.geojson'\n",
    "output_path = '../data/open_address/processed/city_of_burlington-addresses-city'\n",
    "\n",
    "vt_df = read_data(input_path, 'Burlington', 'VT')"
   ]
  },
  {
   "cell_type": "code",
   "execution_count": null,
   "metadata": {},
   "outputs": [],
   "source": [
    "# get postcodes and county for each address\n",
    "vt_df = add_postcode_county(vt_df)\n",
    "\n",
    "print(vt_df.shape)\n",
    "vt_df.head()"
   ]
  },
  {
   "cell_type": "code",
   "execution_count": null,
   "metadata": {},
   "outputs": [],
   "source": [
    "# save data as geojson data\n",
    "vt_geojson = df_to_geojson(vt_df)\n",
    "# save csv file of addresses for use in later functions\n",
    "vt_csv = vt_df.to_csv(output_path + \".csv.gz\", index=False)\n",
    "# save geojson data as geojson.gz file\n",
    "compress_geojson(vt_geojson, output_path + \".geojson.gz\")"
   ]
  },
  {
   "cell_type": "code",
   "execution_count": null,
   "metadata": {},
   "outputs": [],
   "source": [
    "# # note: no postcode values\n",
    "# path = '../data/open_address/vt_df.csv.gz'\n",
    "# vt_df = addresses_df(path, 'Burlington', 'VT', 'Burlington')\n",
    "# vt_df.shape"
   ]
  },
  {
   "cell_type": "markdown",
   "metadata": {},
   "source": [
    "Norfolk, Virginia"
   ]
  },
  {
   "cell_type": "code",
   "execution_count": null,
   "metadata": {},
   "outputs": [],
   "source": [
    "# read in data as datframe\n",
    "input_path = '../data/open_address/original/city_of_norfolk-addresses-city.geojson'\n",
    "output_path = '../data/open_address/processed/city_of_norfolk-addresses-city'\n",
    "\n",
    "va_df = read_data(input_path, 'Norfolk', 'VA')"
   ]
  },
  {
   "cell_type": "code",
   "execution_count": null,
   "metadata": {},
   "outputs": [],
   "source": [
    "# get postcodes and county for each address\n",
    "va_df = add_postcode_county(va_df)\n",
    "\n",
    "print(va_df.shape)\n",
    "va_df.head()"
   ]
  },
  {
   "cell_type": "code",
   "execution_count": null,
   "metadata": {},
   "outputs": [],
   "source": [
    "# save data as geojson data\n",
    "va_geojson = df_to_geojson(va_df)\n",
    "# save csv file of addresses for use in later functions\n",
    "va_csv = va_df.to_csv(output_path + \".csv.gz\", index=False)\n",
    "# save geojson data as geojson.gz file\n",
    "compress_geojson(va_geojson, output_path + \".geojson.gz\")"
   ]
  },
  {
   "cell_type": "markdown",
   "metadata": {},
   "source": [
    "Charleston, West Virginia"
   ]
  },
  {
   "cell_type": "code",
   "execution_count": 1,
   "metadata": {},
   "outputs": [
    {
     "ename": "NameError",
     "evalue": "name 'read_data' is not defined",
     "output_type": "error",
     "traceback": [
      "\u001b[0;31m---------------------------------------------------------------------------\u001b[0m",
      "\u001b[0;31mNameError\u001b[0m                                 Traceback (most recent call last)",
      "\u001b[1;32m/Users/abbycarr/Places_Things/investigate_NE_isp/wrangling/0-address_parsing.ipynb Cell 64\u001b[0m line \u001b[0;36m5\n\u001b[1;32m      <a href='vscode-notebook-cell:/Users/abbycarr/Places_Things/investigate_NE_isp/wrangling/0-address_parsing.ipynb#Y120sZmlsZQ%3D%3D?line=1'>2</a>\u001b[0m input_path \u001b[39m=\u001b[39m \u001b[39m'\u001b[39m\u001b[39m../data/open_address/original/wv_statewide-addresses-state.geojson\u001b[39m\u001b[39m'\u001b[39m\n\u001b[1;32m      <a href='vscode-notebook-cell:/Users/abbycarr/Places_Things/investigate_NE_isp/wrangling/0-address_parsing.ipynb#Y120sZmlsZQ%3D%3D?line=2'>3</a>\u001b[0m output_path \u001b[39m=\u001b[39m \u001b[39m'\u001b[39m\u001b[39m../data/open_address/processed/wv_statewide-addresses-state\u001b[39m\u001b[39m'\u001b[39m\n\u001b[0;32m----> <a href='vscode-notebook-cell:/Users/abbycarr/Places_Things/investigate_NE_isp/wrangling/0-address_parsing.ipynb#Y120sZmlsZQ%3D%3D?line=4'>5</a>\u001b[0m wv_df \u001b[39m=\u001b[39m read_data(input_path, \u001b[39m'\u001b[39m\u001b[39mCharleston\u001b[39m\u001b[39m'\u001b[39m, \u001b[39m'\u001b[39m\u001b[39mWV\u001b[39m\u001b[39m'\u001b[39m)\n",
      "\u001b[0;31mNameError\u001b[0m: name 'read_data' is not defined"
     ]
    }
   ],
   "source": [
    "# read in data as datframe\n",
    "input_path = '../data/open_address/original/wv_statewide-addresses-state.geojson'\n",
    "output_path = '../data/open_address/processed/wv_statewide-addresses-state'\n",
    "\n",
    "wv_df = read_data(input_path, 'Charleston', 'WV')"
   ]
  },
  {
   "cell_type": "code",
   "execution_count": null,
   "metadata": {},
   "outputs": [],
   "source": [
    "# filter on addresses in Charleston\n",
    "wv_df = wv_df[wv_df['city'] == 'Charleston']"
   ]
  },
  {
   "cell_type": "code",
   "execution_count": null,
   "metadata": {},
   "outputs": [],
   "source": [
    "# get postcodes and county for each address\n",
    "wv_df = add_postcode_county(wv_df)\n",
    "\n",
    "print(wv_df.shape)\n",
    "wv_df.head()"
   ]
  },
  {
   "cell_type": "code",
   "execution_count": null,
   "metadata": {},
   "outputs": [],
   "source": [
    "# save data as geojson data\n",
    "wv_geojson = df_to_geojson(wv_df)\n",
    "# save csv file of addresses for use in later functions\n",
    "wv_csv = wv_df.to_csv(output_path + \".csv.gz\", index=False)\n",
    "# save geojson data as geojson.gz file\n",
    "compress_geojson(wv_geojson, output_path + \".geojson.gz\")"
   ]
  }
 ],
 "metadata": {
  "kernelspec": {
   "display_name": "Python 3",
   "language": "python",
   "name": "python3"
  },
  "language_info": {
   "codemirror_mode": {
    "name": "ipython",
    "version": 3
   },
   "file_extension": ".py",
   "mimetype": "text/x-python",
   "name": "python",
   "nbconvert_exporter": "python",
   "pygments_lexer": "ipython3",
   "version": "3.11.4"
  }
 },
 "nbformat": 4,
 "nbformat_minor": 2
}
