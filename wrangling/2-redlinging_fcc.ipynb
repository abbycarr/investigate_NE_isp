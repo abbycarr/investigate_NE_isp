{
 "cells": [
  {
   "cell_type": "markdown",
   "metadata": {},
   "source": [
    "## FCC and Redlining Features"
   ]
  },
  {
   "cell_type": "markdown",
   "metadata": {},
   "source": [
    "As **input**, this notebook requires you to provide the path to the census files and the FCC Form 477 File.\n",
    "\n",
    "As **output**, this notebook requires you to define the path you'd like to save the output DataFrame to.\n",
    "\n",
    "Please set the **rerun** variable to **True** to regenerate existing files."
   ]
  },
  {
   "cell_type": "code",
   "execution_count": null,
   "metadata": {},
   "outputs": [],
   "source": [
    "import glob as glob\n",
    "\n",
    "# Set Input Paths\n",
    "directory = \"\"  # set beginning of path if needed\n",
    "addresses = \"data/address/original/xxx\"\n",
    "fcc_direct = \"data/input/redlining/xxx\"\n",
    "\n",
    "# Set Output Paths\n",
    "append_redline = \"data/address/transformation1/xxx\""
   ]
  },
  {
   "cell_type": "markdown",
   "metadata": {},
   "source": [
    "This page is additionally meant to take **input** of a Pandas DataFrame containing the following columns: \n",
    "\n",
    "{...\n",
    "\n",
    "CLASS `Address`: (contains `addressfull` methods)\n",
    "- `self.line1 = firstline`\n",
    "- `self.line2 = secondline`\n",
    "- `self.city = city`\n",
    "- `self.state = state`\n",
    "- `self.zipcode = zipcode`\n",
    "- `self.apt_type = apt_type`\n",
    "- `self.apt_number = apt_number`\n",
    "\n",
    "ADDITIONALLY:\n",
    "- `latitude`\n",
    "- `longitude`\n",
    "\n",
    "...}"
   ]
  },
  {
   "cell_type": "markdown",
   "metadata": {},
   "source": [
    "This page is meant to **SAVE** and **output** the following feature appended to the input \".geojson\":\n",
    "\n",
    "{...\n",
    " \n",
    " REDLINING FEATURE:\n",
    "  - `redlining_grade = redlining grade, merged from Mapping Inequality based on the lat and lon of the address`\n",
    "\n",
    "  FCC FEATURES:\n",
    "  - `n_providers = the number of other wired competitors in the addresses' Census block group. Sourced from FCC Form 477`\n",
    "  \n",
    "...}\n"
   ]
  },
  {
   "cell_type": "code",
   "execution_count": null,
   "metadata": {},
   "outputs": [],
   "source": [
    "# Relevant Code\n",
    "import json\n",
    "from tqdm import tqdm\n",
    "import pandas as pd\n",
    "from shapely.geometry.polygon import Polygon\n",
    "from config import state2redlining\n",
    "\n",
    "\n",
    "## Redlining\n",
    "def get_holc_grade(row: dict, polygons: list) -> str:\n",
    "    \"\"\"\n",
    "    Converts any lat and lon in a dictionary into a shapely point,\n",
    "    then iterate through a list of dictionaries containing\n",
    "    shapely polygons shapes for each HOLC-graded area.\n",
    "    \"\"\"\n",
    "    point = Point(float(row[\"lon\"]), float(row[\"lat\"]))\n",
    "    for polygon in polygons:\n",
    "        if polygon[\"shape\"].contains(point):\n",
    "            return polygon[\"grade\"]\n",
    "    return None\n",
    "\n",
    "\n",
    "def check_redlining(df: pd.DataFrame) -> pd.DataFrame:\n",
    "    \"\"\"\n",
    "    Get redlining grades for each address in \"df\".\n",
    "    Note: we use city-level HOLC grades, but index on state.\n",
    "    Thanks for the Mapping Inequality project for digitizing the maps,\n",
    "    which are stored in `../data/input/redlining`.\n",
    "    \"\"\"\n",
    "    data = []\n",
    "    for state, _df in tqdm(df.groupby(\"state\")):\n",
    "        # read redlining maps for each city in `df`.\n",
    "        files = state2redlining.get(state, [])\n",
    "        polygons = []\n",
    "        if files:\n",
    "            for fn in files:\n",
    "                geojson = json.load(open(fn))\n",
    "                for record in geojson[\"features\"]:\n",
    "                    shape = Polygon(record[\"geometry\"][\"coordinates\"][0][0])\n",
    "                    grade = record[\"properties\"][\"holc_grade\"]\n",
    "                    polygons.append({\"shape\": shape, \"grade\": grade})\n",
    "            _df[\"redlining_grade\"] = _df.apply(\n",
    "                get_holc_grade, polygons=polygons, axis=1\n",
    "            )\n",
    "        data.extend(_df.to_dict(orient=\"records\"))\n",
    "    return pd.DataFrame(data)"
   ]
  }
 ],
 "metadata": {
  "language_info": {
   "name": "python"
  }
 },
 "nbformat": 4,
 "nbformat_minor": 2
}
